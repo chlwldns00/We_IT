version https://git-lfs.github.com/spec/v1
oid sha256:e5cf635e894f813cb265ba2223dc775a83bca33e89cad39507ed45765df6b3a7
size 863
