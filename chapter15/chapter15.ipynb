{
 "cells": [
  {
   "cell_type": "markdown",
   "metadata": {},
   "source": [
    "<h2>15-2 소득 예측 모델 만들기</h2>"
   ]
  },
  {
   "cell_type": "code",
   "execution_count": 1,
   "metadata": {},
   "outputs": [
    {
     "name": "stdout",
     "output_type": "stream",
     "text": [
      "<class 'pandas.core.frame.DataFrame'>\n",
      "RangeIndex: 48842 entries, 0 to 48841\n",
      "Data columns (total 15 columns):\n",
      " #   Column          Non-Null Count  Dtype \n",
      "---  ------          --------------  ----- \n",
      " 0   age             48842 non-null  int64 \n",
      " 1   workclass       48842 non-null  object\n",
      " 2   fnlwgt          48842 non-null  int64 \n",
      " 3   education       48842 non-null  object\n",
      " 4   education_num   48842 non-null  int64 \n",
      " 5   marital_status  48842 non-null  object\n",
      " 6   occupation      48842 non-null  object\n",
      " 7   relationship    48842 non-null  object\n",
      " 8   race            48842 non-null  object\n",
      " 9   sex             48842 non-null  object\n",
      " 10  capital_gain    48842 non-null  int64 \n",
      " 11  capital_loss    48842 non-null  int64 \n",
      " 12  hours_per_week  48842 non-null  int64 \n",
      " 13  native_country  48842 non-null  object\n",
      " 14  income          48842 non-null  object\n",
      "dtypes: int64(6), object(9)\n",
      "memory usage: 5.6+ MB\n"
     ]
    }
   ],
   "source": [
    "# adult 데이터 불러와서 구조 살펴보기\n",
    "import pandas as pd\n",
    "df = pd.read_csv('D:/WE_IT/doit/bookdata/adult.csv')\n",
    "df.info()"
   ]
  },
  {
   "cell_type": "markdown",
   "metadata": {},
   "source": [
    "adult 데이터는 48842명의 정보를 담고 있으며 변수 15개로 구성됨. \n",
    "<br> 이중 연소득을 나타낸 income을 타겟 변수, 나머지 14개를 예측 변수로 사용."
   ]
  },
  {
   "cell_type": "markdown",
   "metadata": {},
   "source": [
    "<hr>"
   ]
  },
  {
   "cell_type": "markdown",
   "metadata": {},
   "source": [
    "<h3>모델을 만드는 절차 - 1. 전처리하기</h3>"
   ]
  },
  {
   "cell_type": "markdown",
   "metadata": {},
   "source": [
    "1. 타겟 변수 전처리\n",
    "<br>income은 조사 응답자의 연소득이 5만 달러를 초과하는지 여부를 나타냄"
   ]
  },
  {
   "cell_type": "code",
   "execution_count": 2,
   "metadata": {},
   "outputs": [
    {
     "data": {
      "text/plain": [
       "income\n",
       "<=50K    0.760718\n",
       ">50K     0.239282\n",
       "Name: proportion, dtype: float64"
      ]
     },
     "execution_count": 2,
     "metadata": {},
     "output_type": "execute_result"
    }
   ],
   "source": [
    "df['income'].value_counts(normalize = True)   # normalize = True 를 적어야 상대적인 빈도를 계산함"
   ]
  },
  {
   "cell_type": "code",
   "execution_count": 3,
   "metadata": {},
   "outputs": [
    {
     "data": {
      "text/plain": [
       "income\n",
       "low     0.760718\n",
       "high    0.239282\n",
       "Name: proportion, dtype: float64"
      ]
     },
     "execution_count": 3,
     "metadata": {},
     "output_type": "execute_result"
    }
   ],
   "source": [
    "# 5만 달러를 초과하면 high, 그렇지 않으면 low로 값을 수정\n",
    "import numpy as np\n",
    "df['income'] = np.where(df['income'] == '>50K', 'high', 'low')\n",
    "df['income'].value_counts(normalize = True)"
   ]
  },
  {
   "cell_type": "markdown",
   "metadata": {},
   "source": [
    "2. 불필요한 변수 제거하기\n",
    "<br>이름, 아이디, 주소 등의 변수는 대부분의 값이 고유값이어서 반복되는 패턴이 없고 타겟 변수와도 관련성이 없음.\n",
    "<br>fnlwgt는 adult 데이터를 이용해 미국의 실제 인구를 추정할 때 사용하는 가중치로 인종,성별,나이 등 인구 통계 속성이 같으면 fnlwgt가 같음. \n",
    "<br>따라서 타겟 변수를 예측하는데 도움이 되지 않는 변수이므로 제거."
   ]
  },
  {
   "cell_type": "code",
   "execution_count": 4,
   "metadata": {},
   "outputs": [],
   "source": [
    "df = df.drop(columns = 'fnlwgt')"
   ]
  },
  {
   "cell_type": "markdown",
   "metadata": {},
   "source": [
    "3. 문자 타입 변수를 숫자 타입으로 바꾸기\n",
    "<br>모델을 만드는 데 사용되는 모든 변수는 숫자 타입이어야 함."
   ]
  },
  {
   "cell_type": "markdown",
   "metadata": {},
   "source": [
    "[원핫 인코딩하기]\n",
    "<br>값을 1과 0으로 바꾸는 방법"
   ]
  },
  {
   "cell_type": "code",
   "execution_count": 5,
   "metadata": {},
   "outputs": [
    {
     "name": "stdout",
     "output_type": "stream",
     "text": [
      "<class 'pandas.core.frame.DataFrame'>\n",
      "RangeIndex: 48842 entries, 0 to 48841\n",
      "Data columns (total 1 columns):\n",
      " #   Column  Non-Null Count  Dtype \n",
      "---  ------  --------------  ----- \n",
      " 0   sex     48842 non-null  object\n",
      "dtypes: object(1)\n",
      "memory usage: 381.7+ KB\n"
     ]
    }
   ],
   "source": [
    "df_tmp = df[['sex']]\n",
    "df_tmp.info()"
   ]
  },
  {
   "cell_type": "markdown",
   "metadata": {},
   "source": [
    "출력 결과 문자 타입 변수임."
   ]
  },
  {
   "cell_type": "code",
   "execution_count": 6,
   "metadata": {},
   "outputs": [
    {
     "data": {
      "text/plain": [
       "sex\n",
       "Male      32650\n",
       "Female    16192\n",
       "Name: count, dtype: int64"
      ]
     },
     "execution_count": 6,
     "metadata": {},
     "output_type": "execute_result"
    }
   ],
   "source": [
    "df_tmp['sex'].value_counts()"
   ]
  },
  {
   "cell_type": "code",
   "execution_count": 7,
   "metadata": {},
   "outputs": [
    {
     "name": "stdout",
     "output_type": "stream",
     "text": [
      "<class 'pandas.core.frame.DataFrame'>\n",
      "RangeIndex: 48842 entries, 0 to 48841\n",
      "Data columns (total 2 columns):\n",
      " #   Column      Non-Null Count  Dtype\n",
      "---  ------      --------------  -----\n",
      " 0   sex_Female  48842 non-null  bool \n",
      " 1   sex_Male    48842 non-null  bool \n",
      "dtypes: bool(2)\n",
      "memory usage: 95.5 KB\n"
     ]
    }
   ],
   "source": [
    "# df_tmp의 문자 타입 변수에 원핫 인코딩 적용\n",
    "df_tmp = pd.get_dummies(df_tmp)\n",
    "df_tmp.info()"
   ]
  },
  {
   "cell_type": "markdown",
   "metadata": {},
   "source": [
    "pd.get_dummies()에 데이터 프레임을 입력하면 문자 타입 변수를 원핫 인코딩을 적용해 변환함.\n",
    "<br>출력 결과 sex가 사라지고 sex_Female과 sex_Male이 만들어졌는데 sex_Female은 sex가 Female이면 1, 그렇지 않으면 0으로 된 변수."
   ]
  },
  {
   "cell_type": "code",
   "execution_count": 8,
   "metadata": {},
   "outputs": [
    {
     "name": "stdout",
     "output_type": "stream",
     "text": [
      "<class 'pandas.core.frame.DataFrame'>\n",
      "RangeIndex: 48842 entries, 0 to 48841\n",
      "Columns: 108 entries, age to income\n",
      "dtypes: bool(102), int64(5), object(1)\n",
      "memory usage: 7.0+ MB\n"
     ]
    }
   ],
   "source": [
    "# 타겟 변수인 income만 원래대로 유지하고, 모든 문자 타입 변수를 원핫 인코딩\n",
    "target = df['income']                        # income 추출\n",
    "\n",
    "df=df.drop(columns = 'income')               # income 제거\n",
    "df = pd.get_dummies(df)                      # 문자 타입 변수 원핫 인코딩\n",
    "\n",
    "df['income'] = target                        # df에 target 삽입\n",
    "df.info()"
   ]
  },
  {
   "cell_type": "markdown",
   "metadata": {},
   "source": [
    "출력 결과에 개별 변수의 정보가 출력되지 않았는데, 변수가 100개 이하일 때만 변수를 출력하도록 설정되어 있기 때문.\n",
    "<br>max_cols = np.inf를 입력하면 변수의 수와 관계없이 모든 변수의 정보를 출력함."
   ]
  },
  {
   "cell_type": "code",
   "execution_count": 9,
   "metadata": {},
   "outputs": [
    {
     "name": "stdout",
     "output_type": "stream",
     "text": [
      "<class 'pandas.core.frame.DataFrame'>\n",
      "RangeIndex: 48842 entries, 0 to 48841\n",
      "Data columns (total 108 columns):\n",
      " #    Column                                     Non-Null Count  Dtype \n",
      "---   ------                                     --------------  ----- \n",
      " 0    age                                        48842 non-null  int64 \n",
      " 1    education_num                              48842 non-null  int64 \n",
      " 2    capital_gain                               48842 non-null  int64 \n",
      " 3    capital_loss                               48842 non-null  int64 \n",
      " 4    hours_per_week                             48842 non-null  int64 \n",
      " 5    workclass_?                                48842 non-null  bool  \n",
      " 6    workclass_Federal-gov                      48842 non-null  bool  \n",
      " 7    workclass_Local-gov                        48842 non-null  bool  \n",
      " 8    workclass_Never-worked                     48842 non-null  bool  \n",
      " 9    workclass_Private                          48842 non-null  bool  \n",
      " 10   workclass_Self-emp-inc                     48842 non-null  bool  \n",
      " 11   workclass_Self-emp-not-inc                 48842 non-null  bool  \n",
      " 12   workclass_State-gov                        48842 non-null  bool  \n",
      " 13   workclass_Without-pay                      48842 non-null  bool  \n",
      " 14   education_10th                             48842 non-null  bool  \n",
      " 15   education_11th                             48842 non-null  bool  \n",
      " 16   education_12th                             48842 non-null  bool  \n",
      " 17   education_1st-4th                          48842 non-null  bool  \n",
      " 18   education_5th-6th                          48842 non-null  bool  \n",
      " 19   education_7th-8th                          48842 non-null  bool  \n",
      " 20   education_9th                              48842 non-null  bool  \n",
      " 21   education_Assoc-acdm                       48842 non-null  bool  \n",
      " 22   education_Assoc-voc                        48842 non-null  bool  \n",
      " 23   education_Bachelors                        48842 non-null  bool  \n",
      " 24   education_Doctorate                        48842 non-null  bool  \n",
      " 25   education_HS-grad                          48842 non-null  bool  \n",
      " 26   education_Masters                          48842 non-null  bool  \n",
      " 27   education_Preschool                        48842 non-null  bool  \n",
      " 28   education_Prof-school                      48842 non-null  bool  \n",
      " 29   education_Some-college                     48842 non-null  bool  \n",
      " 30   marital_status_Divorced                    48842 non-null  bool  \n",
      " 31   marital_status_Married-AF-spouse           48842 non-null  bool  \n",
      " 32   marital_status_Married-civ-spouse          48842 non-null  bool  \n",
      " 33   marital_status_Married-spouse-absent       48842 non-null  bool  \n",
      " 34   marital_status_Never-married               48842 non-null  bool  \n",
      " 35   marital_status_Separated                   48842 non-null  bool  \n",
      " 36   marital_status_Widowed                     48842 non-null  bool  \n",
      " 37   occupation_?                               48842 non-null  bool  \n",
      " 38   occupation_Adm-clerical                    48842 non-null  bool  \n",
      " 39   occupation_Armed-Forces                    48842 non-null  bool  \n",
      " 40   occupation_Craft-repair                    48842 non-null  bool  \n",
      " 41   occupation_Exec-managerial                 48842 non-null  bool  \n",
      " 42   occupation_Farming-fishing                 48842 non-null  bool  \n",
      " 43   occupation_Handlers-cleaners               48842 non-null  bool  \n",
      " 44   occupation_Machine-op-inspct               48842 non-null  bool  \n",
      " 45   occupation_Other-service                   48842 non-null  bool  \n",
      " 46   occupation_Priv-house-serv                 48842 non-null  bool  \n",
      " 47   occupation_Prof-specialty                  48842 non-null  bool  \n",
      " 48   occupation_Protective-serv                 48842 non-null  bool  \n",
      " 49   occupation_Sales                           48842 non-null  bool  \n",
      " 50   occupation_Tech-support                    48842 non-null  bool  \n",
      " 51   occupation_Transport-moving                48842 non-null  bool  \n",
      " 52   relationship_Husband                       48842 non-null  bool  \n",
      " 53   relationship_Not-in-family                 48842 non-null  bool  \n",
      " 54   relationship_Other-relative                48842 non-null  bool  \n",
      " 55   relationship_Own-child                     48842 non-null  bool  \n",
      " 56   relationship_Unmarried                     48842 non-null  bool  \n",
      " 57   relationship_Wife                          48842 non-null  bool  \n",
      " 58   race_Amer-Indian-Eskimo                    48842 non-null  bool  \n",
      " 59   race_Asian-Pac-Islander                    48842 non-null  bool  \n",
      " 60   race_Black                                 48842 non-null  bool  \n",
      " 61   race_Other                                 48842 non-null  bool  \n",
      " 62   race_White                                 48842 non-null  bool  \n",
      " 63   sex_Female                                 48842 non-null  bool  \n",
      " 64   sex_Male                                   48842 non-null  bool  \n",
      " 65   native_country_?                           48842 non-null  bool  \n",
      " 66   native_country_Cambodia                    48842 non-null  bool  \n",
      " 67   native_country_Canada                      48842 non-null  bool  \n",
      " 68   native_country_China                       48842 non-null  bool  \n",
      " 69   native_country_Columbia                    48842 non-null  bool  \n",
      " 70   native_country_Cuba                        48842 non-null  bool  \n",
      " 71   native_country_Dominican-Republic          48842 non-null  bool  \n",
      " 72   native_country_Ecuador                     48842 non-null  bool  \n",
      " 73   native_country_El-Salvador                 48842 non-null  bool  \n",
      " 74   native_country_England                     48842 non-null  bool  \n",
      " 75   native_country_France                      48842 non-null  bool  \n",
      " 76   native_country_Germany                     48842 non-null  bool  \n",
      " 77   native_country_Greece                      48842 non-null  bool  \n",
      " 78   native_country_Guatemala                   48842 non-null  bool  \n",
      " 79   native_country_Haiti                       48842 non-null  bool  \n",
      " 80   native_country_Holand-Netherlands          48842 non-null  bool  \n",
      " 81   native_country_Honduras                    48842 non-null  bool  \n",
      " 82   native_country_Hong                        48842 non-null  bool  \n",
      " 83   native_country_Hungary                     48842 non-null  bool  \n",
      " 84   native_country_India                       48842 non-null  bool  \n",
      " 85   native_country_Iran                        48842 non-null  bool  \n",
      " 86   native_country_Ireland                     48842 non-null  bool  \n",
      " 87   native_country_Italy                       48842 non-null  bool  \n",
      " 88   native_country_Jamaica                     48842 non-null  bool  \n",
      " 89   native_country_Japan                       48842 non-null  bool  \n",
      " 90   native_country_Laos                        48842 non-null  bool  \n",
      " 91   native_country_Mexico                      48842 non-null  bool  \n",
      " 92   native_country_Nicaragua                   48842 non-null  bool  \n",
      " 93   native_country_Outlying-US(Guam-USVI-etc)  48842 non-null  bool  \n",
      " 94   native_country_Peru                        48842 non-null  bool  \n",
      " 95   native_country_Philippines                 48842 non-null  bool  \n",
      " 96   native_country_Poland                      48842 non-null  bool  \n",
      " 97   native_country_Portugal                    48842 non-null  bool  \n",
      " 98   native_country_Puerto-Rico                 48842 non-null  bool  \n",
      " 99   native_country_Scotland                    48842 non-null  bool  \n",
      " 100  native_country_South                       48842 non-null  bool  \n",
      " 101  native_country_Taiwan                      48842 non-null  bool  \n",
      " 102  native_country_Thailand                    48842 non-null  bool  \n",
      " 103  native_country_Trinadad&Tobago             48842 non-null  bool  \n",
      " 104  native_country_United-States               48842 non-null  bool  \n",
      " 105  native_country_Vietnam                     48842 non-null  bool  \n",
      " 106  native_country_Yugoslavia                  48842 non-null  bool  \n",
      " 107  income                                     48842 non-null  object\n",
      "dtypes: bool(102), int64(5), object(1)\n",
      "memory usage: 7.0+ MB\n"
     ]
    }
   ],
   "source": [
    "import numpy as np\n",
    "df.info(max_cols = np.inf)"
   ]
  },
  {
   "cell_type": "markdown",
   "metadata": {},
   "source": [
    "4. 데이터 분할하기\n",
    "<br>모델을 만들 때는 가지고 있는 모든 데이터를 사용하는 게 아니라 일부만 무작위로 추출해 사용해야 함.\n",
    "<br>\n",
    "<ul>\n",
    "  <li>크로스 밸리데이션(cross validation, 교차 검증) : 데이터를 분할히 일부는 모델을 만들 때 사용하고 나머지는 평가할 때 사용하는 방법.</li>\n",
    "  <li>트레이닝 세트(training set, 훈련 세트) : 분할한 데이터 중에서 모델을 만들 때 사용하는 데이터.</li>\n",
    "  <li>테스트 세트(test set, 시험 세트) : 성능을 평가할 때 사용하는 데이터.</li></ul>"
   ]
  },
  {
   "cell_type": "markdown",
   "metadata": {},
   "source": [
    "[adult 데이터 분할하기]\n",
    "<br>scikit-learn(줄여서 sklearn)패키지를 이용해 데이터를 트레이닝 세트와 테스트 세트로 분할함.\n",
    "<br>sklearn.mode_selection의 train_test_split()을 이용하면 데이터를 트레이닝 세트와 테스트 세트로 분할 가능.\n",
    "<br>\n",
    "<br>train_test_split()의 파라미터\n",
    "<ul>\n",
    "<li>test_size : 테스트 세트의 비율. 보통 트레이닝 세트와 테스트 세트의 비율을 7:3 또는 8:2로 하지만 데이터가 많을수록 트레이닝 세트의 비율을 늘리고 데이터가 적을수록 테스트 세트의 비율을 늘림.</li>\n",
    "<li>stratify : 범주별 비율을 통일할 변수. 여기에 타겟 변수를 입력하면 트레이닝 세트와 테스트 세트에 타겟 변수의 범주별 비율을 비슷하게 맞춰줌. 이렇게 하지 않으면 평가 결과를 신뢰하기 어려움.</li>\n",
    "<li>random_state : 난수 초깃값. train_test_split()은 난수를 이용해 무작위로 추출하므로 함수를 실행할 때마다 추출되는 데이터가 조금씩 달라짐. 난수를 고정하면 코드를 반복 실행해도 항상 같은 데이터가 조금씩 달라짐.</li></ul>\n",
    "\n"
   ]
  },
  {
   "cell_type": "code",
   "execution_count": 10,
   "metadata": {},
   "outputs": [],
   "source": [
    "from sklearn.model_selection import train_test_split\n",
    "# 함수의 출력 결과를 df_train, df_test 두 변수에 할당 (트레이닝 세트가 앞, 테스트 세트가 뒤)\n",
    "df_train, df_test = train_test_split(df,\n",
    "                                     test_size = 0.3,            # 테스트 세트 비율\n",
    "                                     stratify = df['income'],    # 타겟 변수 비율 유지\n",
    "                                     random_state = 1234)        # 난수 고정"
   ]
  },
  {
   "cell_type": "code",
   "execution_count": 11,
   "metadata": {},
   "outputs": [
    {
     "data": {
      "text/plain": [
       "(34189, 108)"
      ]
     },
     "execution_count": 11,
     "metadata": {},
     "output_type": "execute_result"
    }
   ],
   "source": [
    "\n",
    "# train\n",
    "df_train.shape"
   ]
  },
  {
   "cell_type": "code",
   "execution_count": 12,
   "metadata": {},
   "outputs": [
    {
     "data": {
      "text/plain": [
       "(14653, 108)"
      ]
     },
     "execution_count": 12,
     "metadata": {},
     "output_type": "execute_result"
    }
   ],
   "source": [
    "# test\n",
    "df_test.shape"
   ]
  },
  {
   "cell_type": "markdown",
   "metadata": {},
   "source": [
    "출력 결과 변수는 108개로 같고 행의 수는 다름."
   ]
  },
  {
   "cell_type": "code",
   "execution_count": 13,
   "metadata": {},
   "outputs": [
    {
     "data": {
      "text/plain": [
       "income\n",
       "low     0.760713\n",
       "high    0.239287\n",
       "Name: proportion, dtype: float64"
      ]
     },
     "execution_count": 13,
     "metadata": {},
     "output_type": "execute_result"
    }
   ],
   "source": [
    "# train\n",
    "df_train['income'].value_counts(normalize = True)"
   ]
  },
  {
   "cell_type": "code",
   "execution_count": 14,
   "metadata": {},
   "outputs": [
    {
     "data": {
      "text/plain": [
       "income\n",
       "low     0.760732\n",
       "high    0.239268\n",
       "Name: proportion, dtype: float64"
      ]
     },
     "execution_count": 14,
     "metadata": {},
     "output_type": "execute_result"
    }
   ],
   "source": [
    "# test\n",
    "df_test['income'].value_counts(normalize = True)"
   ]
  },
  {
   "cell_type": "markdown",
   "metadata": {},
   "source": [
    "출력 결과 타겟 변수의 범주별 비율은 두 데이터 세트 모두 비슷. stratify에 타겟 변수를 지정해줬기 때문."
   ]
  },
  {
   "cell_type": "markdown",
   "metadata": {},
   "source": [
    "<hr>"
   ]
  },
  {
   "cell_type": "markdown",
   "metadata": {},
   "source": [
    "<h3>모델을 만드는 절차 - 2. 의사결정나무 모델 만들기</h3>"
   ]
  },
  {
   "cell_type": "markdown",
   "metadata": {},
   "source": [
    "모델을 만들 때는 df_train을 사용. (df_test는 마지막에 모델을 평가할 때 사용함)\n",
    "<br>\n",
    "<br>\n",
    " 1. 모델 설정하기 \n",
    "<br>sklearn의 tree.DecisionTreeClassifier() 클래스를 이용하면 의사결정나무 모델을 만들 수 있음.\n",
    "<br>\n",
    "<br>tree.DecisionTreeClassifier()의 파라미터\n",
    "<ul>\n",
    "<li>random state : 난수 초기값. 난수를 고정해야 코드를 여러 번 실행해도 결과가 항상 같음.</li>\n",
    "<li>max_depth : 나무의 깊이, 노드를 최대 몇 번까지 분할할지 정함. 숫자가 클수록 노드를 여러 번 분할해 복잡한 모델을 만듦.\n",
    " <br> 값을 지정하지 않으면 노드를 최대한 많이 분할함.</li>\n",
    "</ul>"
   ]
  },
  {
   "cell_type": "code",
   "execution_count": 15,
   "metadata": {},
   "outputs": [],
   "source": [
    "# 모델을 만드는 데 사용할 clf 만듦\n",
    "from sklearn import tree\n",
    "clf = tree.DecisionTreeClassifier(random_state = 1234,   # 난수 고정\n",
    "                                  max_depth = 3)         # 나무 깊이"
   ]
  },
  {
   "cell_type": "markdown",
   "metadata": {},
   "source": [
    "2. 모델 만들기"
   ]
  },
  {
   "cell_type": "markdown",
   "metadata": {},
   "source": [
    "clf.fit()의 X에는 예측 변수, y에는 타겟 변수를 입력함. 이때 X는 대문자인 것 주의!!"
   ]
  },
  {
   "cell_type": "code",
   "execution_count": 16,
   "metadata": {},
   "outputs": [],
   "source": [
    "train_x = df_train.drop(columns = 'income')   # 예측 변수 추출\n",
    "train_y = df_train['income']                  # 타겟 변수 추출\n",
    "\n",
    "model = clf.fit(X = train_x, y = train_y)     # 모델 만들기"
   ]
  },
  {
   "cell_type": "markdown",
   "metadata": {},
   "source": [
    "3. 모델 구조 살펴보기\n",
    "<br>tree.plot.tree()을 이용하면 모델을 시각화할 수 있음."
   ]
  },
  {
   "cell_type": "code",
   "execution_count": 17,
   "metadata": {},
   "outputs": [
    {
     "data": {
      "image/png": "[encoded data removed]",
      "text/plain": [
       "<Figure size 1200x800 with 1 Axes>"
      ]
     },
     "metadata": {},
     "output_type": "display_data"
    }
   ],
   "source": [
    "import matplotlib.pyplot as plt\n",
    "plt.rcParams.update({'figure.dpi'      : '100',     # 해상도 설정\n",
    "                     'figure.figsize'  : [12, 8]})  # 그래프 크기 설정\n",
    "tree.plot_tree(model);                              # 그래프 출력 (출력 코드 뒤에 ;를 입력하면 메시지 제외하고 그래프만 출력)"
   ]
  },
  {
   "cell_type": "markdown",
   "metadata": {},
   "source": [
    "tree.plot_tree()에 파라미터를 추가하여 그래프를 보기 좋게 수정"
   ]
  },
  {
   "cell_type": "code",
   "execution_count": 18,
   "metadata": {},
   "outputs": [
    {
     "data": {
      "image/png": "[encoded data removed]",
      "text/plain": [
       "<Figure size 1200x800 with 1 Axes>"
      ]
     },
     "metadata": {},
     "output_type": "display_data"
    }
   ],
   "source": [
    "tree.plot_tree(model,\n",
    "               feature_names = train_x.columns,    # 예측변수명\n",
    "               class_names = ['high', 'low'],      # 타겟 변수 클래스, 알파벳순\n",
    "               proportion = True,                  # 비율 표기\n",
    "               filled = True,                      # 색칠\n",
    "               rounded = True,                     # 둥근 테두리\n",
    "               impurity = False,                   # 불순도 표시\n",
    "               label = 'root',                     # label 표시 위치\n",
    "               fontsize = 10);                     # 글자 크기"
   ]
  },
  {
   "cell_type": "markdown",
   "metadata": {},
   "source": [
    "첫 번째 노드를 이용해 그래프를 해석하는 방법을 알아보면\n",
    "<br>1) 분리 기준 (노드를 분리할 때 사용하는 기준으로, 이 기준을 충족하는 데이터는 왼쪽, 충족하지 않는 데이터는 오른쪽 노드로 할당됨.)\n",
    "<br>2) 노드에 해당하는 관측치 비율 (지금은 한 번도 나뉘지 않았으므로 데이터의 100%가 여기에 속함)\n",
    "<br>3) 타겟 변수의 클래스별 비율 (타겟변수income의 high가 low보다 알파벳 순으로 우선하므로 high, low순으로 비율이 표시되어 있음. 전체 데이터 중 high가 23.9%, low가 76.1%임)\n",
    "<br>4) 우세한 클래스:0.5기준 으로 나와있음. (0.5를 기준으로 타겟 변수의 두 클래스 중 어느 쪽이 더 많은지가 표시됨.)\n",
    "<br>\n",
    "<br>\n",
    "<br> 노드의 색깔은 우세한 타겟 변수의 클래스에 따라 정해짐. 위에서는 high의 비율이 높은 노드는 주황색, low의 비율이 높은 노드는 파란색 계열로 표시되어 있음.\n",
    "<br> 노드의 색농도는 '한 클래스의 구성 비율이 우세한 정도'를 나타냄. 한 클래스의 비율이 다른 클래스보다 높을수록 농도가 진함."
   ]
  },
  {
   "cell_type": "markdown",
   "metadata": {},
   "source": [
    "<hr>"
   ]
  },
  {
   "cell_type": "markdown",
   "metadata": {},
   "source": [
    "<h3>모델을 만드는 절차 - 3-1. 모델을 이용해 예측하기</h3>"
   ]
  },
  {
   "cell_type": "markdown",
   "metadata": {},
   "source": [
    "위에서 만든 모델을 활용해 새 데이터의 타겟 변수를 예측하는 방법"
   ]
  },
  {
   "cell_type": "code",
   "execution_count": 19,
   "metadata": {},
   "outputs": [],
   "source": [
    "test_x = df_test.drop(columns = 'income')   # 예측 변수 추출\n",
    "test_y = df_test['income']                  # 타겟 변수 추출"
   ]
  },
  {
   "cell_type": "markdown",
   "metadata": {},
   "source": [
    "model.predict()를 이용하면 모델을 이용해 새 데이터의 타겟 변수 값을 예측할 수 있음."
   ]
  },
  {
   "cell_type": "code",
   "execution_count": 20,
   "metadata": {},
   "outputs": [
    {
     "data": {
      "text/html": [
       "<div>\n",
       "<style scoped>\n",
       "    .dataframe tbody tr th:only-of-type {\n",
       "        vertical-align: middle;\n",
       "    }\n",
       "\n",
       "    .dataframe tbody tr th {\n",
       "        vertical-align: top;\n",
       "    }\n",
       "\n",
       "    .dataframe thead th {\n",
       "        text-align: right;\n",
       "    }\n",
       "</style>\n",
       "<table border=\"1\" class=\"dataframe\">\n",
       "  <thead>\n",
       "    <tr style=\"text-align: right;\">\n",
       "      <th></th>\n",
       "      <th>age</th>\n",
       "      <th>education_num</th>\n",
       "      <th>capital_gain</th>\n",
       "      <th>capital_loss</th>\n",
       "      <th>hours_per_week</th>\n",
       "      <th>workclass_?</th>\n",
       "      <th>workclass_Federal-gov</th>\n",
       "      <th>workclass_Local-gov</th>\n",
       "      <th>workclass_Never-worked</th>\n",
       "      <th>workclass_Private</th>\n",
       "      <th>...</th>\n",
       "      <th>native_country_Scotland</th>\n",
       "      <th>native_country_South</th>\n",
       "      <th>native_country_Taiwan</th>\n",
       "      <th>native_country_Thailand</th>\n",
       "      <th>native_country_Trinadad&amp;Tobago</th>\n",
       "      <th>native_country_United-States</th>\n",
       "      <th>native_country_Vietnam</th>\n",
       "      <th>native_country_Yugoslavia</th>\n",
       "      <th>income</th>\n",
       "      <th>pred</th>\n",
       "    </tr>\n",
       "  </thead>\n",
       "  <tbody>\n",
       "    <tr>\n",
       "      <th>11712</th>\n",
       "      <td>58</td>\n",
       "      <td>10</td>\n",
       "      <td>0</td>\n",
       "      <td>0</td>\n",
       "      <td>60</td>\n",
       "      <td>False</td>\n",
       "      <td>False</td>\n",
       "      <td>False</td>\n",
       "      <td>False</td>\n",
       "      <td>False</td>\n",
       "      <td>...</td>\n",
       "      <td>False</td>\n",
       "      <td>False</td>\n",
       "      <td>False</td>\n",
       "      <td>False</td>\n",
       "      <td>False</td>\n",
       "      <td>True</td>\n",
       "      <td>False</td>\n",
       "      <td>False</td>\n",
       "      <td>low</td>\n",
       "      <td>low</td>\n",
       "    </tr>\n",
       "    <tr>\n",
       "      <th>24768</th>\n",
       "      <td>39</td>\n",
       "      <td>10</td>\n",
       "      <td>0</td>\n",
       "      <td>0</td>\n",
       "      <td>40</td>\n",
       "      <td>False</td>\n",
       "      <td>False</td>\n",
       "      <td>False</td>\n",
       "      <td>False</td>\n",
       "      <td>True</td>\n",
       "      <td>...</td>\n",
       "      <td>False</td>\n",
       "      <td>False</td>\n",
       "      <td>False</td>\n",
       "      <td>False</td>\n",
       "      <td>False</td>\n",
       "      <td>False</td>\n",
       "      <td>False</td>\n",
       "      <td>False</td>\n",
       "      <td>low</td>\n",
       "      <td>low</td>\n",
       "    </tr>\n",
       "    <tr>\n",
       "      <th>26758</th>\n",
       "      <td>31</td>\n",
       "      <td>4</td>\n",
       "      <td>0</td>\n",
       "      <td>0</td>\n",
       "      <td>20</td>\n",
       "      <td>False</td>\n",
       "      <td>False</td>\n",
       "      <td>False</td>\n",
       "      <td>False</td>\n",
       "      <td>True</td>\n",
       "      <td>...</td>\n",
       "      <td>False</td>\n",
       "      <td>False</td>\n",
       "      <td>False</td>\n",
       "      <td>False</td>\n",
       "      <td>False</td>\n",
       "      <td>True</td>\n",
       "      <td>False</td>\n",
       "      <td>False</td>\n",
       "      <td>low</td>\n",
       "      <td>low</td>\n",
       "    </tr>\n",
       "    <tr>\n",
       "      <th>14295</th>\n",
       "      <td>23</td>\n",
       "      <td>9</td>\n",
       "      <td>0</td>\n",
       "      <td>0</td>\n",
       "      <td>40</td>\n",
       "      <td>False</td>\n",
       "      <td>False</td>\n",
       "      <td>False</td>\n",
       "      <td>False</td>\n",
       "      <td>True</td>\n",
       "      <td>...</td>\n",
       "      <td>False</td>\n",
       "      <td>False</td>\n",
       "      <td>False</td>\n",
       "      <td>False</td>\n",
       "      <td>False</td>\n",
       "      <td>True</td>\n",
       "      <td>False</td>\n",
       "      <td>False</td>\n",
       "      <td>low</td>\n",
       "      <td>low</td>\n",
       "    </tr>\n",
       "    <tr>\n",
       "      <th>3683</th>\n",
       "      <td>24</td>\n",
       "      <td>9</td>\n",
       "      <td>0</td>\n",
       "      <td>0</td>\n",
       "      <td>40</td>\n",
       "      <td>False</td>\n",
       "      <td>False</td>\n",
       "      <td>False</td>\n",
       "      <td>False</td>\n",
       "      <td>True</td>\n",
       "      <td>...</td>\n",
       "      <td>False</td>\n",
       "      <td>False</td>\n",
       "      <td>False</td>\n",
       "      <td>False</td>\n",
       "      <td>False</td>\n",
       "      <td>True</td>\n",
       "      <td>False</td>\n",
       "      <td>False</td>\n",
       "      <td>low</td>\n",
       "      <td>low</td>\n",
       "    </tr>\n",
       "    <tr>\n",
       "      <th>...</th>\n",
       "      <td>...</td>\n",
       "      <td>...</td>\n",
       "      <td>...</td>\n",
       "      <td>...</td>\n",
       "      <td>...</td>\n",
       "      <td>...</td>\n",
       "      <td>...</td>\n",
       "      <td>...</td>\n",
       "      <td>...</td>\n",
       "      <td>...</td>\n",
       "      <td>...</td>\n",
       "      <td>...</td>\n",
       "      <td>...</td>\n",
       "      <td>...</td>\n",
       "      <td>...</td>\n",
       "      <td>...</td>\n",
       "      <td>...</td>\n",
       "      <td>...</td>\n",
       "      <td>...</td>\n",
       "      <td>...</td>\n",
       "      <td>...</td>\n",
       "    </tr>\n",
       "    <tr>\n",
       "      <th>11985</th>\n",
       "      <td>24</td>\n",
       "      <td>13</td>\n",
       "      <td>0</td>\n",
       "      <td>0</td>\n",
       "      <td>30</td>\n",
       "      <td>False</td>\n",
       "      <td>False</td>\n",
       "      <td>False</td>\n",
       "      <td>False</td>\n",
       "      <td>True</td>\n",
       "      <td>...</td>\n",
       "      <td>False</td>\n",
       "      <td>False</td>\n",
       "      <td>False</td>\n",
       "      <td>False</td>\n",
       "      <td>False</td>\n",
       "      <td>True</td>\n",
       "      <td>False</td>\n",
       "      <td>False</td>\n",
       "      <td>low</td>\n",
       "      <td>low</td>\n",
       "    </tr>\n",
       "    <tr>\n",
       "      <th>48445</th>\n",
       "      <td>35</td>\n",
       "      <td>13</td>\n",
       "      <td>10520</td>\n",
       "      <td>0</td>\n",
       "      <td>45</td>\n",
       "      <td>False</td>\n",
       "      <td>False</td>\n",
       "      <td>False</td>\n",
       "      <td>False</td>\n",
       "      <td>True</td>\n",
       "      <td>...</td>\n",
       "      <td>False</td>\n",
       "      <td>False</td>\n",
       "      <td>False</td>\n",
       "      <td>False</td>\n",
       "      <td>False</td>\n",
       "      <td>True</td>\n",
       "      <td>False</td>\n",
       "      <td>False</td>\n",
       "      <td>high</td>\n",
       "      <td>high</td>\n",
       "    </tr>\n",
       "    <tr>\n",
       "      <th>19639</th>\n",
       "      <td>41</td>\n",
       "      <td>9</td>\n",
       "      <td>0</td>\n",
       "      <td>0</td>\n",
       "      <td>40</td>\n",
       "      <td>False</td>\n",
       "      <td>False</td>\n",
       "      <td>False</td>\n",
       "      <td>False</td>\n",
       "      <td>True</td>\n",
       "      <td>...</td>\n",
       "      <td>False</td>\n",
       "      <td>False</td>\n",
       "      <td>False</td>\n",
       "      <td>False</td>\n",
       "      <td>False</td>\n",
       "      <td>True</td>\n",
       "      <td>False</td>\n",
       "      <td>False</td>\n",
       "      <td>high</td>\n",
       "      <td>low</td>\n",
       "    </tr>\n",
       "    <tr>\n",
       "      <th>21606</th>\n",
       "      <td>29</td>\n",
       "      <td>4</td>\n",
       "      <td>0</td>\n",
       "      <td>0</td>\n",
       "      <td>30</td>\n",
       "      <td>False</td>\n",
       "      <td>False</td>\n",
       "      <td>False</td>\n",
       "      <td>False</td>\n",
       "      <td>True</td>\n",
       "      <td>...</td>\n",
       "      <td>False</td>\n",
       "      <td>False</td>\n",
       "      <td>False</td>\n",
       "      <td>False</td>\n",
       "      <td>False</td>\n",
       "      <td>False</td>\n",
       "      <td>False</td>\n",
       "      <td>False</td>\n",
       "      <td>low</td>\n",
       "      <td>low</td>\n",
       "    </tr>\n",
       "    <tr>\n",
       "      <th>3822</th>\n",
       "      <td>31</td>\n",
       "      <td>13</td>\n",
       "      <td>0</td>\n",
       "      <td>0</td>\n",
       "      <td>40</td>\n",
       "      <td>False</td>\n",
       "      <td>False</td>\n",
       "      <td>False</td>\n",
       "      <td>False</td>\n",
       "      <td>True</td>\n",
       "      <td>...</td>\n",
       "      <td>False</td>\n",
       "      <td>False</td>\n",
       "      <td>False</td>\n",
       "      <td>False</td>\n",
       "      <td>False</td>\n",
       "      <td>True</td>\n",
       "      <td>False</td>\n",
       "      <td>False</td>\n",
       "      <td>low</td>\n",
       "      <td>low</td>\n",
       "    </tr>\n",
       "  </tbody>\n",
       "</table>\n",
       "<p>14653 rows × 109 columns</p>\n",
       "</div>"
      ],
      "text/plain": [
       "       age  education_num  capital_gain  capital_loss  hours_per_week  \\\n",
       "11712   58             10             0             0              60   \n",
       "24768   39             10             0             0              40   \n",
       "26758   31              4             0             0              20   \n",
       "14295   23              9             0             0              40   \n",
       "3683    24              9             0             0              40   \n",
       "...    ...            ...           ...           ...             ...   \n",
       "11985   24             13             0             0              30   \n",
       "48445   35             13         10520             0              45   \n",
       "19639   41              9             0             0              40   \n",
       "21606   29              4             0             0              30   \n",
       "3822    31             13             0             0              40   \n",
       "\n",
       "       workclass_?  workclass_Federal-gov  workclass_Local-gov  \\\n",
       "11712        False                  False                False   \n",
       "24768        False                  False                False   \n",
       "26758        False                  False                False   \n",
       "14295        False                  False                False   \n",
       "3683         False                  False                False   \n",
       "...            ...                    ...                  ...   \n",
       "11985        False                  False                False   \n",
       "48445        False                  False                False   \n",
       "19639        False                  False                False   \n",
       "21606        False                  False                False   \n",
       "3822         False                  False                False   \n",
       "\n",
       "       workclass_Never-worked  workclass_Private  ...  \\\n",
       "11712                   False              False  ...   \n",
       "24768                   False               True  ...   \n",
       "26758                   False               True  ...   \n",
       "14295                   False               True  ...   \n",
       "3683                    False               True  ...   \n",
       "...                       ...                ...  ...   \n",
       "11985                   False               True  ...   \n",
       "48445                   False               True  ...   \n",
       "19639                   False               True  ...   \n",
       "21606                   False               True  ...   \n",
       "3822                    False               True  ...   \n",
       "\n",
       "       native_country_Scotland  native_country_South  native_country_Taiwan  \\\n",
       "11712                    False                 False                  False   \n",
       "24768                    False                 False                  False   \n",
       "26758                    False                 False                  False   \n",
       "14295                    False                 False                  False   \n",
       "3683                     False                 False                  False   \n",
       "...                        ...                   ...                    ...   \n",
       "11985                    False                 False                  False   \n",
       "48445                    False                 False                  False   \n",
       "19639                    False                 False                  False   \n",
       "21606                    False                 False                  False   \n",
       "3822                     False                 False                  False   \n",
       "\n",
       "       native_country_Thailand  native_country_Trinadad&Tobago  \\\n",
       "11712                    False                           False   \n",
       "24768                    False                           False   \n",
       "26758                    False                           False   \n",
       "14295                    False                           False   \n",
       "3683                     False                           False   \n",
       "...                        ...                             ...   \n",
       "11985                    False                           False   \n",
       "48445                    False                           False   \n",
       "19639                    False                           False   \n",
       "21606                    False                           False   \n",
       "3822                     False                           False   \n",
       "\n",
       "       native_country_United-States  native_country_Vietnam  \\\n",
       "11712                          True                   False   \n",
       "24768                         False                   False   \n",
       "26758                          True                   False   \n",
       "14295                          True                   False   \n",
       "3683                           True                   False   \n",
       "...                             ...                     ...   \n",
       "11985                          True                   False   \n",
       "48445                          True                   False   \n",
       "19639                          True                   False   \n",
       "21606                         False                   False   \n",
       "3822                           True                   False   \n",
       "\n",
       "       native_country_Yugoslavia  income  pred  \n",
       "11712                      False     low   low  \n",
       "24768                      False     low   low  \n",
       "26758                      False     low   low  \n",
       "14295                      False     low   low  \n",
       "3683                       False     low   low  \n",
       "...                          ...     ...   ...  \n",
       "11985                      False     low   low  \n",
       "48445                      False    high  high  \n",
       "19639                      False    high   low  \n",
       "21606                      False     low   low  \n",
       "3822                       False     low   low  \n",
       "\n",
       "[14653 rows x 109 columns]"
      ]
     },
     "execution_count": 20,
     "metadata": {},
     "output_type": "execute_result"
    }
   ],
   "source": [
    "# 예측값 구하기\n",
    "df_test['pred'] = model.predict(test_x)\n",
    "df_test"
   ]
  },
  {
   "cell_type": "markdown",
   "metadata": {},
   "source": [
    "income과 pred의 값을 보면 모델의 예측이 맞았는지 알 수 있음.\n",
    "<br>두 변수의 값이 같으면 예측이 맞은 것이고, 두 변수의 값이 다르면 예측이 틀린 것임."
   ]
  },
  {
   "cell_type": "markdown",
   "metadata": {},
   "source": [
    "<hr>"
   ]
  },
  {
   "cell_type": "markdown",
   "metadata": {},
   "source": [
    "<h3>모델을 만드는 절차 - 3-2. 성능 평가하기</h3>"
   ]
  },
  {
   "cell_type": "markdown",
   "metadata": {},
   "source": [
    "예측값을 실제값과 대조해 예측이 얼마나 잘 맞았는지 모델의 성능을 평가. \n",
    "<br>성능 평가 지표는 종류가 다양하고 특징이 서로 달라서 어떤 지표가 높더라도 다른 지표가 낮을 수 있음. 따라서 모델을 사용하는 목적에 맞게 평가 기준으로 삼을 지표를 선택해야 함."
   ]
  },
  {
   "cell_type": "markdown",
   "metadata": {},
   "source": [
    "1.confusion matrix 만들기\n",
    "<br>\n",
    "<br>컨퓨전 매트릭스(confusion matrix, 혼동 행렬) : 모델이 예측한 값 중 맞은 경우와 틀린 경우의 빈도를 나타낸 것. \n",
    "<br>sklearn.metrics의 confusion_matrix()를 이용하면 컨퓨전 매트릭스를 만들 수 있음.\n",
    "<br>\n",
    "<br>confusion_matrix()의 파라미터\n",
    "<ul>\n",
    "<li>y_true : 타겟 변수</li>\n",
    "<li>y_pred : 예측 변수</li>\n",
    "<li>labels : 클래스 배치 순서</li></ul>"
   ]
  },
  {
   "cell_type": "code",
   "execution_count": 21,
   "metadata": {},
   "outputs": [
    {
     "data": {
      "text/plain": [
       "array([[ 1801,  1705],\n",
       "       [  582, 10565]], dtype=int64)"
      ]
     },
     "execution_count": 21,
     "metadata": {},
     "output_type": "execute_result"
    }
   ],
   "source": [
    "from sklearn.metrics import confusion_matrix\n",
    "conf_mat = confusion_matrix(y_true = df_test['income'],   # 실제값\n",
    "\t\t\t\t\t\t\ty_pred = df_test['pred'],     # 예측값\n",
    "\t\t\t\t\t\t\tlabels = ['high', 'low'])     # 클래스 배치 순서\n",
    "conf_mat"
   ]
  },
  {
   "cell_type": "markdown",
   "metadata": {},
   "source": [
    "sklearn.metrics의 ConfusionMatrixDisplay()를 이용해 컨퓨전 매트릭스로 히트맵을 만들어 값을 살펴봄."
   ]
  },
  {
   "cell_type": "code",
   "execution_count": 22,
   "metadata": {},
   "outputs": [
    {
     "data": {
      "text/plain": [
       "<sklearn.metrics._plot.confusion_matrix.ConfusionMatrixDisplay at 0x1e02abbb790>"
      ]
     },
     "execution_count": 22,
     "metadata": {},
     "output_type": "execute_result"
    },
    {
     "data": {
      "image/png": "[encoded data removed]",
      "text/plain": [
       "<Figure size 1200x800 with 2 Axes>"
      ]
     },
     "metadata": {},
     "output_type": "display_data"
    }
   ],
   "source": [
    "#plt.rcParams.update(plt.rcParamsDefault)   # 그래프 설정 되돌리기\n",
    "\n",
    "from sklearn.metrics import ConfusionMatrixDisplay\n",
    "p = ConfusionMatrixDisplay(confusion_matrix = conf_mat,        # 컨퓨전 매트릭스\n",
    "\t\t\t\t\t\t   display_labels = ('high', 'low'))   # 타겟 변수 클래스명\n",
    "p.plot(cmap = 'Blues')                                         # 컬러맵 적용해 출력"
   ]
  },
  {
   "cell_type": "markdown",
   "metadata": {},
   "source": [
    "2. confusion matrix 해석하기\n",
    "<br>\n",
    "<br>컨퓨전 매트릭스의 행은 실제(true) 빈도를 의미함. 첫 번째 행은 income이 실제로 high인 사람, 두번째 행은 실제로 low인 사람을 나타냄.\n",
    "<br>열은 모델이 예측한(predicted) 빈도를 의미함. 첫 번째 열은 모델이 high로 예측한 사람, 두 번째 열은 low로 예측한 사람을 나타냄. \n",
    "<br>컨퓨전 매트릭스를 보면 예측이 맞은 빈도와 틀린 빈도를 알 수 있음. \n",
    "<br>행과 열의 레이블(label)이 같은 왼쪽 대각선의 두 셀은 예측이 맞은 빈도를 나타냄.\n",
    "<br>행과 열의 레이블이 서로 다른 오른쪽 대각선의 두셀은 예측이 틀린 빈도를 나타냄.\n",
    "<br>\n",
    "<br>즉, 위의 컨퓨전 매트릭스를 보면 다음과 같은 사실을 알 수 있음.\n",
    "<br>\n",
    "<br>\n",
    "(1)첫 번째 열의 값 \n",
    "<ul>\n",
    "<li>모델이 2,383명(1,801 + 582)을 high로 예측했다.</li>\n",
    "<li>이 중 실제로 high인 사람은 1801명이다.(정답)</li>\n",
    "<li>이 중 실제로 low인 사람은 582명이다.(오답)</li>\n",
    "<br>\n",
    "<br>\n",
    "(2)두 번째 열의 값\n",
    "\n",
    "<li>모델이 12,270명(1,705 + 10,565)을 low로 예측했다.</li>\n",
    "<li>이 중 실제로 low인 사람은 10,565명이다.(정답)</li>\n",
    "<li>이 중 실제로 high인 사람은 1,705명이다.(오답)</li></ul>"
   ]
  },
  {
   "cell_type": "markdown",
   "metadata": {},
   "source": [
    "컨퓨전 매트릭스는 정답 여부인 True/False와 예측 클래스인 Positive/negative의 첫 글자를 따서 셀 이름을 TP, FN, FP, TN 으로 줄여서 표현할 때가 많음. \n",
    "<br>이때, 타겟 변수의 클래스 중 모델이 예측하고자 하는 관심 클래스가 Positive이고, 그 반대가 Negative임. (즉, 여기서는 income이 high이면 Positive임.)"
   ]
  },
  {
   "cell_type": "markdown",
   "metadata": {},
   "source": [
    "<hr>"
   ]
  },
  {
   "cell_type": "markdown",
   "metadata": {},
   "source": [
    "3. 성능 평가 지표 구하기\n",
    "<br>\n",
    "<br>성능 평가 지표를 구하면 모델의 예측이 얼마나 정확한지 알 수 있음."
   ]
  },
  {
   "cell_type": "markdown",
   "metadata": {},
   "source": [
    "<h4>Accuracy(정확도)</h4>"
   ]
  },
  {
   "cell_type": "code",
   "execution_count": 23,
   "metadata": {},
   "outputs": [
    {
     "data": {
      "text/plain": [
       "0.8439227461953184"
      ]
     },
     "execution_count": 23,
     "metadata": {},
     "output_type": "execute_result"
    }
   ],
   "source": [
    "import sklearn.metrics as metrics\n",
    "metrics.accuracy_score(y_true = df_test['income'],    # 실제값\n",
    "                       y_pred = df_test['pred'])      # 예측값"
   ]
  },
  {
   "cell_type": "markdown",
   "metadata": {},
   "source": [
    "<h4>Precision(정밀도)</h4>"
   ]
  },
  {
   "cell_type": "code",
   "execution_count": 24,
   "metadata": {},
   "outputs": [
    {
     "data": {
      "text/plain": [
       "0.7557700377675199"
      ]
     },
     "execution_count": 24,
     "metadata": {},
     "output_type": "execute_result"
    }
   ],
   "source": [
    "metrics.precision_score(y_true = df_test['income'],    # 실제값\n",
    "                        y_pred = df_test['pred'],       # 예측값\n",
    "                        pos_label = 'high')             # 관심 클래스"
   ]
  },
  {
   "cell_type": "markdown",
   "metadata": {},
   "source": [
    "<h4>Recall(재현율)</h4>"
   ]
  },
  {
   "cell_type": "code",
   "execution_count": 25,
   "metadata": {},
   "outputs": [
    {
     "data": {
      "text/plain": [
       "0.5136908157444381"
      ]
     },
     "execution_count": 25,
     "metadata": {},
     "output_type": "execute_result"
    }
   ],
   "source": [
    "metrics.recall_score(y_true = df_test['income'],       # 실제값\n",
    "                     y_pred = df_test['pred'],       # 예측값\n",
    "                     pos_label = 'high')             # 관심 클래스"
   ]
  },
  {
   "cell_type": "markdown",
   "metadata": {},
   "source": [
    "<h4>F1 score</h4>"
   ]
  },
  {
   "cell_type": "code",
   "execution_count": 26,
   "metadata": {},
   "outputs": [
    {
     "data": {
      "text/plain": [
       "0.6116488368143997"
      ]
     },
     "execution_count": 26,
     "metadata": {},
     "output_type": "execute_result"
    }
   ],
   "source": [
    "metrics.f1_score(y_true = df_test['income'],           # 실제값\n",
    "                 y_pred = df_test['pred'],       # 예측값\n",
    "                 pos_label = 'high')             # 관심 클래스"
   ]
  }
 ],
 "metadata": {
  "kernelspec": {
   "display_name": "base",
   "language": "python",
   "name": "python3"
  },
  "language_info": {
   "codemirror_mode": {
    "name": "ipython",
    "version": 3
   },
   "file_extension": ".py",
   "mimetype": "text/x-python",
   "name": "python",
   "nbconvert_exporter": "python",
   "pygments_lexer": "ipython3",
   "version": "3.11.7"
  }
 },
 "nbformat": 4,
 "nbformat_minor": 2
}
