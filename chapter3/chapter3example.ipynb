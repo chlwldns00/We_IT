version https://git-lfs.github.com/spec/v1
oid sha256:40f51cc2a1d4688cad5061b155226036368736dfcf289a1884ff440a5ff494e9
size 1579
