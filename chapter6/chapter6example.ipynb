version https://git-lfs.github.com/spec/v1
oid sha256:a3ccb80b0813d1d5561e0f6bbbc5a369c7a57a47d34ba0b8eacbb16fce19a9cf
size 53339
