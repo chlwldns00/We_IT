version https://git-lfs.github.com/spec/v1
oid sha256:6fdede15318e562d1418a9ab2c27b80a7145fc7348da501b2bced610cba30f64
size 174600
