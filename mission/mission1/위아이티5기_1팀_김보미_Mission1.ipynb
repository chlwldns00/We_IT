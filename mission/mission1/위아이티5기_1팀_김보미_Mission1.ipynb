version https://git-lfs.github.com/spec/v1
oid sha256:ba9ea411c2c4583561bce04ea05777e7084026bda4b3ee99fcc9d30bd02cd017
size 74109
