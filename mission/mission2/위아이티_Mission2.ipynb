{
  "cells": [
    {
      "cell_type": "markdown",
      "metadata": {
        "id": "J-j_27Xhq0fS"
      },
      "source": [
        "# Mission 2\n",
        "\n",
        "- 첨부된 데이터는 다이어트 식품을 판매하는 어플리케이션 회사에서 나온 고객 결제 데이터 입니다. 고객들이 온라인 마케팅으로 유입된 채널에 따라, 결제를 완료한 고객도 있고, 유입이 되었으나 이탈한 고객도 있습니다. 이 데이터로 아래의 미션을 수행보세요.  \n",
        "- 먼저 개인적으로 풀어본 다음, 팀별로 모여 문제를 풀어보세요.\n",
        "- Chat GPT와 책, 유튜브 등 여러 자료를 활용하여 최대한 풀어보세요.\n",
        "- 기한 : 2024년 5월 8일 23:59 까지\n",
        "- 제출처 : woghkszhf@naver.com"
      ]
    },
    {
      "cell_type": "markdown",
      "metadata": {
        "id": "p9eTIuz4q0fU"
      },
      "source": [
        "### 1. 02_Data.csv파일을 불러와, df1으로 선언하고 데이터의 구조와 타입을 확인하시오."
      ]
    },
    {
      "cell_type": "code",
      "execution_count": 35,
      "metadata": {
        "id": "wS-DEnaBrOYT"
      },
      "outputs": [
        {
          "name": "stdout",
          "output_type": "stream",
          "text": [
            "<class 'pandas.core.frame.DataFrame'>\n",
            "RangeIndex: 10000 entries, 0 to 9999\n",
            "Data columns (total 10 columns):\n",
            " #   Column      Non-Null Count  Dtype \n",
            "---  ------      --------------  ----- \n",
            " 0   회원코드        10000 non-null  object\n",
            " 1   프로그램        10000 non-null  object\n",
            " 2   상태          10000 non-null  object\n",
            " 3   프로그램가격      10000 non-null  int64 \n",
            " 4   최종결제금액      10000 non-null  int64 \n",
            " 5   결제시각        10000 non-null  object\n",
            " 6   결제유형        10000 non-null  object\n",
            " 7   채널          10000 non-null  object\n",
            " 8   보조식품가격      10000 non-null  int64 \n",
            " 9   보조식품(추가구매)  10000 non-null  object\n",
            "dtypes: int64(3), object(7)\n",
            "memory usage: 781.4+ KB\n",
            "None\n"
          ]
        }
      ],
      "source": [
        "import pandas as pd\n",
        "\n",
        "# 데이터 파일 불러와서 df1으로 선언\n",
        "df1 = pd.read_csv('02_Data.csv')\n",
        "\n",
        "# 데이터의 구조와 타입 확인하기 \n",
        "print(df1.info())"
      ]
    },
    {
      "cell_type": "markdown",
      "metadata": {
        "id": "cOGAoqD2q0fV"
      },
      "source": [
        "### 2. '프로그램가격'의 평균, 최대값, 최소값을 확인하시오."
      ]
    },
    {
      "cell_type": "code",
      "execution_count": 36,
      "metadata": {
        "id": "afm9ZpJKrGGu"
      },
      "outputs": [
        {
          "name": "stdout",
          "output_type": "stream",
          "text": [
            "프로그램가격의 평균: 107778.024\n",
            "프로그램가격의 최대값: 177000\n",
            "프로그램가격의 최소값: 44780\n"
          ]
        }
      ],
      "source": [
        "avg_price = df1['프로그램가격'].mean()  # 프로그램 가격의 평균\n",
        "max_price = df1['프로그램가격'].max()   # 프로그램 가격의 최대값\n",
        "min_price = df1['프로그램가격'].min()   # 프로그램 가격의 최소값\n",
        "\n",
        "print('프로그램가격의 평균:', avg_price)\n",
        "print('프로그램가격의 최대값:', max_price)\n",
        "print('프로그램가격의 최소값:', min_price)"
      ]
    },
    {
      "cell_type": "markdown",
      "metadata": {
        "id": "IeBoRU26q0fW"
      },
      "source": [
        "### 3. '채널'의 항목과 빈도수를 확인하고, '채널'별 '최종결제금액'의 합을 계산하여, result1.xlsx로 저장하시오."
      ]
    },
    {
      "cell_type": "code",
      "execution_count": 51,
      "metadata": {
        "id": "Vl9rFLb3rHXg"
      },
      "outputs": [
        {
          "name": "stdout",
          "output_type": "stream",
          "text": [
            "채널의 항목과 빈도수:\n",
            "          채널  count\n",
            "0   facebook   6880\n",
            "1     others   1390\n",
            "2      naver   1009\n",
            "3     direct    297\n",
            "4      email    271\n",
            "5     google    120\n",
            "6  instagram     33\n",
            "채널별 최종결제금액의 합:\n",
            "          채널     최종결제금액\n",
            "0     direct   31337160\n",
            "1      email   30655080\n",
            "2   facebook  825136460\n",
            "3     google   12663480\n",
            "4  instagram    3562620\n",
            "5      naver  111491750\n",
            "6     others  149349690\n"
          ]
        }
      ],
      "source": [
        "# 채널의 항목과 빈도수 확인\n",
        "channel_counts = df1['채널'].value_counts().reset_index()\n",
        "print('채널의 항목과 빈도수:')\n",
        "print(channel_counts)\n",
        "\n",
        "# 채널별 최종결제금액의 합 계산\n",
        "result1 = df1.groupby('채널')['최종결제금액'].sum().reset_index()\n",
        "print('채널별 최종결제금액의 합:')\n",
        "print(result1)\n",
        "\n",
        "# 결과를 Excel 파일로 저장하기\n",
        "result1.to_excel('result1.xlsx')"
      ]
    },
    {
      "cell_type": "markdown",
      "metadata": {
        "id": "NgzwqKvzq0fW"
      },
      "source": [
        "### 4. '채널'의 빈도수가 높은 상위 3개 항목을 뽑아, 해당 데이터의 '보조식품(추가구매)'에 따른 '최종결제금액'의 합과 평균을 계산하시오.  "
      ]
    },
    {
      "cell_type": "code",
      "execution_count": 38,
      "metadata": {
        "id": "4U_iC6gQrH5P"
      },
      "outputs": [
        {
          "name": "stdout",
          "output_type": "stream",
          "text": [
            "상위 3개 채널의 보조식품(추가구매)에 따른 최종결제금액의 합과 평균:\n",
            "  보조식품(추가구매)  sum_payment   mean_payment\n",
            "0       구매안함    770197460  112766.831625\n",
            "1    단백질보충제A     41403610  128983.208723\n",
            "2    단백질보충제B      6962620  112300.322581\n",
            "3   식이요법보조제A    199833090  126316.744627\n",
            "4   식이요법보조제B     54792540  141217.886598\n",
            "5     종합비타민A     12788580  133214.375000\n"
          ]
        }
      ],
      "source": [
        "# 채널의 빈도수가 높은 상위 3개 항목 추출\n",
        "top_channels = df1['채널'].value_counts().index[:3]\n",
        "\n",
        "# 상위 3개 채널에 해당하는 데이터 필터링\n",
        "filtered_data = df1[df1['채널'].isin(top_channels)]\n",
        "\n",
        "# 보조식품(추가구매)에 따른 최종결제금액의 합과 평균 계산\n",
        "summary = filtered_data.groupby('보조식품(추가구매)')['최종결제금액'].agg(sum_payment = ('sum'), mean_payment = ('mean')).reset_index()\n",
        "\n",
        "# 결과출력\n",
        "print('상위 3개 채널의 보조식품(추가구매)에 따른 최종결제금액의 합과 평균:')\n",
        "print(summary)"
      ]
    },
    {
      "cell_type": "markdown",
      "metadata": {
        "id": "FiKu9siPq0fW"
      },
      "source": [
        "### 5. '결제시각'데이터에서 날짜와 시간데이터를 나누어 데이터만 뽑아, '결제날짜'와 '결제시간'파생변수로 각각 선언하시오."
      ]
    },
    {
      "cell_type": "code",
      "execution_count": 40,
      "metadata": {
        "id": "_XTKZF9zrIvT"
      },
      "outputs": [
        {
          "name": "stdout",
          "output_type": "stream",
          "text": [
            "결제날짜와 결제시간이 추가된 데이터 프레임:\n",
            "                            결제시각        결제날짜                결제시간\n",
            "0   2017-04-14 오후 7:03:29.976000  2017-04-14   오후 7:03:29.976000\n",
            "1   2017-05-23 오후 8:53:54.368000  2017-05-23   오후 8:53:54.368000\n",
            "2  2017-08-23 오후 11:39:21.840000  2017-08-23  오후 11:39:21.840000\n",
            "3   2017-08-28 오후 8:18:22.824000  2017-08-28   오후 8:18:22.824000\n",
            "4   2017-05-07 오후 5:50:30.944000  2017-05-07   오후 5:50:30.944000\n",
            "5   2017-08-24 오전 8:24:43.256000  2017-08-24   오전 8:24:43.256000\n",
            "6   2017-05-25 오전 9:38:14.776000  2017-05-25   오전 9:38:14.776000\n",
            "7   2017-04-17 오후 7:19:01.024000  2017-04-17   오후 7:19:01.024000\n",
            "8   2017-08-09 오후 3:24:28.296000  2017-08-09   오후 3:24:28.296000\n",
            "9   2017-08-03 오후 9:03:44.352000  2017-08-03   오후 9:03:44.352000\n"
          ]
        }
      ],
      "source": [
        "# 결제시각 데이터에서 날짜와 시간데이터를 나누고 뽑은 날짜 데이터를 '결제날짜' 파생변수로 선언\n",
        "df1['결제날짜'] = df1['결제시각'].str.split(' ').str[0]\n",
        "\n",
        "# 결제시각 데이터에서 날짜와 시간데이터를 나누고 뽑은 시간데이터를 '결제시간' 파생변수로 선언\n",
        "df1['결제시간'] = df1['결제시각'].str.split(' ').str[1] + ' ' + df1['결제시각'].str.split(' ').str[2]\n",
        "\n",
        "# 결과출력\n",
        "print('결제날짜와 결제시간이 추가된 데이터 프레임:')\n",
        "print(df1[['결제시각', '결제날짜', '결제시간']].head(10))"
      ]
    },
    {
      "cell_type": "markdown",
      "metadata": {
        "id": "zFz5emi-q0fX"
      },
      "source": [
        "### 6. 앞서 추출된 '결제날짜'데이터를 이용하여, '연도' / '월' / '일' 데이터를 추출하시오."
      ]
    },
    {
      "cell_type": "code",
      "execution_count": 43,
      "metadata": {
        "id": "wi53P2ACrJiA"
      },
      "outputs": [
        {
          "name": "stdout",
          "output_type": "stream",
          "text": [
            "연도,월,일이 추가된 데이터 프레임:\n",
            "         결제날짜    연도  월   일\n",
            "0  2017-04-14  2017  4  14\n",
            "1  2017-05-23  2017  5  23\n",
            "2  2017-08-23  2017  8  23\n",
            "3  2017-08-28  2017  8  28\n",
            "4  2017-05-07  2017  5   7\n",
            "5  2017-08-24  2017  8  24\n",
            "6  2017-05-25  2017  5  25\n",
            "7  2017-04-17  2017  4  17\n",
            "8  2017-08-09  2017  8   9\n",
            "9  2017-08-03  2017  8   3\n"
          ]
        }
      ],
      "source": [
        "# 결제날짜 데이터에서 연도 추출\n",
        "df1['연도'] = pd.to_datetime(df1['결제날짜']).dt.year  \n",
        "\n",
        "# 결제날짜 데이터에서 월 추출\n",
        "df1['월'] = pd.to_datetime(df1['결제날짜']).dt.month\n",
        "\n",
        "# 결제날짜 데이터에서 일 추출\n",
        "df1['일'] = pd.to_datetime(df1['결제날짜']).dt.day\n",
        "\n",
        "# 결과출력\n",
        "print('연도,월,일이 추가된 데이터 프레임:')\n",
        "print(df1[['결제날짜', '연도', '월', '일']].head(10))"
      ]
    },
    {
      "cell_type": "markdown",
      "metadata": {
        "id": "rzXcA2rnq0fX"
      },
      "source": [
        "### 7. 결제 '월'별 '최종결제금액'의 합을 계산하시오."
      ]
    },
    {
      "cell_type": "code",
      "execution_count": 47,
      "metadata": {
        "id": "CJHslrElrKQo"
      },
      "outputs": [
        {
          "name": "stdout",
          "output_type": "stream",
          "text": [
            "월별 최종결제금액의 합:\n",
            "   월     최종결제금액\n",
            "0  3   67579200\n",
            "1  4  133340640\n",
            "2  5  185577300\n",
            "3  6  203945100\n",
            "4  7  178364700\n",
            "5  8  395389300\n"
          ]
        }
      ],
      "source": [
        "# 월별 최종결제금액의 합 계산\n",
        "monthly_payment = df1.groupby('월')['최종결제금액'].sum().reset_index()\n",
        "\n",
        "# 결과출력\n",
        "print('월별 최종결제금액의 합:')\n",
        "print(monthly_payment)"
      ]
    },
    {
      "cell_type": "markdown",
      "metadata": {
        "id": "GECm-xIlq0fX"
      },
      "source": [
        "### 8. '최종결제금액'이 높은 30명의 고객 명단을 추출하여, result2.xlsx로 선언하시오."
      ]
    },
    {
      "cell_type": "code",
      "execution_count": 54,
      "metadata": {
        "id": "MRROuBm4rLM5"
      },
      "outputs": [],
      "source": [
        "# 최종결제금액을 기준으로 내림차순으로 정렬한 후 상위 30명의 고객 명단 추출\n",
        "result2 = df1.sort_values('최종결제금액', ascending = False).head(30)\n",
        "\n",
        "# 결과를 Excel 파일로 저장하기\n",
        "result2.to_excel('result2.xlsx', index=False)"
      ]
    },
    {
      "cell_type": "markdown",
      "metadata": {
        "id": "kHg4eyExq0fX"
      },
      "source": [
        "### 9. '상태'가 completed에 해당하는 데이터만 뽑아, '채널'별 '최종결제금액'의 합을 계산하시오."
      ]
    },
    {
      "cell_type": "code",
      "execution_count": 57,
      "metadata": {
        "id": "0U_P-z5zrL1l"
      },
      "outputs": [
        {
          "name": "stdout",
          "output_type": "stream",
          "text": [
            "채널별 최종결제금액의 합:\n",
            "          채널     최종결제금액\n",
            "0     direct   17538760\n",
            "1      email   17475380\n",
            "2   facebook  437954060\n",
            "3     google    7017240\n",
            "4  instagram    1890780\n",
            "5      naver   63103330\n",
            "6     others   83813430\n"
          ]
        }
      ],
      "source": [
        "# 상태가 completed에 해당하는 데이터만 추출\n",
        "completed_data = df1[df1['상태'] == 'completed']\n",
        "\n",
        "# 채널별 최종결제금액의 합 계산\n",
        "channel_payment_sum = completed_data.groupby('채널')['최종결제금액'].sum().reset_index()\n",
        "\n",
        "# 결과출력\n",
        "print('채널별 최종결제금액의 합:')\n",
        "print(channel_payment_sum)"
      ]
    }
  ],
  "metadata": {
    "colab": {
      "provenance": []
    },
    "kernelspec": {
      "display_name": "Python 3 (ipykernel)",
      "language": "python",
      "name": "python3"
    },
    "language_info": {
      "codemirror_mode": {
        "name": "ipython",
        "version": 3
      },
      "file_extension": ".py",
      "mimetype": "text/x-python",
      "name": "python",
      "nbconvert_exporter": "python",
      "pygments_lexer": "ipython3",
      "version": "3.11.7"
    }
  },
  "nbformat": 4,
  "nbformat_minor": 0
}
