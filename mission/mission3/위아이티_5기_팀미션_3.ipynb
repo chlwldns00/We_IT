{
 "cells": [
  {
   "cell_type": "markdown",
   "id": "c9d697c4",
   "metadata": {},
   "source": [
    "# Mission 3\n",
    "\n",
    "- 아래의 데이터는 회원제로 운영되고 있는 **친환경 식품을 판매하는 소매점**에서 나온 판매 데이터 / 고객 데이터 입니다. 매장에서 제품을 결제하려면 코스트코와 같이, 회원등록을 해야만 결제가 가능합니다. 회원 등록할 때, 회원의 연령, 성별과 같은 기본정보를 수집한 **고객 데이터**가 있습니다. 그리고 각 회원이 매장에서 결제를 진행할 때, 한 제품을 바코드에 찍을 때 마다 발생하는 **결제 데이터**가 존재합니다. 이 두가지 데이터를 이용해서, 아래의 미션을 수행해 봅시다. \n",
    "\n",
    "- 먼저 개인 스스로 풀어보고, 풀지 못한 미션은 팀원들과 같이 풀어보세요.\n",
    "- Chat GPT + 교재 + 팀스터디 모두 활용하여 풀어보시길 바랍니다. \n",
    "- 미션 미제출시, 수료증 발급에 제한이 될 수 있습니다. \n",
    "\n",
    "- **기한 : 24년 6월 10일 23시 59분까지 / 이후 제출 절대 인정 불가**  \n",
    "- 제출처: woghkszhf@naver.com  \n",
    "\n",
    "- 참고 영상 : \n",
    "    - 시각화 관련 : https://youtube.com/playlist?list=PLhdHuKlSngGw314hPvsbqV38YY1rqpCkW\n",
    "    - 데이터 전처리 관련 : https://youtube.com/playlist?list=PLhdHuKlSngGxL_R2g8OYFtsUKs-mMhRBs"
   ]
  },
  {
   "cell_type": "markdown",
   "id": "2bd23612",
   "metadata": {},
   "source": [
    "1. 1_store_member.csv 데이터를 df_member 변수로, 2_store_product.csv 데이터를 df_product변수로 선언하고, 각각의 데이터의 구조와 타입을 확인하시오  "
   ]
  },
  {
   "cell_type": "code",
   "execution_count": null,
   "id": "09baa95b",
   "metadata": {},
   "outputs": [],
   "source": []
  },
  {
   "cell_type": "markdown",
   "id": "a92ea14a",
   "metadata": {},
   "source": [
    "2.  df_product 데이터에서, '회원번호' 별 '구매금액'과 '구매수량'의 합을 계산하고 pandas 라이브러리의 reset_index()함수를 활용해,아래와 같은 테이블로 변환하여, df_product_id 변수로 선언하시오. "
   ]
  },
  {
   "cell_type": "code",
   "execution_count": null,
   "id": "af6e1bb5",
   "metadata": {},
   "outputs": [],
   "source": []
  },
  {
   "cell_type": "markdown",
   "id": "6d127435",
   "metadata": {},
   "source": [
    "3. pandas 라이브러리의 rename() 함수를 활용하여, df_product_id 변수의 '구매금액'과 '구매수량'항목 명을, '총구매금액', '총구매수량'으로 변환하시오. "
   ]
  },
  {
   "cell_type": "code",
   "execution_count": null,
   "id": "7d9bc14e",
   "metadata": {},
   "outputs": [],
   "source": []
  },
  {
   "cell_type": "markdown",
   "id": "e260a151",
   "metadata": {},
   "source": [
    "4. df_product 데이터에서, '회원번호' 항목과, '공급일자' 데이터를 활용해, 아래와 같이 각 '회원번호'별 '방문횟수'의 합을 계산하여, df_product_id2 변수로 선언하시오. "
   ]
  },
  {
   "cell_type": "code",
   "execution_count": null,
   "id": "42ea96ff",
   "metadata": {},
   "outputs": [],
   "source": []
  },
  {
   "cell_type": "markdown",
   "id": "d1f7d271",
   "metadata": {},
   "source": [
    "5. 앞서 생성한 df_product_id 변수와 df_product_id2 변수, df_member 변수를 이용해, '회원번호'를 기준으로 아래와 같이 하나의 데이터로 병합하고, df2 변수로 선언하시오. (pandas merge함수 활용)"
   ]
  },
  {
   "cell_type": "code",
   "execution_count": null,
   "id": "bc868770",
   "metadata": {},
   "outputs": [],
   "source": []
  },
  {
   "cell_type": "markdown",
   "id": "a2edb396",
   "metadata": {},
   "source": [
    "6. df2 데이터에서 '총구매금액'과 '총방문횟수'를 나누어, 고객이 한번 방문했을 때, 평균적으로 구매하는 금액 '1회방문구매평균' 항목을 계산하고, 변수로 선언하시오.  "
   ]
  },
  {
   "cell_type": "code",
   "execution_count": null,
   "id": "bab3439c",
   "metadata": {},
   "outputs": [],
   "source": []
  },
  {
   "cell_type": "markdown",
   "id": "47032db4",
   "metadata": {},
   "source": [
    "7. df2 데이터에서 고객 '연령'데이터를 이용해, 고객의 '연령대'를 계산하고 파생변수로 선언하시오. "
   ]
  },
  {
   "cell_type": "code",
   "execution_count": null,
   "id": "91a973c3",
   "metadata": {},
   "outputs": [],
   "source": []
  },
  {
   "cell_type": "markdown",
   "id": "78028ebb",
   "metadata": {},
   "source": [
    "8. df_product데이터의'물품대분류' 중 가장 많이 판매되는(수량)3가지 항목을 확인 하시오. "
   ]
  },
  {
   "cell_type": "code",
   "execution_count": null,
   "id": "18eb8b6a",
   "metadata": {},
   "outputs": [],
   "source": []
  },
  {
   "cell_type": "markdown",
   "id": "96940876",
   "metadata": {},
   "source": [
    "9. 앞서 확인한 3가지 항목을 추출하여, df_product_top이라는 변수로 선언하고, df_product_top에서 '구매매장'별 '구매금액'의 합과 평균을 계산하시오."
   ]
  },
  {
   "cell_type": "code",
   "execution_count": null,
   "id": "5ec0325b",
   "metadata": {},
   "outputs": [],
   "source": []
  },
  {
   "cell_type": "markdown",
   "id": "47a016f5",
   "metadata": {},
   "source": [
    "10. df_product데이터의 '공급일자'데이터를 날짜형식으로 변환하여, '연도' / '월' / '요일' 항목을 새로운 파생변수로 생성하시오."
   ]
  },
  {
   "cell_type": "code",
   "execution_count": null,
   "id": "873255ac",
   "metadata": {},
   "outputs": [],
   "source": []
  },
  {
   "cell_type": "markdown",
   "id": "221cc336",
   "metadata": {},
   "source": [
    "11. df_product데이터의 '월'에 따른'물품대분류'별 '구매금액'의 합을 게산하여 result8.xlsx저장 하시오. "
   ]
  },
  {
   "cell_type": "code",
   "execution_count": null,
   "id": "854e70ca",
   "metadata": {},
   "outputs": [],
   "source": []
  },
  {
   "cell_type": "markdown",
   "id": "b3067020",
   "metadata": {},
   "source": [
    "12. df2 데이터를 이용해, '성별'에 따른 '총구매금액'의 평균을 시각화 하시오. "
   ]
  },
  {
   "cell_type": "code",
   "execution_count": null,
   "id": "4cf7b44e",
   "metadata": {},
   "outputs": [],
   "source": []
  },
  {
   "cell_type": "markdown",
   "id": "987454a2",
   "metadata": {},
   "source": [
    "13. df2 데이터를 이용해, '1회방문구매평균'을 바탕으로 고객등급을 분류하고자 한다. 10만원 이상 고객은 A / 5만원 이상은 B / 2만원 이상 C / 나머지는 D 등급으로 분류하여, '고객등급'이라는 새로운 항목을 생성하시오.  "
   ]
  },
  {
   "cell_type": "code",
   "execution_count": null,
   "id": "121ee836",
   "metadata": {},
   "outputs": [],
   "source": []
  },
  {
   "cell_type": "markdown",
   "id": "06f0a911",
   "metadata": {},
   "source": [
    "14. df2에서 '고객등급'을 input 함수를 이용해 특정 값을 입력했을 때, 해당 고객등급에서 '성별'에 따른 '총구매금액' 기술통계량(describe 함수 활용)을 계산하여 'result9_등급명.xlsx'저장하는 프로그램을 구성하시오. "
   ]
  },
  {
   "cell_type": "code",
   "execution_count": null,
   "id": "e9cf60ab-e3ca-45d3-8572-b75e1088140b",
   "metadata": {},
   "outputs": [],
   "source": []
  }
 ],
 "metadata": {
  "kernelspec": {
   "display_name": "Python 3 (ipykernel)",
   "language": "python",
   "name": "python3"
  },
  "language_info": {
   "codemirror_mode": {
    "name": "ipython",
    "version": 3
   },
   "file_extension": ".py",
   "mimetype": "text/x-python",
   "name": "python",
   "nbconvert_exporter": "python",
   "pygments_lexer": "ipython3",
   "version": "3.11.4"
  }
 },
 "nbformat": 4,
 "nbformat_minor": 5
}
