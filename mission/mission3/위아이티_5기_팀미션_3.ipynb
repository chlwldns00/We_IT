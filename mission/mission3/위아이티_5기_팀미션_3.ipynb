{
 "cells": [
  {
   "cell_type": "markdown",
   "id": "c9d697c4",
   "metadata": {},
   "source": [
    "# Mission 3\n",
    "\n",
    "- 아래의 데이터는 회원제로 운영되고 있는 **친환경 식품을 판매하는 소매점**에서 나온 판매 데이터 / 고객 데이터 입니다. 매장에서 제품을 결제하려면 코스트코와 같이, 회원등록을 해야만 결제가 가능합니다. 회원 등록할 때, 회원의 연령, 성별과 같은 기본정보를 수집한 **고객 데이터**가 있습니다. 그리고 각 회원이 매장에서 결제를 진행할 때, 한 제품을 바코드에 찍을 때 마다 발생하는 **결제 데이터**가 존재합니다. 이 두가지 데이터를 이용해서, 아래의 미션을 수행해 봅시다. \n",
    "\n",
    "- 먼저 개인 스스로 풀어보고, 풀지 못한 미션은 팀원들과 같이 풀어보세요.\n",
    "- Chat GPT + 교재 + 팀스터디 모두 활용하여 풀어보시길 바랍니다. \n",
    "- 미션 미제출시, 수료증 발급에 제한이 될 수 있습니다. \n",
    "\n",
    "- **기한 : 24년 6월 10일 23시 59분까지 / 이후 제출 절대 인정 불가**  \n",
    "- 제출처: woghkszhf@naver.com  \n",
    "\n",
    "- 참고 영상 : \n",
    "    - 시각화 관련 : https://youtube.com/playlist?list=PLhdHuKlSngGw314hPvsbqV38YY1rqpCkW\n",
    "    - 데이터 전처리 관련 : https://youtube.com/playlist?list=PLhdHuKlSngGxL_R2g8OYFtsUKs-mMhRBs"
   ]
  },
  {
   "cell_type": "markdown",
   "id": "2bd23612",
   "metadata": {},
   "source": [
    "1. 1_store_member.csv 데이터를 df_member 변수로, 2_store_product.csv 데이터를 df_product변수로 선언하고, 각각의 데이터의 구조와 타입을 확인하시오  "
   ]
  },
  {
   "cell_type": "code",
   "execution_count": 7,
   "id": "09baa95b",
   "metadata": {},
   "outputs": [
    {
     "name": "stdout",
     "output_type": "stream",
     "text": [
      "df_member의 구조와 타입:\n",
      "<class 'pandas.core.frame.DataFrame'>\n",
      "RangeIndex: 4396 entries, 0 to 4395\n",
      "Data columns (total 7 columns):\n",
      " #   Column  Non-Null Count  Dtype \n",
      "---  ------  --------------  ----- \n",
      " 0   회원번호    4396 non-null   int64 \n",
      " 1   회원상태    4396 non-null   object\n",
      " 2   성별      4396 non-null   object\n",
      " 3   결혼유무    3449 non-null   object\n",
      " 4   주소      4396 non-null   object\n",
      " 5   생년      4396 non-null   int64 \n",
      " 6   연령      4396 non-null   int64 \n",
      "dtypes: int64(3), object(4)\n",
      "memory usage: 240.5+ KB\n",
      "None\n",
      "df_product의 구조와 타입:\n",
      "<class 'pandas.core.frame.DataFrame'>\n",
      "RangeIndex: 735783 entries, 0 to 735782\n",
      "Data columns (total 11 columns):\n",
      " #   Column    Non-Null Count   Dtype  \n",
      "---  ------    --------------   -----  \n",
      " 0   공급일자      735783 non-null  int64  \n",
      " 1   물품코드      735783 non-null  int64  \n",
      " 2   물품대분류     735783 non-null  object \n",
      " 3   물품중분류     735783 non-null  object \n",
      " 4   물품소분류     735783 non-null  object \n",
      " 5   물품명       735783 non-null  object \n",
      " 6   구매수량      735783 non-null  float64\n",
      " 7   구매금액      735783 non-null  int64  \n",
      " 8   구매매장      735783 non-null  object \n",
      " 9   반품_원거래일자  10337 non-null   float64\n",
      " 10  회원번호      735761 non-null  float64\n",
      "dtypes: float64(3), int64(3), object(5)\n",
      "memory usage: 61.7+ MB\n",
      "None\n"
     ]
    }
   ],
   "source": [
    "import pandas as pd\n",
    "\n",
    "# 1_store_member.csv 데이터 파일 불러와서 df_member 변수로 선언\n",
    "df_member = pd.read_csv('1_store_member.csv')\n",
    "\n",
    " # 2_store_product.csv 데이터 파일 불러와서 df_product 변수로 선언\n",
    "df_product = pd.read_csv('2_store_product.csv')\n",
    "\n",
    "# 각각의 데이터의 구조와 타입 확인\n",
    "print(\"df_member의 구조와 타입:\")\n",
    "print(df_member.info())\n",
    "print(\"df_product의 구조와 타입:\")\n",
    "print(df_product.info())"
   ]
  },
  {
   "cell_type": "markdown",
   "id": "a92ea14a",
   "metadata": {},
   "source": [
    "2.  df_product 데이터에서, '회원번호' 별 '구매금액'과 '구매수량'의 합을 계산하고 pandas 라이브러리의 reset_index()함수를 활용해,아래와 같은 테이블로 변환하여, df_product_id 변수로 선언하시오. "
   ]
  },
  {
   "cell_type": "code",
   "execution_count": 8,
   "id": "af6e1bb5",
   "metadata": {},
   "outputs": [
    {
     "name": "stdout",
     "output_type": "stream",
     "text": [
      "        회원번호     구매금액    구매수량\n",
      "0     2101.0  1991230   382.0\n",
      "1     2102.0  2095860   472.5\n",
      "2     2103.0  8273550  1675.4\n",
      "3     2104.0  6289495  1401.8\n",
      "4     2105.0  3067930   602.0\n",
      "...      ...      ...     ...\n",
      "4280  6492.0    51550    10.0\n",
      "4281  6493.0    22500     3.0\n",
      "4282  6494.0    18500     3.0\n",
      "4283  6495.0     5300     1.0\n",
      "4284  6496.0    69220     8.0\n",
      "\n",
      "[4285 rows x 3 columns]\n"
     ]
    }
   ],
   "source": [
    "# '회원번호' 별로 '구매금액'과 '구매수량'의 합을 계산\n",
    "df_product_id = df_product.groupby('회원번호').agg({'구매금액' : 'sum', '구매수량' : 'sum'}).reset_index()\n",
    "\n",
    "# 결과 확인\n",
    "print(df_product_id)"
   ]
  },
  {
   "cell_type": "markdown",
   "id": "6d127435",
   "metadata": {},
   "source": [
    "3. pandas 라이브러리의 rename() 함수를 활용하여, df_product_id 변수의 '구매금액'과 '구매수량'항목 명을, '총구매금액', '총구매수량'으로 변환하시오. "
   ]
  },
  {
   "cell_type": "code",
   "execution_count": 9,
   "id": "7d9bc14e",
   "metadata": {},
   "outputs": [
    {
     "name": "stdout",
     "output_type": "stream",
     "text": [
      "        회원번호    총구매금액   총구매수량\n",
      "0     2101.0  1991230   382.0\n",
      "1     2102.0  2095860   472.5\n",
      "2     2103.0  8273550  1675.4\n",
      "3     2104.0  6289495  1401.8\n",
      "4     2105.0  3067930   602.0\n",
      "...      ...      ...     ...\n",
      "4280  6492.0    51550    10.0\n",
      "4281  6493.0    22500     3.0\n",
      "4282  6494.0    18500     3.0\n",
      "4283  6495.0     5300     1.0\n",
      "4284  6496.0    69220     8.0\n",
      "\n",
      "[4285 rows x 3 columns]\n"
     ]
    }
   ],
   "source": [
    "# df_product_id 변수의 '구매금액'과 '구매수량' 항목명을 '총구매금액'과 '총구매수량'으로 변환\n",
    "df_product_id = df_product_id.rename(columns = {'구매금액' : '총구매금액', '구매수량' : '총구매수량'})\n",
    "\n",
    "# 결과 확인\n",
    "print(df_product_id)"
   ]
  },
  {
   "cell_type": "markdown",
   "id": "e260a151",
   "metadata": {},
   "source": [
    "4. df_product 데이터에서, '회원번호' 항목과, '공급일자' 데이터를 활용해, 아래와 같이 각 '회원번호'별 '방문횟수'의 합을 계산하여, df_product_id2 변수로 선언하시오. "
   ]
  },
  {
   "cell_type": "code",
   "execution_count": 10,
   "id": "42ea96ff",
   "metadata": {},
   "outputs": [
    {
     "name": "stdout",
     "output_type": "stream",
     "text": [
      "        총방문횟수\n",
      "회원번호         \n",
      "2101.0    342\n",
      "2102.0    409\n",
      "2103.0   1598\n",
      "2104.0   1180\n",
      "2105.0    512\n",
      "...       ...\n",
      "6492.0      9\n",
      "6493.0      3\n",
      "6494.0      3\n",
      "6495.0      1\n",
      "6496.0      7\n",
      "\n",
      "[4285 rows x 1 columns]\n"
     ]
    }
   ],
   "source": [
    "# '회원번호'와 '공급일자'를 기준으로 그룹화하여 각 그룹의 개수를 센 후 \n",
    "# '회원번호'를 기준으로 다시 한번 그룹화하고 '방문횟수'의 합을 계산하여 df_product_id2 변수로 선언함\n",
    "df_product_id2 = df_product.groupby(['회원번호', '공급일자']).size() \\\n",
    "                           .reset_index(name='총방문횟수') \\\n",
    "                           .groupby('회원번호').agg({'총방문횟수': 'sum'})\n",
    "\n",
    "# 결과 확인\n",
    "print(df_product_id2)"
   ]
  },
  {
   "cell_type": "markdown",
   "id": "d1f7d271",
   "metadata": {},
   "source": [
    "5. 앞서 생성한 df_product_id 변수와 df_product_id2 변수, df_member 변수를 이용해, '회원번호'를 기준으로 아래와 같이 하나의 데이터로 병합하고, df2 변수로 선언하시오. (pandas merge함수 활용)"
   ]
  },
  {
   "cell_type": "code",
   "execution_count": 11,
   "id": "bc868770",
   "metadata": {},
   "outputs": [
    {
     "name": "stdout",
     "output_type": "stream",
     "text": [
      "      회원번호  회원상태 성별 결혼유무               주소    생년  연령      총구매금액   총구매수량   총방문횟수\n",
      "0     2101  정상회원  여   기혼  서울 강북구 미아동 134-  1967  51  1991230.0   382.0   342.0\n",
      "1     2102  정상회원  여  NaN   경기 용인시 수지구 동천동  1947  71  2095860.0   472.5   409.0\n",
      "2     2103  정상회원  여   기혼   경기 용인시 수지구 동천동  1972  46  8273550.0  1675.4  1598.0\n",
      "3     2104  정상회원  여  NaN   경기 용인시 수지구 성복동  1969  49  6289495.0  1401.8  1180.0\n",
      "4     2105  정상회원  여   기혼   경기 용인시 수지구 동천동  1948  70  3067930.0   602.0   512.0\n",
      "...    ...   ... ..  ...              ...   ...  ..        ...     ...     ...\n",
      "4391  6492  정상회원  여   미혼   경기 성남시 분당구 판교동  1963  55    51550.0    10.0     9.0\n",
      "4392  6493  정상회원  여   기혼  서울 관악구 행운동 1681  1982  36    22500.0     3.0     3.0\n",
      "4393  6494  정상회원  남   기혼   경기 성남시 분당구 백현동  1975  43    18500.0     3.0     3.0\n",
      "4394  6495  정상회원  여   기혼  서울 용산구 한남동 737-  1961  57     5300.0     1.0     1.0\n",
      "4395  6496  정상회원  여   미혼   경기 수원시 영통구 이의동  1971  47    69220.0     8.0     7.0\n",
      "\n",
      "[4396 rows x 10 columns]\n"
     ]
    }
   ],
   "source": [
    "# df_product_id 변수와 df_product_id2 변수를 '회원번호'를 기준으로 병합\n",
    "df2 = pd.merge(df_product_id, df_product_id2, on = '회원번호', how = 'left')\n",
    "\n",
    "# 위의 병합한 데이터에 df_member 변수를 '회원번호'를 기준으로 병합\n",
    "df2 = pd.merge(df_member, df2, on = '회원번호', how = 'left')\n",
    "\n",
    "# 결과 확인\n",
    "print(df2)"
   ]
  },
  {
   "cell_type": "markdown",
   "id": "a2edb396",
   "metadata": {},
   "source": [
    "6. df2 데이터에서 '총구매금액'과 '총방문횟수'를 나누어, 고객이 한번 방문했을 때, 평균적으로 구매하는 금액 '1회방문구매평균' 항목을 계산하고, 변수로 선언하시오.  "
   ]
  },
  {
   "cell_type": "code",
   "execution_count": 12,
   "id": "bab3439c",
   "metadata": {},
   "outputs": [
    {
     "name": "stdout",
     "output_type": "stream",
     "text": [
      "      회원번호  회원상태 성별 결혼유무               주소    생년  연령      총구매금액   총구매수량  \\\n",
      "0     2101  정상회원  여   기혼  서울 강북구 미아동 134-  1967  51  1991230.0   382.0   \n",
      "1     2102  정상회원  여  NaN   경기 용인시 수지구 동천동  1947  71  2095860.0   472.5   \n",
      "2     2103  정상회원  여   기혼   경기 용인시 수지구 동천동  1972  46  8273550.0  1675.4   \n",
      "3     2104  정상회원  여  NaN   경기 용인시 수지구 성복동  1969  49  6289495.0  1401.8   \n",
      "4     2105  정상회원  여   기혼   경기 용인시 수지구 동천동  1948  70  3067930.0   602.0   \n",
      "...    ...   ... ..  ...              ...   ...  ..        ...     ...   \n",
      "4391  6492  정상회원  여   미혼   경기 성남시 분당구 판교동  1963  55    51550.0    10.0   \n",
      "4392  6493  정상회원  여   기혼  서울 관악구 행운동 1681  1982  36    22500.0     3.0   \n",
      "4393  6494  정상회원  남   기혼   경기 성남시 분당구 백현동  1975  43    18500.0     3.0   \n",
      "4394  6495  정상회원  여   기혼  서울 용산구 한남동 737-  1961  57     5300.0     1.0   \n",
      "4395  6496  정상회원  여   미혼   경기 수원시 영통구 이의동  1971  47    69220.0     8.0   \n",
      "\n",
      "       총방문횟수     1회방문구매평균  \n",
      "0      342.0  5822.309942  \n",
      "1      409.0  5124.352078  \n",
      "2     1598.0  5177.440551  \n",
      "3     1180.0  5330.080508  \n",
      "4      512.0  5992.050781  \n",
      "...      ...          ...  \n",
      "4391     9.0  5727.777778  \n",
      "4392     3.0  7500.000000  \n",
      "4393     3.0  6166.666667  \n",
      "4394     1.0  5300.000000  \n",
      "4395     7.0  9888.571429  \n",
      "\n",
      "[4396 rows x 11 columns]\n"
     ]
    }
   ],
   "source": [
    "# '총구매금액'을 '총방문횟수'로 나누어 '1회방문구매평균'항목을 계산 \n",
    "df2['1회방문구매평균'] = df2['총구매금액'] / df2['총방문횟수']\n",
    "\n",
    "# 결과 확인\n",
    "print(df2)"
   ]
  },
  {
   "cell_type": "markdown",
   "id": "47032db4",
   "metadata": {},
   "source": [
    "7. df2 데이터에서 고객 '연령'데이터를 이용해, 고객의 '연령대'를 계산하고 파생변수로 선언하시오. "
   ]
  },
  {
   "cell_type": "code",
   "execution_count": 13,
   "id": "91a973c3",
   "metadata": {},
   "outputs": [
    {
     "name": "stdout",
     "output_type": "stream",
     "text": [
      "10살 미만 : \n",
      "Empty DataFrame\n",
      "Columns: [회원번호, 회원상태, 성별, 결혼유무, 주소, 생년, 연령, 총구매금액, 총구매수량, 총방문횟수, 1회방문구매평균]\n",
      "Index: []\n",
      "100세 이상 :\n",
      "      회원번호  회원상태 성별 결혼유무               주소    생년   연령      총구매금액  총구매수량  총방문횟수  \\\n",
      "313   2414  정상회원  남   기혼   경기 성남시 분당구 정자동  1913  105  5436630.0  667.2  543.0   \n",
      "3863  5964  정상회원  남   기혼  경남 고성군 하이면 경남 고  1911  107    41600.0    6.0    6.0   \n",
      "\n",
      "          1회방문구매평균  \n",
      "313   10012.209945  \n",
      "3863   6933.333333  \n"
     ]
    }
   ],
   "source": [
    "# 10대 미만의 연령대가 있는지 확인\n",
    "under_10 = df2[df2['연령'] < 10]\n",
    "print('10살 미만 : ')\n",
    "print(under_10)\n",
    "\n",
    "# 100세 이상의 연령대가 있는지 확인\n",
    "under_10 = df2[df2['연령'] >= 100]\n",
    "print('100세 이상 :')\n",
    "print(under_10)"
   ]
  },
  {
   "cell_type": "code",
   "execution_count": 14,
   "id": "f2f77fe8",
   "metadata": {},
   "outputs": [
    {
     "name": "stdout",
     "output_type": "stream",
     "text": [
      "      연령  연령대\n",
      "0     51  50대\n",
      "1     71  70대\n",
      "2     46  40대\n",
      "3     49  40대\n",
      "4     70  70대\n",
      "...   ..  ...\n",
      "4391  55  50대\n",
      "4392  36  30대\n",
      "4393  43  40대\n",
      "4394  57  50대\n",
      "4395  47  40대\n",
      "\n",
      "[4396 rows x 2 columns]\n"
     ]
    }
   ],
   "source": [
    "# 연령대를 구분할 구간 설정\n",
    "bins = [0, 20, 30, 40, 50, 60, 70, 80, 90, 100, 110]\n",
    "\n",
    "# 각 구간에 해당하는 연령대 레이블 설정\n",
    "labels = ['10대', '20대', '30대', '40대', '50대', '60대', '70대', '80대', '90대', '100대']\n",
    "\n",
    "# 파생변수 선언\n",
    "df2['연령대'] = pd.cut(df2['연령'], bins = bins, labels = labels, right = False)\n",
    "\n",
    "# 결과 확인\n",
    "print(df2[['연령','연령대']])"
   ]
  },
  {
   "cell_type": "markdown",
   "id": "78028ebb",
   "metadata": {},
   "source": [
    "8. df_product데이터의'물품대분류' 중 가장 많이 판매되는(수량)3가지 항목을 확인 하시오. "
   ]
  },
  {
   "cell_type": "code",
   "execution_count": 15,
   "id": "18eb8b6a",
   "metadata": {},
   "outputs": [
    {
     "name": "stdout",
     "output_type": "stream",
     "text": [
      "가장 많이 판매되는 물품대분류 3가지:\n",
      "물품대분류\n",
      "채소     210661.70\n",
      "축산물    155188.75\n",
      "간식     137427.30\n",
      "Name: 구매수량, dtype: float64\n"
     ]
    }
   ],
   "source": [
    "print('가장 많이 판매되는 물품대분류 3가지:')\n",
    "print(df_product.groupby('물품대분류')['구매수량'].sum().nlargest(3))"
   ]
  },
  {
   "cell_type": "markdown",
   "id": "96940876",
   "metadata": {},
   "source": [
    "9. 앞서 확인한 3가지 항목을 추출하여, df_product_top이라는 변수로 선언하고, df_product_top에서 '구매매장'별 '구매금액'의 합과 평균을 계산하시오."
   ]
  },
  {
   "cell_type": "code",
   "execution_count": 16,
   "id": "5ec0325b",
   "metadata": {},
   "outputs": [
    {
     "name": "stdout",
     "output_type": "stream",
     "text": [
      "구매매장별 구매금액의 합 : \n",
      "구매매장\n",
      "매장1    363985400\n",
      "매장2    461745602\n",
      "매장3    916748142\n",
      "매장4    419048570\n",
      "Name: 구매금액, dtype: int64\n",
      "\n",
      " 구매매장별 구매금액 평균 : \n",
      "구매매장\n",
      "매장1    4770.638426\n",
      "매장2    4908.271082\n",
      "매장3    4949.910326\n",
      "매장4    5019.146844\n",
      "Name: 구매금액, dtype: float64\n"
     ]
    }
   ],
   "source": [
    "# df_product_top 변수 선언\n",
    "top_categories = df_product.groupby('물품대분류')['구매수량'].sum().nlargest(3).index\n",
    "df_product_top = df_product[df_product['물품대분류'].isin(top_categories)]\n",
    "\n",
    "# '구매매장'별 '구매금액'의 합 계산\n",
    "purchase_sum = df_product_top.groupby('구매매장')['구매금액'].sum()\n",
    "# '구매매장'별 '구매금액'의 평균 계산\n",
    "purchase_mean = df_product_top.groupby('구매매장')['구매금액'].mean()\n",
    "\n",
    "# 결과 확인\n",
    "print('구매매장별 구매금액의 합 : ')\n",
    "print(purchase_sum)\n",
    "print('\\n 구매매장별 구매금액 평균 : ')\n",
    "print(purchase_mean)"
   ]
  },
  {
   "cell_type": "markdown",
   "id": "47a016f5",
   "metadata": {},
   "source": [
    "10. df_product데이터의 '공급일자'데이터를 날짜형식으로 변환하여, '연도' / '월' / '요일' 항목을 새로운 파생변수로 생성하시오."
   ]
  },
  {
   "cell_type": "code",
   "execution_count": 17,
   "id": "8baf384f",
   "metadata": {},
   "outputs": [
    {
     "name": "stdout",
     "output_type": "stream",
     "text": [
      "0         20170201\n",
      "1         20170201\n",
      "2         20170201\n",
      "3         20170201\n",
      "4         20170201\n",
      "            ...   \n",
      "735778    20170630\n",
      "735779    20170630\n",
      "735780    20170630\n",
      "735781    20170630\n",
      "735782    20170630\n",
      "Name: 공급일자, Length: 735783, dtype: int64\n"
     ]
    }
   ],
   "source": [
    "# '공급일자' 구조 확인\n",
    "print(df_product['공급일자'])"
   ]
  },
  {
   "cell_type": "code",
   "execution_count": 18,
   "id": "873255ac",
   "metadata": {},
   "outputs": [
    {
     "name": "stdout",
     "output_type": "stream",
     "text": [
      "             공급일자    연도  월         요일\n",
      "0      2017-02-01  2017  2  Wednesday\n",
      "1      2017-02-01  2017  2  Wednesday\n",
      "2      2017-02-01  2017  2  Wednesday\n",
      "3      2017-02-01  2017  2  Wednesday\n",
      "4      2017-02-01  2017  2  Wednesday\n",
      "...           ...   ... ..        ...\n",
      "735778 2017-06-30  2017  6     Friday\n",
      "735779 2017-06-30  2017  6     Friday\n",
      "735780 2017-06-30  2017  6     Friday\n",
      "735781 2017-06-30  2017  6     Friday\n",
      "735782 2017-06-30  2017  6     Friday\n",
      "\n",
      "[735783 rows x 4 columns]\n"
     ]
    }
   ],
   "source": [
    "# '공급일자' 데이터를 날짜형식으로 변환\n",
    "df_product['공급일자'] = pd.to_datetime(df_product['공급일자'], format='%Y%m%d')\n",
    "\n",
    "# '연도'/'월'/'요일' 파생변수 생성\n",
    "df_product['연도'] = df_product['공급일자'].dt.year\n",
    "df_product['월'] = df_product['공급일자'].dt.month\n",
    "df_product['요일'] = df_product['공급일자'].dt.day_name()\n",
    "\n",
    "# 결과 확인\n",
    "print(df_product[['공급일자', '연도', '월', '요일']])"
   ]
  },
  {
   "cell_type": "markdown",
   "id": "221cc336",
   "metadata": {},
   "source": [
    "11. df_product데이터의 '월'에 따른'물품대분류'별 '구매금액'의 합을 게산하여 result8.xlsx저장 하시오. "
   ]
  },
  {
   "cell_type": "code",
   "execution_count": 19,
   "id": "854e70ca",
   "metadata": {},
   "outputs": [
    {
     "name": "stdout",
     "output_type": "stream",
     "text": [
      "월에 따른 물품대분류 별 구매금액의 합 : \n",
      "    월 물품대분류       구매금액\n",
      "0   1    간식   83859470\n",
      "1   1    건강   35891780\n",
      "2   1    과실   59004590\n",
      "3   1    반찬   51215050\n",
      "4   1  베이커리       4800\n",
      ".. ..   ...        ...\n",
      "86  6    잡곡    9861120\n",
      "87  6    주곡   23827320\n",
      "88  6    주류    1251030\n",
      "89  6    채소  120914240\n",
      "90  6   축산물  185366000\n",
      "\n",
      "[91 rows x 3 columns]\n"
     ]
    }
   ],
   "source": [
    "# '월'에 따른 '물품대분류'별 '구매금액' 합 계산\n",
    "result_df = df_product.groupby(['월', '물품대분류'])['구매금액'].sum().reset_index()\n",
    "\n",
    "# 결과 확인\n",
    "print('월에 따른 물품대분류 별 구매금액의 합 : ')\n",
    "print(result_df)\n",
    "\n",
    "# result8.xlsx로 저장\n",
    "result_df.to_excel('result8.xlsx', index = False)\n"
   ]
  },
  {
   "cell_type": "markdown",
   "id": "b3067020",
   "metadata": {},
   "source": [
    "12. df2 데이터를 이용해, '성별'에 따른 '총구매금액'의 평균을 시각화 하시오. "
   ]
  },
  {
   "cell_type": "code",
   "execution_count": 20,
   "id": "4cf7b44e",
   "metadata": {},
   "outputs": [
    {
     "data": {
      "text/plain": [
       "<Axes: xlabel='성별', ylabel='총구매금액'>"
      ]
     },
     "execution_count": 20,
     "metadata": {},
     "output_type": "execute_result"
    },
    {
     "data": {
      "image/png": "[encoded data removed]",
      "text/plain": [
       "<Figure size 640x480 with 1 Axes>"
      ]
     },
     "metadata": {},
     "output_type": "display_data"
    }
   ],
   "source": [
    "import seaborn as sns\n",
    "import matplotlib.pyplot as plt \n",
    "\n",
    "# '성별'에 따른 '총구매금액'의 평균 계산\n",
    "gender_purchase_mean = df2.groupby('성별')['총구매금액'].mean().reset_index()\n",
    "\n",
    "# 시각화\n",
    "plt.rc('font', family='Malgun Gothic')\n",
    "sns.barplot(x = '성별', y = '총구매금액', data = gender_purchase_mean)"
   ]
  },
  {
   "cell_type": "markdown",
   "id": "987454a2",
   "metadata": {},
   "source": [
    "13. df2 데이터를 이용해, '1회방문구매평균'을 바탕으로 고객등급을 분류하고자 한다. 10만원 이상 고객은 A / 5만원 이상은 B / 2만원 이상 C / 나머지는 D 등급으로 분류하여, '고객등급'이라는 새로운 항목을 생성하시오.  "
   ]
  },
  {
   "cell_type": "code",
   "execution_count": 21,
   "id": "121ee836",
   "metadata": {},
   "outputs": [
    {
     "name": "stdout",
     "output_type": "stream",
     "text": [
      "         1회방문구매평균 고객등급\n",
      "0     5822.309942    D\n",
      "1     5124.352078    D\n",
      "2     5177.440551    D\n",
      "3     5330.080508    D\n",
      "4     5992.050781    D\n",
      "...           ...  ...\n",
      "4391  5727.777778    D\n",
      "4392  7500.000000    D\n",
      "4393  6166.666667    D\n",
      "4394  5300.000000    D\n",
      "4395  9888.571429    D\n",
      "\n",
      "[4396 rows x 2 columns]\n"
     ]
    }
   ],
   "source": [
    "# '1회방문구매평균'을 기준으로 고객등급을 분류하는 함수\n",
    "def customer_grade_classify(avg_purchase):\n",
    "    if avg_purchase >= 100000:\n",
    "        return 'A'\n",
    "    elif avg_purchase >= 50000:\n",
    "        return 'B'\n",
    "    elif avg_purchase >= 20000:\n",
    "        return 'C'\n",
    "    else:\n",
    "        return 'D'\n",
    "\n",
    "# '고객등급' 열 추가\n",
    "df2['고객등급'] = df2['1회방문구매평균'].apply(customer_grade_classify)\n",
    "\n",
    "# 결과 확인\n",
    "print(df2[['1회방문구매평균', '고객등급']])"
   ]
  },
  {
   "cell_type": "markdown",
   "id": "06f0a911",
   "metadata": {},
   "source": [
    "14. df2에서 '고객등급'을 input 함수를 이용해 특정 값을 입력했을 때, 해당 고객등급에서 '성별'에 따른 '총구매금액' 기술통계량(describe 함수 활용)을 계산하여 'result9_등급명.xlsx'저장하는 프로그램을 구성하시오. "
   ]
  },
  {
   "cell_type": "code",
   "execution_count": 22,
   "id": "e9cf60ab-e3ca-45d3-8572-b75e1088140b",
   "metadata": {},
   "outputs": [],
   "source": [
    "# '고객등급'을 input 함수를 이용해 입력 받음\n",
    "customer_grade = input('고객등급을 입력하세요 : ')\n",
    "\n",
    "# 입력된 고객등급에 해당하는 행 선택\n",
    "selected_row = df2[df2['고객등급'] == customer_grade]\n",
    "\n",
    "# 선택된 행에서 '성별'에 따른 '총구매금액' 기술통계량 계산\n",
    "result = selected_row.groupby('성별')['총구매금액'].describe()\n",
    "\n",
    "# 'result9_등급명.xlsx'로 저장\n",
    "result.to_excel(f'result9_{customer_grade}.xlsx', index = True)"
   ]
  }
 ],
 "metadata": {
  "kernelspec": {
   "display_name": "Python 3 (ipykernel)",
   "language": "python",
   "name": "python3"
  },
  "language_info": {
   "codemirror_mode": {
    "name": "ipython",
    "version": 3
   },
   "file_extension": ".py",
   "mimetype": "text/x-python",
   "name": "python",
   "nbconvert_exporter": "python",
   "pygments_lexer": "ipython3",
   "version": "3.11.7"
  }
 },
 "nbformat": 4,
 "nbformat_minor": 5
}
