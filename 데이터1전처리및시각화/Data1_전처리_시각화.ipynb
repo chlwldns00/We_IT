{
 "cells": [
  {
   "cell_type": "markdown",
   "metadata": {},
   "source": [
    "<h2> 경기도 지역화폐 연령별 성별 이용현황 데이터 전처리 및 시각화 </h2>\n",
    "<h3> [데이터 정보] </h3>\n",
    "<ul>\n",
    "  <li> 경기도 각 시군의 연령별 성별 지역화폐 이용 현황 </li>\n",
    "  <li> 결제 취소 건수, 취소금액, 1회 평균 결제금액 : 선택제공항목으로 시군별로 제공 여부가 상이할 수 있음 </li>\n",
    "  <li> 갱신주기 : 연간 </li>\n",
    "  <li> 연령대가 기타인 경우 : 연령 및 성별이 확인되지 않은 지역화폐 결제 내역 </li>\n",
    "  <li> 금액 데이터의 단위 : 원 </li>"
   ]
  },
  {
   "cell_type": "markdown",
   "metadata": {},
   "source": [
    "<hr>"
   ]
  },
  {
   "cell_type": "markdown",
   "metadata": {},
   "source": [
    "<h3> [데이터 검토] </h3>"
   ]
  },
  {
   "cell_type": "code",
   "execution_count": 973,
   "metadata": {},
   "outputs": [],
   "source": [
    "# 데이터를 분석하는데 필요한 패키지 로드하기 \n",
    "import pandas as pd\n",
    "import numpy as np\n",
    "import seaborn as sns\n",
    "import matplotlib.pyplot as plt\n",
    "plt.rcParams.update({'font.family' : 'Malgun Gothic'}) \n",
    "\n",
    "# 데이터 불러오기\n",
    "raw_df1 = pd.read_csv('Data1.csv')\n",
    "\n",
    "# 복사본 만들기 \n",
    "df1 = raw_df1.copy()"
   ]
  },
  {
   "cell_type": "code",
   "execution_count": 974,
   "metadata": {},
   "outputs": [
    {
     "name": "stdout",
     "output_type": "stream",
     "text": [
      "데이터1의 행, 열 개수 : \n",
      "(1537, 9)\n"
     ]
    }
   ],
   "source": [
    "# 데이터의 행, 열 개수 출력\n",
    "print('데이터1의 행, 열 개수 : ')\n",
    "print(df1.shape)"
   ]
  },
  {
   "cell_type": "code",
   "execution_count": 975,
   "metadata": {},
   "outputs": [
    {
     "name": "stdout",
     "output_type": "stream",
     "text": [
      "데이터1의 구조와 타입 : \n",
      "<class 'pandas.core.frame.DataFrame'>\n",
      "RangeIndex: 1537 entries, 0 to 1536\n",
      "Data columns (total 9 columns):\n",
      " #   Column    Non-Null Count  Dtype  \n",
      "---  ------    --------------  -----  \n",
      " 0   기준연도      1537 non-null   int64  \n",
      " 1   시군명       1537 non-null   object \n",
      " 2   연령대       1537 non-null   object \n",
      " 3   성별        1536 non-null   object \n",
      " 4   결제건수      1537 non-null   int64  \n",
      " 5   결제금액      1537 non-null   float64\n",
      " 6   결제취소건수    1416 non-null   float64\n",
      " 7   결제취소금액    1416 non-null   float64\n",
      " 8   1회평균결제금액  1416 non-null   float64\n",
      "dtypes: float64(4), int64(2), object(3)\n",
      "memory usage: 108.2+ KB\n",
      "None\n"
     ]
    }
   ],
   "source": [
    "# 데이터의 구조와 타입(변수 속성)\n",
    "print('데이터1의 구조와 타입 : ')\n",
    "print(df1.info())"
   ]
  },
  {
   "cell_type": "code",
   "execution_count": 976,
   "metadata": {},
   "outputs": [
    {
     "data": {
      "text/html": [
       "<div>\n",
       "<style scoped>\n",
       "    .dataframe tbody tr th:only-of-type {\n",
       "        vertical-align: middle;\n",
       "    }\n",
       "\n",
       "    .dataframe tbody tr th {\n",
       "        vertical-align: top;\n",
       "    }\n",
       "\n",
       "    .dataframe thead th {\n",
       "        text-align: right;\n",
       "    }\n",
       "</style>\n",
       "<table border=\"1\" class=\"dataframe\">\n",
       "  <thead>\n",
       "    <tr style=\"text-align: right;\">\n",
       "      <th></th>\n",
       "      <th>기준연도</th>\n",
       "      <th>시군명</th>\n",
       "      <th>연령대</th>\n",
       "      <th>성별</th>\n",
       "      <th>결제건수</th>\n",
       "      <th>결제금액</th>\n",
       "      <th>결제취소건수</th>\n",
       "      <th>결제취소금액</th>\n",
       "      <th>1회평균결제금액</th>\n",
       "    </tr>\n",
       "  </thead>\n",
       "  <tbody>\n",
       "    <tr>\n",
       "      <th>0</th>\n",
       "      <td>2023</td>\n",
       "      <td>가평군</td>\n",
       "      <td>10</td>\n",
       "      <td>남</td>\n",
       "      <td>8409</td>\n",
       "      <td>188,845,090.00</td>\n",
       "      <td>46.00</td>\n",
       "      <td>4,871,840.00</td>\n",
       "      <td>22,457.00</td>\n",
       "    </tr>\n",
       "    <tr>\n",
       "      <th>1</th>\n",
       "      <td>2023</td>\n",
       "      <td>가평군</td>\n",
       "      <td>10</td>\n",
       "      <td>여</td>\n",
       "      <td>6584</td>\n",
       "      <td>176,605,435.00</td>\n",
       "      <td>68.00</td>\n",
       "      <td>1,841,390.00</td>\n",
       "      <td>26,823.00</td>\n",
       "    </tr>\n",
       "    <tr>\n",
       "      <th>2</th>\n",
       "      <td>2023</td>\n",
       "      <td>가평군</td>\n",
       "      <td>20</td>\n",
       "      <td>남</td>\n",
       "      <td>70363</td>\n",
       "      <td>1,545,018,255.00</td>\n",
       "      <td>728.00</td>\n",
       "      <td>37,559,999.00</td>\n",
       "      <td>21,958.00</td>\n",
       "    </tr>\n",
       "    <tr>\n",
       "      <th>3</th>\n",
       "      <td>2023</td>\n",
       "      <td>가평군</td>\n",
       "      <td>20</td>\n",
       "      <td>여</td>\n",
       "      <td>55118</td>\n",
       "      <td>1,332,506,645.00</td>\n",
       "      <td>681.00</td>\n",
       "      <td>27,996,349.00</td>\n",
       "      <td>24,176.00</td>\n",
       "    </tr>\n",
       "    <tr>\n",
       "      <th>4</th>\n",
       "      <td>2023</td>\n",
       "      <td>가평군</td>\n",
       "      <td>30</td>\n",
       "      <td>남</td>\n",
       "      <td>110968</td>\n",
       "      <td>2,682,234,965.00</td>\n",
       "      <td>1,382.00</td>\n",
       "      <td>84,476,317.00</td>\n",
       "      <td>24,171.00</td>\n",
       "    </tr>\n",
       "    <tr>\n",
       "      <th>5</th>\n",
       "      <td>2023</td>\n",
       "      <td>가평군</td>\n",
       "      <td>30</td>\n",
       "      <td>여</td>\n",
       "      <td>99493</td>\n",
       "      <td>2,563,403,916.00</td>\n",
       "      <td>1,230.00</td>\n",
       "      <td>54,207,827.00</td>\n",
       "      <td>25,765.00</td>\n",
       "    </tr>\n",
       "    <tr>\n",
       "      <th>6</th>\n",
       "      <td>2023</td>\n",
       "      <td>가평군</td>\n",
       "      <td>40</td>\n",
       "      <td>남</td>\n",
       "      <td>167399</td>\n",
       "      <td>4,188,413,440.00</td>\n",
       "      <td>1,629.00</td>\n",
       "      <td>100,770,277.00</td>\n",
       "      <td>25,021.00</td>\n",
       "    </tr>\n",
       "    <tr>\n",
       "      <th>7</th>\n",
       "      <td>2023</td>\n",
       "      <td>가평군</td>\n",
       "      <td>40</td>\n",
       "      <td>여</td>\n",
       "      <td>189169</td>\n",
       "      <td>4,782,432,633.00</td>\n",
       "      <td>1,909.00</td>\n",
       "      <td>77,437,079.00</td>\n",
       "      <td>25,281.00</td>\n",
       "    </tr>\n",
       "    <tr>\n",
       "      <th>8</th>\n",
       "      <td>2023</td>\n",
       "      <td>가평군</td>\n",
       "      <td>50</td>\n",
       "      <td>남</td>\n",
       "      <td>190205</td>\n",
       "      <td>4,879,269,120.00</td>\n",
       "      <td>1,796.00</td>\n",
       "      <td>109,244,307.00</td>\n",
       "      <td>25,653.00</td>\n",
       "    </tr>\n",
       "    <tr>\n",
       "      <th>9</th>\n",
       "      <td>2023</td>\n",
       "      <td>가평군</td>\n",
       "      <td>50</td>\n",
       "      <td>여</td>\n",
       "      <td>170268</td>\n",
       "      <td>4,780,308,547.00</td>\n",
       "      <td>1,587.00</td>\n",
       "      <td>83,345,676.00</td>\n",
       "      <td>28,075.00</td>\n",
       "    </tr>\n",
       "  </tbody>\n",
       "</table>\n",
       "</div>"
      ],
      "text/plain": [
       "   기준연도  시군명 연령대 성별    결제건수             결제금액   결제취소건수         결제취소금액  1회평균결제금액\n",
       "0  2023  가평군  10  남    8409   188,845,090.00    46.00   4,871,840.00 22,457.00\n",
       "1  2023  가평군  10  여    6584   176,605,435.00    68.00   1,841,390.00 26,823.00\n",
       "2  2023  가평군  20  남   70363 1,545,018,255.00   728.00  37,559,999.00 21,958.00\n",
       "3  2023  가평군  20  여   55118 1,332,506,645.00   681.00  27,996,349.00 24,176.00\n",
       "4  2023  가평군  30  남  110968 2,682,234,965.00 1,382.00  84,476,317.00 24,171.00\n",
       "5  2023  가평군  30  여   99493 2,563,403,916.00 1,230.00  54,207,827.00 25,765.00\n",
       "6  2023  가평군  40  남  167399 4,188,413,440.00 1,629.00 100,770,277.00 25,021.00\n",
       "7  2023  가평군  40  여  189169 4,782,432,633.00 1,909.00  77,437,079.00 25,281.00\n",
       "8  2023  가평군  50  남  190205 4,879,269,120.00 1,796.00 109,244,307.00 25,653.00\n",
       "9  2023  가평군  50  여  170268 4,780,308,547.00 1,587.00  83,345,676.00 28,075.00"
      ]
     },
     "execution_count": 976,
     "metadata": {},
     "output_type": "execute_result"
    }
   ],
   "source": [
    "# 데이터 살펴보기\n",
    "df1.head(10)"
   ]
  },
  {
   "cell_type": "code",
   "execution_count": 977,
   "metadata": {},
   "outputs": [
    {
     "name": "stdout",
     "output_type": "stream",
     "text": [
      "데이터1의 결측치 : \n"
     ]
    },
    {
     "data": {
      "text/plain": [
       "기준연도          0\n",
       "시군명           0\n",
       "연령대           0\n",
       "성별            1\n",
       "결제건수          0\n",
       "결제금액          0\n",
       "결제취소건수      121\n",
       "결제취소금액      121\n",
       "1회평균결제금액    121\n",
       "dtype: int64"
      ]
     },
     "execution_count": 977,
     "metadata": {},
     "output_type": "execute_result"
    }
   ],
   "source": [
    "# 데이터의 결측치 확인\n",
    "print(('데이터1의 결측치 : '))\n",
    "df1.isnull().sum()"
   ]
  },
  {
   "cell_type": "markdown",
   "metadata": {},
   "source": [
    "-> 성별과 결제취소건수, 결제취소금액, 1회평균결제금액에 결측치가 있기는 하지만 각 개별 변수들을 살펴보면서 결측치 처리 예정"
   ]
  },
  {
   "cell_type": "code",
   "execution_count": 978,
   "metadata": {},
   "outputs": [
    {
     "data": {
      "text/html": [
       "<div>\n",
       "<style scoped>\n",
       "    .dataframe tbody tr th:only-of-type {\n",
       "        vertical-align: middle;\n",
       "    }\n",
       "\n",
       "    .dataframe tbody tr th {\n",
       "        vertical-align: top;\n",
       "    }\n",
       "\n",
       "    .dataframe thead th {\n",
       "        text-align: right;\n",
       "    }\n",
       "</style>\n",
       "<table border=\"1\" class=\"dataframe\">\n",
       "  <thead>\n",
       "    <tr style=\"text-align: right;\">\n",
       "      <th></th>\n",
       "      <th>기준연도</th>\n",
       "      <th>결제건수</th>\n",
       "      <th>결제금액</th>\n",
       "      <th>결제취소건수</th>\n",
       "      <th>결제취소금액</th>\n",
       "      <th>1회평균결제금액</th>\n",
       "    </tr>\n",
       "  </thead>\n",
       "  <tbody>\n",
       "    <tr>\n",
       "      <th>count</th>\n",
       "      <td>1,537.00</td>\n",
       "      <td>1,537.00</td>\n",
       "      <td>1,537.00</td>\n",
       "      <td>1,416.00</td>\n",
       "      <td>1,416.00</td>\n",
       "      <td>1,416.00</td>\n",
       "    </tr>\n",
       "    <tr>\n",
       "      <th>mean</th>\n",
       "      <td>2,022.05</td>\n",
       "      <td>556,810.90</td>\n",
       "      <td>13,510,390,763.54</td>\n",
       "      <td>4,126.34</td>\n",
       "      <td>192,784,143.25</td>\n",
       "      <td>23,882.63</td>\n",
       "    </tr>\n",
       "    <tr>\n",
       "      <th>std</th>\n",
       "      <td>0.80</td>\n",
       "      <td>1,319,317.40</td>\n",
       "      <td>32,043,398,762.28</td>\n",
       "      <td>10,345.02</td>\n",
       "      <td>511,997,276.45</td>\n",
       "      <td>6,667.52</td>\n",
       "    </tr>\n",
       "    <tr>\n",
       "      <th>min</th>\n",
       "      <td>2,021.00</td>\n",
       "      <td>0.00</td>\n",
       "      <td>0.00</td>\n",
       "      <td>0.00</td>\n",
       "      <td>0.00</td>\n",
       "      <td>9,500.00</td>\n",
       "    </tr>\n",
       "    <tr>\n",
       "      <th>25%</th>\n",
       "      <td>2,021.00</td>\n",
       "      <td>50,158.00</td>\n",
       "      <td>1,217,623,436.00</td>\n",
       "      <td>347.50</td>\n",
       "      <td>14,949,535.00</td>\n",
       "      <td>19,505.75</td>\n",
       "    </tr>\n",
       "    <tr>\n",
       "      <th>50%</th>\n",
       "      <td>2,022.00</td>\n",
       "      <td>193,383.00</td>\n",
       "      <td>4,406,509,470.00</td>\n",
       "      <td>1,441.50</td>\n",
       "      <td>61,763,438.00</td>\n",
       "      <td>22,945.00</td>\n",
       "    </tr>\n",
       "    <tr>\n",
       "      <th>75%</th>\n",
       "      <td>2,023.00</td>\n",
       "      <td>588,580.00</td>\n",
       "      <td>13,272,831,107.00</td>\n",
       "      <td>4,094.00</td>\n",
       "      <td>168,813,100.50</td>\n",
       "      <td>26,593.75</td>\n",
       "    </tr>\n",
       "    <tr>\n",
       "      <th>max</th>\n",
       "      <td>2,023.00</td>\n",
       "      <td>17,524,460.00</td>\n",
       "      <td>416,000,000,000.00</td>\n",
       "      <td>128,058.00</td>\n",
       "      <td>8,114,899,177.00</td>\n",
       "      <td>96,746.00</td>\n",
       "    </tr>\n",
       "  </tbody>\n",
       "</table>\n",
       "</div>"
      ],
      "text/plain": [
       "          기준연도          결제건수               결제금액     결제취소건수           결제취소금액  \\\n",
       "count 1,537.00      1,537.00           1,537.00   1,416.00         1,416.00   \n",
       "mean  2,022.05    556,810.90  13,510,390,763.54   4,126.34   192,784,143.25   \n",
       "std       0.80  1,319,317.40  32,043,398,762.28  10,345.02   511,997,276.45   \n",
       "min   2,021.00          0.00               0.00       0.00             0.00   \n",
       "25%   2,021.00     50,158.00   1,217,623,436.00     347.50    14,949,535.00   \n",
       "50%   2,022.00    193,383.00   4,406,509,470.00   1,441.50    61,763,438.00   \n",
       "75%   2,023.00    588,580.00  13,272,831,107.00   4,094.00   168,813,100.50   \n",
       "max   2,023.00 17,524,460.00 416,000,000,000.00 128,058.00 8,114,899,177.00   \n",
       "\n",
       "       1회평균결제금액  \n",
       "count  1,416.00  \n",
       "mean  23,882.63  \n",
       "std    6,667.52  \n",
       "min    9,500.00  \n",
       "25%   19,505.75  \n",
       "50%   22,945.00  \n",
       "75%   26,593.75  \n",
       "max   96,746.00  "
      ]
     },
     "execution_count": 978,
     "metadata": {},
     "output_type": "execute_result"
    }
   ],
   "source": [
    "# 숫자 표기 설정\n",
    "pd.options.display.float_format = '{:,.2f}'.format # 지수 없이 숫자로\n",
    "#pd.reset_option('display.float_format') # 지수표기법\n",
    "\n",
    "# 데이터 요약 통계량 확인\n",
    "df1.describe()"
   ]
  },
  {
   "cell_type": "markdown",
   "metadata": {},
   "source": [
    "<hr>"
   ]
  },
  {
   "cell_type": "markdown",
   "metadata": {},
   "source": [
    "<h3> [기준연도 변수 검토 및 전처리] </h3>"
   ]
  },
  {
   "cell_type": "code",
   "execution_count": 979,
   "metadata": {},
   "outputs": [
    {
     "data": {
      "text/plain": [
       "dtype('int64')"
      ]
     },
     "execution_count": 979,
     "metadata": {},
     "output_type": "execute_result"
    }
   ],
   "source": [
    "# 변수 타입 파악하기\n",
    "df1['기준연도'].dtypes"
   ]
  },
  {
   "cell_type": "code",
   "execution_count": 980,
   "metadata": {},
   "outputs": [
    {
     "data": {
      "text/plain": [
       "기준연도\n",
       "2022    560\n",
       "2023    524\n",
       "2021    453\n",
       "Name: count, dtype: int64"
      ]
     },
     "execution_count": 980,
     "metadata": {},
     "output_type": "execute_result"
    }
   ],
   "source": [
    "# 빈도 구하기\n",
    "df1['기준연도'].value_counts()"
   ]
  },
  {
   "cell_type": "code",
   "execution_count": 981,
   "metadata": {},
   "outputs": [
    {
     "data": {
      "text/plain": [
       "0"
      ]
     },
     "execution_count": 981,
     "metadata": {},
     "output_type": "execute_result"
    }
   ],
   "source": [
    "# 결측치 확인\n",
    "df1['기준연도'].isna().sum()"
   ]
  },
  {
   "cell_type": "markdown",
   "metadata": {},
   "source": [
    "-> 기준연도는 정수 타입이고 2021, 2022, 2023으로 구성된다는 것을 알 수 있음."
   ]
  },
  {
   "cell_type": "markdown",
   "metadata": {},
   "source": [
    "기준연도에 2021, 2022, 2023만 있고 다른 값은 없으므로 이상치나 결측 처리 과정은 건너뜀."
   ]
  },
  {
   "cell_type": "markdown",
   "metadata": {},
   "source": [
    "<hr>"
   ]
  },
  {
   "cell_type": "markdown",
   "metadata": {},
   "source": [
    "<h3> [시군명 변수 검토 및 전처리] </h3>"
   ]
  },
  {
   "cell_type": "code",
   "execution_count": 982,
   "metadata": {},
   "outputs": [
    {
     "data": {
      "text/plain": [
       "dtype('O')"
      ]
     },
     "execution_count": 982,
     "metadata": {},
     "output_type": "execute_result"
    }
   ],
   "source": [
    "# 변수 타입 파악하기\n",
    "df1['시군명'].dtypes "
   ]
  },
  {
   "cell_type": "code",
   "execution_count": 983,
   "metadata": {},
   "outputs": [
    {
     "data": {
      "text/plain": [
       "시군명\n",
       "안양시     54\n",
       "하남시     54\n",
       "김포시     54\n",
       "동두천시    54\n",
       "의왕시     54\n",
       "시흥시     54\n",
       "과천시     53\n",
       "광명시     53\n",
       "광주시     53\n",
       "파주시     53\n",
       "의정부시    53\n",
       "수원시     53\n",
       "용인시     53\n",
       "안성시     52\n",
       "포천시     52\n",
       "화성시     52\n",
       "안산시     52\n",
       "구리시     52\n",
       "양주시     51\n",
       "양평군     51\n",
       "연천군     51\n",
       "성남시     51\n",
       "부천시     51\n",
       "이천시     51\n",
       "평택시     51\n",
       "여주시     50\n",
       "고양시     36\n",
       "오산시     35\n",
       "군포시     35\n",
       "가평군     35\n",
       "남양주시    34\n",
       "Name: count, dtype: int64"
      ]
     },
     "execution_count": 983,
     "metadata": {},
     "output_type": "execute_result"
    }
   ],
   "source": [
    "# 빈도 구하기\n",
    "df1['시군명'].value_counts()"
   ]
  },
  {
   "cell_type": "code",
   "execution_count": 984,
   "metadata": {},
   "outputs": [
    {
     "data": {
      "text/plain": [
       "array(['가평군', '고양시', '과천시', '광명시', '광주시', '구리시', '군포시', '김포시', '남양주시',\n",
       "       '동두천시', '부천시', '성남시', '수원시', '시흥시', '안산시', '안성시', '안양시', '양주시',\n",
       "       '양평군', '여주시', '연천군', '오산시', '용인시', '의왕시', '의정부시', '이천시', '파주시',\n",
       "       '평택시', '포천시', '하남시', '화성시'], dtype=object)"
      ]
     },
     "execution_count": 984,
     "metadata": {},
     "output_type": "execute_result"
    }
   ],
   "source": [
    "# 시군명 종류\n",
    "df1['시군명'].unique()"
   ]
  },
  {
   "cell_type": "code",
   "execution_count": 985,
   "metadata": {},
   "outputs": [
    {
     "data": {
      "text/plain": [
       "31"
      ]
     },
     "execution_count": 985,
     "metadata": {},
     "output_type": "execute_result"
    }
   ],
   "source": [
    "# 시군명 개수\n",
    "len(df1['시군명'].unique())"
   ]
  },
  {
   "cell_type": "code",
   "execution_count": 986,
   "metadata": {},
   "outputs": [
    {
     "data": {
      "text/plain": [
       "0"
      ]
     },
     "execution_count": 986,
     "metadata": {},
     "output_type": "execute_result"
    }
   ],
   "source": [
    "# 결측치 확인\n",
    "df1['시군명'].isna().sum()"
   ]
  },
  {
   "cell_type": "markdown",
   "metadata": {},
   "source": [
    "-> 시군명은 object 타입이고 총 31개의 시군명 종류를 가지고 있음."
   ]
  },
  {
   "cell_type": "markdown",
   "metadata": {},
   "source": [
    "기준연도에 결측치가 없으므로 이상치나 결측 처리 과정은 건너뜀."
   ]
  },
  {
   "cell_type": "markdown",
   "metadata": {},
   "source": [
    "<hr>"
   ]
  },
  {
   "cell_type": "markdown",
   "metadata": {},
   "source": [
    "<h3> [연령대 변수 검토 및 전처리] </h3>"
   ]
  },
  {
   "cell_type": "code",
   "execution_count": 987,
   "metadata": {},
   "outputs": [
    {
     "data": {
      "text/plain": [
       "dtype('O')"
      ]
     },
     "execution_count": 987,
     "metadata": {},
     "output_type": "execute_result"
    }
   ],
   "source": [
    "# 변수 타입 파악하기\n",
    "df1['연령대'].dtypes"
   ]
  },
  {
   "cell_type": "code",
   "execution_count": 988,
   "metadata": {},
   "outputs": [
    {
     "data": {
      "text/plain": [
       "연령대\n",
       "10           168\n",
       "20           168\n",
       "30           168\n",
       "40           168\n",
       "50           168\n",
       "60           168\n",
       "70           168\n",
       "80           148\n",
       "기타            81\n",
       "전체 (기타포함)     34\n",
       "80대이상         14\n",
       "70대            8\n",
       "60대            8\n",
       "50대            8\n",
       "40대            8\n",
       "30대            8\n",
       "20대            8\n",
       "10대            8\n",
       "10대미만          6\n",
       "80이상           6\n",
       "80대 이상         4\n",
       "80대            2\n",
       "90대            2\n",
       "90             2\n",
       "10대 미만         2\n",
       "80세 이상         2\n",
       "탈퇴회원           1\n",
       "미분류            1\n",
       "Name: count, dtype: int64"
      ]
     },
     "execution_count": 988,
     "metadata": {},
     "output_type": "execute_result"
    }
   ],
   "source": [
    "# 빈도 구하기\n",
    "df1['연령대'].value_counts()"
   ]
  },
  {
   "cell_type": "code",
   "execution_count": 989,
   "metadata": {},
   "outputs": [
    {
     "data": {
      "text/plain": [
       "0"
      ]
     },
     "execution_count": 989,
     "metadata": {},
     "output_type": "execute_result"
    }
   ],
   "source": [
    "# 결측치 확인\n",
    "df1['연령대'].isna().sum()"
   ]
  },
  {
   "cell_type": "code",
   "execution_count": 990,
   "metadata": {},
   "outputs": [
    {
     "data": {
      "text/plain": [
       "Index([ 541,  560,  578,  596,  614,  632,  650,  668,  686,  704,  722,  759,\n",
       "        795,  813,  831,  849,  867,  885,  903,  921,  939,  957,  975,  993,\n",
       "       1011, 1029, 1047, 1065, 1083, 1192, 1314, 1415, 1500, 1519],\n",
       "      dtype='int64')"
      ]
     },
     "execution_count": 990,
     "metadata": {},
     "output_type": "execute_result"
    }
   ],
   "source": [
    "# 전체 (기타포함) 행의 인덱스\n",
    "df1[df1['연령대'] == '전체 (기타포함)'].index"
   ]
  },
  {
   "cell_type": "code",
   "execution_count": 991,
   "metadata": {},
   "outputs": [
    {
     "data": {
      "text/plain": [
       "기준연도                    2022\n",
       "시군명                      가평군\n",
       "연령대                전체 (기타포함)\n",
       "성별                        전체\n",
       "결제건수                 1489641\n",
       "결제금액       38,317,308,853.00\n",
       "결제취소건수             15,109.00\n",
       "결제취소금액        860,361,777.00\n",
       "1회평균결제금액           25,723.00\n",
       "Name: 541, dtype: object"
      ]
     },
     "execution_count": 991,
     "metadata": {},
     "output_type": "execute_result"
    }
   ],
   "source": [
    "# 전체 (기타포함) 행 중 하나 확인\n",
    "df1.iloc[541]"
   ]
  },
  {
   "cell_type": "markdown",
   "metadata": {},
   "source": [
    "전체 (기타포함) 의 경우 해당 시군의 데이터들의 합산 결과이므로 중복된 값이라고 볼 수 있음. 따라서 해당 행들은 제거해야 함."
   ]
  },
  {
   "cell_type": "code",
   "execution_count": 992,
   "metadata": {},
   "outputs": [
    {
     "data": {
      "text/plain": [
       "연령대\n",
       "10        168\n",
       "30        168\n",
       "40        168\n",
       "50        168\n",
       "60        168\n",
       "70        168\n",
       "20        168\n",
       "80        148\n",
       "기타         81\n",
       "80대이상      14\n",
       "40대         8\n",
       "70대         8\n",
       "60대         8\n",
       "50대         8\n",
       "30대         8\n",
       "20대         8\n",
       "10대         8\n",
       "10대미만       6\n",
       "80이상        6\n",
       "80대 이상      4\n",
       "80대         2\n",
       "90대         2\n",
       "90          2\n",
       "10대 미만      2\n",
       "80세 이상      2\n",
       "탈퇴회원        1\n",
       "미분류         1\n",
       "Name: count, dtype: int64"
      ]
     },
     "execution_count": 992,
     "metadata": {},
     "output_type": "execute_result"
    }
   ],
   "source": [
    "# 전체 (기타포함) 행 제거하여 data1에 반영\n",
    "df1 = df1[df1['연령대'] != '전체 (기타포함)']\n",
    "df1['연령대'].value_counts()"
   ]
  },
  {
   "cell_type": "code",
   "execution_count": 993,
   "metadata": {},
   "outputs": [
    {
     "name": "stdout",
     "output_type": "stream",
     "text": [
      "데이터1의 행, 열 개수 : \n",
      "(1503, 9)\n"
     ]
    }
   ],
   "source": [
    "# 데이터의 행, 열 개수 출력\n",
    "print('데이터1의 행, 열 개수 : ')\n",
    "print(df1.shape)"
   ]
  },
  {
   "cell_type": "markdown",
   "metadata": {},
   "source": [
    "-> 전체 (기타포함) 의 행들이 다 제거된 것을 확인할 수 있음."
   ]
  },
  {
   "cell_type": "code",
   "execution_count": 994,
   "metadata": {},
   "outputs": [
    {
     "data": {
      "text/plain": [
       "연령대\n",
       "80대 이상    180\n",
       "10대       176\n",
       "20대       176\n",
       "30대       176\n",
       "40대       176\n",
       "50대       176\n",
       "60대       176\n",
       "70대       176\n",
       "기타         83\n",
       "10대 미만      8\n",
       "Name: count, dtype: int64"
      ]
     },
     "execution_count": 994,
     "metadata": {},
     "output_type": "execute_result"
    }
   ],
   "source": [
    "# 연령대 통합\n",
    "age_mapping = {\n",
    "    '10' : '10대',\n",
    "    '20' : '20대',\n",
    "    '30' : '30대',\n",
    "    '40' : '40대',\n",
    "    '50' : '50대',\n",
    "    '60' : '60대',\n",
    "    '70' : '70대',\n",
    "    '80' : '80대 이상',\n",
    "    '기타' : '기타',\n",
    "    '10대' : '10대',\n",
    "    '20대' : '20대',\n",
    "    '30대' : '30대',\n",
    "    '40대' : '40대',\n",
    "    '50대' : '50대',\n",
    "    '60대' : '60대',\n",
    "    '70대' : '70대',\n",
    "    '80대이상' : '80대 이상',\n",
    "    '10대미만' : '10대 미만',\n",
    "    '80이상' : '80대 이상',\n",
    "    '80대 이상' : '80대 이상',\n",
    "    '80대' : '80대 이상',\n",
    "    '90대' : '80대 이상',\n",
    "    '90' : '80대 이상',\n",
    "    '10대 미만' : '10대 미만',\n",
    "    '80세 이상' : '80대 이상',\n",
    "    '탈퇴회원' : '기타',\n",
    "    '미분류' : '기타'\n",
    "}\n",
    "\n",
    "df1['연령대'] = df1['연령대'].replace(age_mapping)\n",
    "df1['연령대'].value_counts()"
   ]
  },
  {
   "cell_type": "markdown",
   "metadata": {},
   "source": [
    "10대 미만의 경우 다른 연령대에 비해 건수도 적고 미치는 영향도 크지 않음. 따라서 10대 미만의 행 제거."
   ]
  },
  {
   "cell_type": "code",
   "execution_count": 995,
   "metadata": {},
   "outputs": [
    {
     "data": {
      "text/plain": [
       "연령대\n",
       "80대 이상    180\n",
       "10대       176\n",
       "20대       176\n",
       "30대       176\n",
       "40대       176\n",
       "50대       176\n",
       "60대       176\n",
       "70대       176\n",
       "기타         83\n",
       "Name: count, dtype: int64"
      ]
     },
     "execution_count": 995,
     "metadata": {},
     "output_type": "execute_result"
    }
   ],
   "source": [
    "# 10대 미만 행 제거하여 data1에 반영\n",
    "df1 = df1[df1['연령대'] != '10대 미만']\n",
    "df1['연령대'].value_counts()"
   ]
  },
  {
   "cell_type": "code",
   "execution_count": 996,
   "metadata": {},
   "outputs": [
    {
     "name": "stdout",
     "output_type": "stream",
     "text": [
      "데이터1의 행, 열 개수 : \n",
      "(1495, 9)\n"
     ]
    }
   ],
   "source": [
    "# 데이터의 행, 열 개수 출력\n",
    "print('데이터1의 행, 열 개수 : ')\n",
    "print(df1.shape)"
   ]
  },
  {
   "cell_type": "markdown",
   "metadata": {},
   "source": [
    "-> 10대 미만의 행들이 제거된 것 확인 가능."
   ]
  },
  {
   "cell_type": "markdown",
   "metadata": {},
   "source": [
    "데이터의 특성상 연령대만으로는 어떤 연령대가 가장 지역화폐를 활발하게 사용하는지 알 수 없음. 따라서, 결제건수 및 결제금액 등과 같이 분석하여 결과를 도출해야 함."
   ]
  },
  {
   "cell_type": "markdown",
   "metadata": {},
   "source": [
    "<hr>"
   ]
  },
  {
   "cell_type": "markdown",
   "metadata": {},
   "source": [
    "<h3> [성별 변수 검토 및 전처리] </h3>"
   ]
  },
  {
   "cell_type": "code",
   "execution_count": 997,
   "metadata": {},
   "outputs": [
    {
     "data": {
      "text/plain": [
       "dtype('O')"
      ]
     },
     "execution_count": 997,
     "metadata": {},
     "output_type": "execute_result"
    }
   ],
   "source": [
    "# 변수 타입 파악하기\n",
    "df1['성별'].dtypes"
   ]
  },
  {
   "cell_type": "code",
   "execution_count": 998,
   "metadata": {},
   "outputs": [
    {
     "data": {
      "text/plain": [
       "성별\n",
       "남      707\n",
       "여      707\n",
       "-       77\n",
       "기타       2\n",
       "미분류      1\n",
       "Name: count, dtype: int64"
      ]
     },
     "execution_count": 998,
     "metadata": {},
     "output_type": "execute_result"
    }
   ],
   "source": [
    "# 빈도 구하기\n",
    "df1['성별'].value_counts()"
   ]
  },
  {
   "cell_type": "markdown",
   "metadata": {},
   "source": [
    "성별 변수이므로 남/여만 있어야 하는데 -, 기타, 미분류 등이 있으므로 전처리."
   ]
  },
  {
   "cell_type": "code",
   "execution_count": 999,
   "metadata": {},
   "outputs": [
    {
     "data": {
      "text/plain": [
       "1"
      ]
     },
     "execution_count": 999,
     "metadata": {},
     "output_type": "execute_result"
    }
   ],
   "source": [
    "# 결측치 확인\n",
    "df1['성별'].isna().sum()"
   ]
  },
  {
   "cell_type": "code",
   "execution_count": 1000,
   "metadata": {},
   "outputs": [],
   "source": [
    "# -, 기타, 미분류를 결측치 처리한 후 결측치 제거\n",
    "df1['성별'].replace(['-', '기타', '미분류'], np.nan, inplace=True)\n",
    "df1.dropna(subset=['성별'], inplace=True)"
   ]
  },
  {
   "cell_type": "code",
   "execution_count": 1001,
   "metadata": {},
   "outputs": [
    {
     "data": {
      "text/plain": [
       "0"
      ]
     },
     "execution_count": 1001,
     "metadata": {},
     "output_type": "execute_result"
    }
   ],
   "source": [
    "# 결측치 확인\n",
    "df1['성별'].isna().sum()"
   ]
  },
  {
   "cell_type": "code",
   "execution_count": 1002,
   "metadata": {},
   "outputs": [
    {
     "data": {
      "text/plain": [
       "성별\n",
       "남    707\n",
       "여    707\n",
       "Name: count, dtype: int64"
      ]
     },
     "execution_count": 1002,
     "metadata": {},
     "output_type": "execute_result"
    }
   ],
   "source": [
    "# 결측치 제거 후 빈도 확인\n",
    "df1['성별'].value_counts()"
   ]
  },
  {
   "cell_type": "markdown",
   "metadata": {},
   "source": [
    "-> 결측치가 제거되어 성별 변수에 남/여만 남은 것 확인 가능. "
   ]
  },
  {
   "cell_type": "markdown",
   "metadata": {},
   "source": [
    "<hr>"
   ]
  },
  {
   "cell_type": "markdown",
   "metadata": {},
   "source": [
    "<h3> [결제건수 변수 검토 및 전처리] </h3>"
   ]
  },
  {
   "cell_type": "code",
   "execution_count": 1003,
   "metadata": {},
   "outputs": [
    {
     "data": {
      "text/plain": [
       "dtype('int64')"
      ]
     },
     "execution_count": 1003,
     "metadata": {},
     "output_type": "execute_result"
    }
   ],
   "source": [
    "# 변수 타입 파악하기\n",
    "df1['결제건수'].dtypes"
   ]
  },
  {
   "cell_type": "markdown",
   "metadata": {},
   "source": [
    "결제건수는 연속 변수이므로 df.value_counts()를 이용하면 너무 많은 항목이 출력되어 알아보기 어려움. 따라서, df.describe()를 사용해서 특징 파악."
   ]
  },
  {
   "cell_type": "code",
   "execution_count": 1004,
   "metadata": {},
   "outputs": [
    {
     "data": {
      "text/plain": [
       "count       1,414.00\n",
       "mean      422,211.21\n",
       "std       563,191.97\n",
       "min           132.00\n",
       "25%        52,382.75\n",
       "50%       189,777.50\n",
       "75%       564,943.25\n",
       "max     3,472,658.00\n",
       "Name: 결제건수, dtype: float64"
      ]
     },
     "execution_count": 1004,
     "metadata": {},
     "output_type": "execute_result"
    }
   ],
   "source": [
    "# 요약 통계량 구하기\n",
    "df1['결제건수'].describe()"
   ]
  },
  {
   "cell_type": "markdown",
   "metadata": {},
   "source": [
    "-> 결제건수는 정수 타입이며 132~3,472,658건의 값을 가짐.<br>\n",
    "약 52,382~564,943건에 가장 많이 분포하며, 평균은 약 422,211건, 중간값은 평균보다 작은 약 189,777건으로 전반적으로 낮은 값 쪽으로 치우쳐 있음."
   ]
  },
  {
   "cell_type": "code",
   "execution_count": 1005,
   "metadata": {},
   "outputs": [
    {
     "data": {
      "image/png": "[encoded data removed]",
      "text/plain": [
       "<Figure size 640x480 with 1 Axes>"
      ]
     },
     "metadata": {},
     "output_type": "display_data"
    }
   ],
   "source": [
    "# 히스토그램으로 확인\n",
    "import matplotlib.ticker as ticker\n",
    "sns.histplot(data = df1, x='결제건수').xaxis.set_major_formatter(ticker.FuncFormatter(lambda x, pos: '{:,.0f}'.format(x)))"
   ]
  },
  {
   "cell_type": "markdown",
   "metadata": {},
   "source": [
    "-> 히스토그램을 보았을 때, 0~500,000건 사이에 가장 많이 분포하고 있는 것을 확인할 수 있음."
   ]
  },
  {
   "cell_type": "code",
   "execution_count": 1006,
   "metadata": {},
   "outputs": [
    {
     "data": {
      "text/plain": [
       "0"
      ]
     },
     "execution_count": 1006,
     "metadata": {},
     "output_type": "execute_result"
    }
   ],
   "source": [
    "# 결측치 확인\n",
    "df1['결제건수'].isna().sum()"
   ]
  },
  {
   "cell_type": "markdown",
   "metadata": {},
   "source": [
    "-> 결제건수에 결측치가 없으므로 이상치나 결측 처리 과정은 건너뜀."
   ]
  },
  {
   "cell_type": "markdown",
   "metadata": {},
   "source": [
    "<hr>"
   ]
  },
  {
   "cell_type": "markdown",
   "metadata": {},
   "source": [
    "<h3> [결제금액 변수 검토 및 전처리] </h3>"
   ]
  },
  {
   "cell_type": "code",
   "execution_count": 1007,
   "metadata": {},
   "outputs": [
    {
     "data": {
      "text/plain": [
       "dtype('float64')"
      ]
     },
     "execution_count": 1007,
     "metadata": {},
     "output_type": "execute_result"
    }
   ],
   "source": [
    "# 변수 타입 파악하기\n",
    "df1['결제금액'].dtypes"
   ]
  },
  {
   "cell_type": "markdown",
   "metadata": {},
   "source": [
    "결제금액은 연속 변수이므로 df.value_counts()를 이용하면 너무 많은 항목이 출력되어 알아보기 어려움. 따라서, df.describe()를 사용해서 특징 파악."
   ]
  },
  {
   "cell_type": "code",
   "execution_count": 1008,
   "metadata": {},
   "outputs": [
    {
     "data": {
      "text/plain": [
       "count             1,414.00\n",
       "mean     10,314,239,334.18\n",
       "std      15,189,145,015.28\n",
       "min           2,019,260.00\n",
       "25%       1,252,556,005.00\n",
       "50%       4,271,034,694.50\n",
       "75%      12,941,813,400.50\n",
       "max     102,000,000,000.00\n",
       "Name: 결제금액, dtype: float64"
      ]
     },
     "execution_count": 1008,
     "metadata": {},
     "output_type": "execute_result"
    }
   ],
   "source": [
    "# 요약 통계량 구하기\n",
    "df1['결제금액'].describe()"
   ]
  },
  {
   "cell_type": "markdown",
   "metadata": {},
   "source": [
    "-> 현재 금액 데이터의 단위는 '원'인데 출력 결과 숫자가 너무 큰 것을 확인할 수 있음. 따라서 결제금액의 단위를 '만원' 단위로 바꿈."
   ]
  },
  {
   "cell_type": "code",
   "execution_count": 1009,
   "metadata": {},
   "outputs": [
    {
     "data": {
      "text/plain": [
       "count        1,414.00\n",
       "mean     1,031,423.93\n",
       "std      1,518,914.50\n",
       "min            201.93\n",
       "25%        125,255.60\n",
       "50%        427,103.47\n",
       "75%      1,294,181.34\n",
       "max     10,200,000.00\n",
       "Name: 결제금액, dtype: float64"
      ]
     },
     "execution_count": 1009,
     "metadata": {},
     "output_type": "execute_result"
    }
   ],
   "source": [
    "# 금액 데이터 단위 바꾸기\n",
    "df1['결제금액'] = df1['결제금액'] / 10000\n",
    "\n",
    "# 바뀐 데이터 확인\n",
    "df1['결제금액'].describe()"
   ]
  },
  {
   "cell_type": "markdown",
   "metadata": {},
   "source": [
    "-> 결제금액은 실수 타입이며 약 201~10,200,000만 원의 값을 가짐.<br>\n",
    "약 125~1,294,181만 원에 가장 많이 분포하며, 평균은 약 1,031,423만 원, 중간값은 평균보다 작은 약 427,103만 원으로 전반적으로 낮은 값 쪽으로 치우쳐 있음."
   ]
  },
  {
   "cell_type": "code",
   "execution_count": 1010,
   "metadata": {},
   "outputs": [
    {
     "data": {
      "image/png": "[encoded data removed]",
      "text/plain": [
       "<Figure size 640x480 with 1 Axes>"
      ]
     },
     "metadata": {},
     "output_type": "display_data"
    }
   ],
   "source": [
    "# 히스토그램으로 확인\n",
    "sns.histplot(data = df1, x = '결제금액').xaxis.set_major_formatter(ticker.FuncFormatter(lambda x, pos: '{:,.0f}'.format(x)))"
   ]
  },
  {
   "cell_type": "markdown",
   "metadata": {},
   "source": [
    "-> 히스토그램을 보았을 때, 0~2,000,000만 원 사이에 가장 많이 분포하고 있는 것을 확인할 수 있음."
   ]
  },
  {
   "cell_type": "code",
   "execution_count": 1011,
   "metadata": {},
   "outputs": [
    {
     "data": {
      "text/plain": [
       "0"
      ]
     },
     "execution_count": 1011,
     "metadata": {},
     "output_type": "execute_result"
    }
   ],
   "source": [
    "# 결측치 확인\n",
    "df1['결제금액'].isna().sum()"
   ]
  },
  {
   "cell_type": "markdown",
   "metadata": {},
   "source": [
    "-> 결제금액에 결측치가 없으므로 이상치나 결측 처리 과정은 건너뜀."
   ]
  },
  {
   "cell_type": "markdown",
   "metadata": {},
   "source": [
    "<hr>"
   ]
  },
  {
   "cell_type": "markdown",
   "metadata": {},
   "source": [
    "<h3> [결제취소건수 변수 검토 및 전처리] </h3>"
   ]
  },
  {
   "cell_type": "code",
   "execution_count": 1012,
   "metadata": {},
   "outputs": [
    {
     "data": {
      "text/plain": [
       "dtype('float64')"
      ]
     },
     "execution_count": 1012,
     "metadata": {},
     "output_type": "execute_result"
    }
   ],
   "source": [
    "# 변수 타입 파악하기\n",
    "df1['결제취소건수'].dtypes"
   ]
  },
  {
   "cell_type": "code",
   "execution_count": 1013,
   "metadata": {},
   "outputs": [
    {
     "data": {
      "text/plain": [
       "114"
      ]
     },
     "execution_count": 1013,
     "metadata": {},
     "output_type": "execute_result"
    }
   ],
   "source": [
    "# 결측치 확인\n",
    "df1['결제취소건수'].isna().sum()"
   ]
  },
  {
   "cell_type": "code",
   "execution_count": 1014,
   "metadata": {},
   "outputs": [
    {
     "data": {
      "text/plain": [
       "1155    김포시\n",
       "1193    부천시\n",
       "1261    안산시\n",
       "1347    여주시\n",
       "1434    이천시\n",
       "1468    평택시\n",
       "1501    하남시\n",
       "Name: 시군명, dtype: object"
      ]
     },
     "execution_count": 1014,
     "metadata": {},
     "output_type": "execute_result"
    }
   ],
   "source": [
    "# 결측치 데이터의 시군명 확인 \n",
    "df1[df1['결제취소건수'].isna()]['시군명'].drop_duplicates()"
   ]
  },
  {
   "cell_type": "markdown",
   "metadata": {},
   "source": [
    "-> 결제취소건수(취소금액, 1회 평균 결제금액)은 선택제공항목이므로 김포시, 부천시, 안산시, 여주시, 이천시, 평택시, 하남시는 해당 정보를 제공하지 않은 것을 확인할 수 있음."
   ]
  },
  {
   "cell_type": "code",
   "execution_count": 1015,
   "metadata": {},
   "outputs": [],
   "source": [
    "# 결측치 제거\n",
    "df1.dropna(subset=['결제취소건수'], inplace=True)"
   ]
  },
  {
   "cell_type": "code",
   "execution_count": 1016,
   "metadata": {},
   "outputs": [
    {
     "data": {
      "text/plain": [
       "0"
      ]
     },
     "execution_count": 1016,
     "metadata": {},
     "output_type": "execute_result"
    }
   ],
   "source": [
    "# 결측치 확인\n",
    "df1['결제취소건수'].isna().sum()"
   ]
  },
  {
   "cell_type": "markdown",
   "metadata": {},
   "source": [
    "-> 결측치가 모두 제거된 것을 확인할 수 있음."
   ]
  },
  {
   "cell_type": "markdown",
   "metadata": {},
   "source": [
    "결제취소건수는 연속 변수이므로 df.value_counts()를 이용하면 너무 많은 항목이 출력되어 알아보기 어려움. 따라서, df.describe()를 사용해서 특징 파악."
   ]
  },
  {
   "cell_type": "code",
   "execution_count": 1017,
   "metadata": {},
   "outputs": [
    {
     "data": {
      "text/plain": [
       "count    1,300.00\n",
       "mean     2,997.26\n",
       "std      4,192.00\n",
       "min          0.00\n",
       "25%        348.75\n",
       "50%      1,420.50\n",
       "75%      3,880.25\n",
       "max     30,178.00\n",
       "Name: 결제취소건수, dtype: float64"
      ]
     },
     "execution_count": 1017,
     "metadata": {},
     "output_type": "execute_result"
    }
   ],
   "source": [
    "# 요약 통계량 구하기\n",
    "df1['결제취소건수'].describe()"
   ]
  },
  {
   "cell_type": "markdown",
   "metadata": {},
   "source": [
    "-> 결제취소건수는 실수 타입이며 0~30,178건의 값을 가짐.<br>\n",
    "약 348~3,880건에 가장 많이 분포하며, 평균은 약 2,997건, 중간값은 평균보다 작은 약 1,420건으로 전반적으로 낮은 값 쪽으로 치우쳐 있음."
   ]
  },
  {
   "cell_type": "code",
   "execution_count": 1018,
   "metadata": {},
   "outputs": [
    {
     "data": {
      "image/png": "[encoded data removed]",
      "text/plain": [
       "<Figure size 640x480 with 1 Axes>"
      ]
     },
     "metadata": {},
     "output_type": "display_data"
    }
   ],
   "source": [
    "# 히스토그램으로 확인\n",
    "import matplotlib.ticker as ticker\n",
    "sns.histplot(data = df1, x='결제건수').xaxis.set_major_formatter(ticker.FuncFormatter(lambda x, pos: '{:,.0f}'.format(x)))"
   ]
  },
  {
   "cell_type": "markdown",
   "metadata": {},
   "source": [
    "-> 히스토그램을 보았을 때, 0~500,000건 사이에 가장 많이 분포하고 있는 것을 확인할 수 있음."
   ]
  },
  {
   "cell_type": "markdown",
   "metadata": {},
   "source": [
    "<hr>"
   ]
  },
  {
   "cell_type": "markdown",
   "metadata": {},
   "source": [
    "<h3> [결제취소금액 변수 검토 및 전처리] </h3>"
   ]
  },
  {
   "cell_type": "code",
   "execution_count": 1019,
   "metadata": {},
   "outputs": [
    {
     "data": {
      "text/plain": [
       "dtype('float64')"
      ]
     },
     "execution_count": 1019,
     "metadata": {},
     "output_type": "execute_result"
    }
   ],
   "source": [
    "# 변수 타입 파악하기\n",
    "df1['결제취소금액'].dtypes"
   ]
  },
  {
   "cell_type": "code",
   "execution_count": 1020,
   "metadata": {},
   "outputs": [
    {
     "data": {
      "text/plain": [
       "0"
      ]
     },
     "execution_count": 1020,
     "metadata": {},
     "output_type": "execute_result"
    }
   ],
   "source": [
    "# 결측치 확인\n",
    "df1['결제취소금액'].isna().sum()"
   ]
  },
  {
   "cell_type": "markdown",
   "metadata": {},
   "source": [
    "결제취소금액은 연속 변수이므로 df.value_counts()를 이용하면 너무 많은 항목이 출력되어 알아보기 어려움. 따라서, df.describe()를 사용해서 특징 파악."
   ]
  },
  {
   "cell_type": "code",
   "execution_count": 1021,
   "metadata": {},
   "outputs": [
    {
     "data": {
      "text/plain": [
       "count           1,300.00\n",
       "mean      141,295,522.70\n",
       "std       215,979,816.54\n",
       "min                 0.00\n",
       "25%        15,012,604.00\n",
       "50%        61,418,411.50\n",
       "75%       162,114,657.75\n",
       "max     1,488,864,774.00\n",
       "Name: 결제취소금액, dtype: float64"
      ]
     },
     "execution_count": 1021,
     "metadata": {},
     "output_type": "execute_result"
    }
   ],
   "source": [
    "# 요약 통계량 구하기\n",
    "df1['결제취소금액'].describe()"
   ]
  },
  {
   "cell_type": "markdown",
   "metadata": {},
   "source": [
    "-> 현재 금액 데이터의 단위는 '원'인데 출력 결과 숫자가 너무 큰 것을 확인할 수 있음. 따라서 결제취소금액의 단위를 '만원' 단위로 바꿈."
   ]
  },
  {
   "cell_type": "code",
   "execution_count": 1022,
   "metadata": {},
   "outputs": [
    {
     "data": {
      "text/plain": [
       "count     1,300.00\n",
       "mean     14,129.55\n",
       "std      21,597.98\n",
       "min           0.00\n",
       "25%       1,501.26\n",
       "50%       6,141.84\n",
       "75%      16,211.47\n",
       "max     148,886.48\n",
       "Name: 결제취소금액, dtype: float64"
      ]
     },
     "execution_count": 1022,
     "metadata": {},
     "output_type": "execute_result"
    }
   ],
   "source": [
    "# 금액 데이터 단위 바꾸기\n",
    "df1['결제취소금액'] = df1['결제취소금액'] / 10000\n",
    "\n",
    "# 바뀐 데이터 확인\n",
    "df1['결제취소금액'].describe()"
   ]
  },
  {
   "cell_type": "markdown",
   "metadata": {},
   "source": [
    "-> 결제취소금액은 실수 타입이며 약 0~148,886만 원의 값을 가짐.<br>\n",
    "약 1,501~16,211만 원에 가장 많이 분포하며, 평균은 약 14,129만 원, 중간값은 평균보다 작은 약 6,141만 원으로 전반적으로 낮은 값 쪽으로 치우쳐 있음."
   ]
  },
  {
   "cell_type": "code",
   "execution_count": 1023,
   "metadata": {},
   "outputs": [
    {
     "data": {
      "image/png": "[encoded data removed]",
      "text/plain": [
       "<Figure size 640x480 with 1 Axes>"
      ]
     },
     "metadata": {},
     "output_type": "display_data"
    }
   ],
   "source": [
    "# 히스토그램으로 확인\n",
    "sns.histplot(data = df1, x = '결제취소금액').xaxis.set_major_formatter(ticker.FuncFormatter(lambda x, pos: '{:,.0f}'.format(x)))"
   ]
  },
  {
   "cell_type": "markdown",
   "metadata": {},
   "source": [
    "-> 히스토그램을 보았을 때, 0~20,000만 원 사이에 가장 많이 분포하고 있는 것을 확인할 수 있음."
   ]
  },
  {
   "cell_type": "markdown",
   "metadata": {},
   "source": [
    "<hr>"
   ]
  },
  {
   "cell_type": "markdown",
   "metadata": {},
   "source": [
    "<h3> [1회평균결제금액 변수 검토 및 전처리] </h3>"
   ]
  },
  {
   "cell_type": "code",
   "execution_count": 1024,
   "metadata": {},
   "outputs": [
    {
     "data": {
      "text/plain": [
       "dtype('float64')"
      ]
     },
     "execution_count": 1024,
     "metadata": {},
     "output_type": "execute_result"
    }
   ],
   "source": [
    "# 변수 타입 파악하기\n",
    "df1['1회평균결제금액'].dtypes"
   ]
  },
  {
   "cell_type": "code",
   "execution_count": 1025,
   "metadata": {},
   "outputs": [
    {
     "data": {
      "text/plain": [
       "0"
      ]
     },
     "execution_count": 1025,
     "metadata": {},
     "output_type": "execute_result"
    }
   ],
   "source": [
    "# 결측치 확인\n",
    "df1['1회평균결제금액'].isna().sum()"
   ]
  },
  {
   "cell_type": "markdown",
   "metadata": {},
   "source": [
    "1회평균결제금액은 연속 변수이므로 df.value_counts()를 이용하면 너무 많은 항목이 출력되어 알아보기 어려움. 따라서, df.describe()를 사용해서 특징 파악."
   ]
  },
  {
   "cell_type": "code",
   "execution_count": 1026,
   "metadata": {},
   "outputs": [
    {
     "data": {
      "text/plain": [
       "count    1,300.00\n",
       "mean    23,671.89\n",
       "std      5,973.89\n",
       "min     11,191.00\n",
       "25%     19,402.75\n",
       "50%     22,929.50\n",
       "75%     26,517.25\n",
       "max     72,340.00\n",
       "Name: 1회평균결제금액, dtype: float64"
      ]
     },
     "execution_count": 1026,
     "metadata": {},
     "output_type": "execute_result"
    }
   ],
   "source": [
    "# 요약 통계량 구하기\n",
    "df1['1회평균결제금액'].describe()"
   ]
  },
  {
   "cell_type": "markdown",
   "metadata": {},
   "source": [
    "-> 1회평균결제금액의 경우 금액이 크지 않아 '원' 단위도 알아보기 편하지만, 앞에서 다른 금액 변수들의 단위를 모두 '만원'으로 변환했기 때문에 1회평균결제금액의 단위를 '만원' 단위로 바꿈."
   ]
  },
  {
   "cell_type": "code",
   "execution_count": 1027,
   "metadata": {},
   "outputs": [
    {
     "data": {
      "text/plain": [
       "count   1,300.00\n",
       "mean        2.37\n",
       "std         0.60\n",
       "min         1.12\n",
       "25%         1.94\n",
       "50%         2.29\n",
       "75%         2.65\n",
       "max         7.23\n",
       "Name: 1회평균결제금액, dtype: float64"
      ]
     },
     "execution_count": 1027,
     "metadata": {},
     "output_type": "execute_result"
    }
   ],
   "source": [
    "# 금액 데이터 단위 바꾸기\n",
    "df1['1회평균결제금액'] = df1['1회평균결제금액'] / 10000\n",
    "\n",
    "# 바뀐 데이터 확인\n",
    "df1['1회평균결제금액'].describe()"
   ]
  },
  {
   "cell_type": "markdown",
   "metadata": {},
   "source": [
    "-> 1회평균결제금액은 실수 타입이며 약 1.12~7.23만 원의 값을 가짐.<br>\n",
    "약 1.94~2.65만 원에 가장 많이 분포하며, 평균은 약 2.37만 원, 중간값은 평균보다 작은 약 2.29만 원으로 약간 낮은 값 쪽으로 치우쳐 있음."
   ]
  },
  {
   "cell_type": "code",
   "execution_count": 1028,
   "metadata": {},
   "outputs": [
    {
     "data": {
      "image/png": "[encoded data removed]",
      "text/plain": [
       "<Figure size 640x480 with 1 Axes>"
      ]
     },
     "metadata": {},
     "output_type": "display_data"
    }
   ],
   "source": [
    "# 히스토그램으로 확인\n",
    "sns.histplot(data = df1, x = '1회평균결제금액').xaxis.set_major_formatter(ticker.FuncFormatter(lambda x, pos: '{:,.0f}'.format(x)))"
   ]
  },
  {
   "cell_type": "markdown",
   "metadata": {},
   "source": [
    "-> 히스토그램을 보았을 때, 2~3만 원 사이에 가장 많이 분포하고 있는 것을 확인할 수 있음."
   ]
  },
  {
   "cell_type": "markdown",
   "metadata": {},
   "source": [
    "<hr>"
   ]
  },
  {
   "cell_type": "markdown",
   "metadata": {},
   "source": [
    "<h3> [데이터 전처리 후 데이터 검토] </h3>"
   ]
  },
  {
   "cell_type": "code",
   "execution_count": 1029,
   "metadata": {},
   "outputs": [
    {
     "name": "stdout",
     "output_type": "stream",
     "text": [
      "데이터 전처리 후 데이터1의 행, 열 개수 : \n",
      "(1300, 9)\n"
     ]
    }
   ],
   "source": [
    "# 데이터의 행, 열 개수 출력\n",
    "print('데이터 전처리 후 데이터1의 행, 열 개수 : ')\n",
    "print(df1.shape)"
   ]
  },
  {
   "cell_type": "code",
   "execution_count": 1030,
   "metadata": {},
   "outputs": [
    {
     "data": {
      "text/html": [
       "<div>\n",
       "<style scoped>\n",
       "    .dataframe tbody tr th:only-of-type {\n",
       "        vertical-align: middle;\n",
       "    }\n",
       "\n",
       "    .dataframe tbody tr th {\n",
       "        vertical-align: top;\n",
       "    }\n",
       "\n",
       "    .dataframe thead th {\n",
       "        text-align: right;\n",
       "    }\n",
       "</style>\n",
       "<table border=\"1\" class=\"dataframe\">\n",
       "  <thead>\n",
       "    <tr style=\"text-align: right;\">\n",
       "      <th></th>\n",
       "      <th>기준연도</th>\n",
       "      <th>시군명</th>\n",
       "      <th>연령대</th>\n",
       "      <th>성별</th>\n",
       "      <th>결제건수</th>\n",
       "      <th>결제금액</th>\n",
       "      <th>결제취소건수</th>\n",
       "      <th>결제취소금액</th>\n",
       "      <th>1회평균결제금액</th>\n",
       "    </tr>\n",
       "  </thead>\n",
       "  <tbody>\n",
       "    <tr>\n",
       "      <th>0</th>\n",
       "      <td>2023</td>\n",
       "      <td>가평군</td>\n",
       "      <td>10대</td>\n",
       "      <td>남</td>\n",
       "      <td>8409</td>\n",
       "      <td>18,884.51</td>\n",
       "      <td>46.00</td>\n",
       "      <td>487.18</td>\n",
       "      <td>2.25</td>\n",
       "    </tr>\n",
       "    <tr>\n",
       "      <th>1</th>\n",
       "      <td>2023</td>\n",
       "      <td>가평군</td>\n",
       "      <td>10대</td>\n",
       "      <td>여</td>\n",
       "      <td>6584</td>\n",
       "      <td>17,660.54</td>\n",
       "      <td>68.00</td>\n",
       "      <td>184.14</td>\n",
       "      <td>2.68</td>\n",
       "    </tr>\n",
       "    <tr>\n",
       "      <th>2</th>\n",
       "      <td>2023</td>\n",
       "      <td>가평군</td>\n",
       "      <td>20대</td>\n",
       "      <td>남</td>\n",
       "      <td>70363</td>\n",
       "      <td>154,501.83</td>\n",
       "      <td>728.00</td>\n",
       "      <td>3,756.00</td>\n",
       "      <td>2.20</td>\n",
       "    </tr>\n",
       "    <tr>\n",
       "      <th>3</th>\n",
       "      <td>2023</td>\n",
       "      <td>가평군</td>\n",
       "      <td>20대</td>\n",
       "      <td>여</td>\n",
       "      <td>55118</td>\n",
       "      <td>133,250.66</td>\n",
       "      <td>681.00</td>\n",
       "      <td>2,799.63</td>\n",
       "      <td>2.42</td>\n",
       "    </tr>\n",
       "    <tr>\n",
       "      <th>4</th>\n",
       "      <td>2023</td>\n",
       "      <td>가평군</td>\n",
       "      <td>30대</td>\n",
       "      <td>남</td>\n",
       "      <td>110968</td>\n",
       "      <td>268,223.50</td>\n",
       "      <td>1,382.00</td>\n",
       "      <td>8,447.63</td>\n",
       "      <td>2.42</td>\n",
       "    </tr>\n",
       "    <tr>\n",
       "      <th>5</th>\n",
       "      <td>2023</td>\n",
       "      <td>가평군</td>\n",
       "      <td>30대</td>\n",
       "      <td>여</td>\n",
       "      <td>99493</td>\n",
       "      <td>256,340.39</td>\n",
       "      <td>1,230.00</td>\n",
       "      <td>5,420.78</td>\n",
       "      <td>2.58</td>\n",
       "    </tr>\n",
       "    <tr>\n",
       "      <th>6</th>\n",
       "      <td>2023</td>\n",
       "      <td>가평군</td>\n",
       "      <td>40대</td>\n",
       "      <td>남</td>\n",
       "      <td>167399</td>\n",
       "      <td>418,841.34</td>\n",
       "      <td>1,629.00</td>\n",
       "      <td>10,077.03</td>\n",
       "      <td>2.50</td>\n",
       "    </tr>\n",
       "    <tr>\n",
       "      <th>7</th>\n",
       "      <td>2023</td>\n",
       "      <td>가평군</td>\n",
       "      <td>40대</td>\n",
       "      <td>여</td>\n",
       "      <td>189169</td>\n",
       "      <td>478,243.26</td>\n",
       "      <td>1,909.00</td>\n",
       "      <td>7,743.71</td>\n",
       "      <td>2.53</td>\n",
       "    </tr>\n",
       "    <tr>\n",
       "      <th>8</th>\n",
       "      <td>2023</td>\n",
       "      <td>가평군</td>\n",
       "      <td>50대</td>\n",
       "      <td>남</td>\n",
       "      <td>190205</td>\n",
       "      <td>487,926.91</td>\n",
       "      <td>1,796.00</td>\n",
       "      <td>10,924.43</td>\n",
       "      <td>2.57</td>\n",
       "    </tr>\n",
       "    <tr>\n",
       "      <th>9</th>\n",
       "      <td>2023</td>\n",
       "      <td>가평군</td>\n",
       "      <td>50대</td>\n",
       "      <td>여</td>\n",
       "      <td>170268</td>\n",
       "      <td>478,030.85</td>\n",
       "      <td>1,587.00</td>\n",
       "      <td>8,334.57</td>\n",
       "      <td>2.81</td>\n",
       "    </tr>\n",
       "  </tbody>\n",
       "</table>\n",
       "</div>"
      ],
      "text/plain": [
       "   기준연도  시군명  연령대 성별    결제건수       결제금액   결제취소건수    결제취소금액  1회평균결제금액\n",
       "0  2023  가평군  10대  남    8409  18,884.51    46.00    487.18      2.25\n",
       "1  2023  가평군  10대  여    6584  17,660.54    68.00    184.14      2.68\n",
       "2  2023  가평군  20대  남   70363 154,501.83   728.00  3,756.00      2.20\n",
       "3  2023  가평군  20대  여   55118 133,250.66   681.00  2,799.63      2.42\n",
       "4  2023  가평군  30대  남  110968 268,223.50 1,382.00  8,447.63      2.42\n",
       "5  2023  가평군  30대  여   99493 256,340.39 1,230.00  5,420.78      2.58\n",
       "6  2023  가평군  40대  남  167399 418,841.34 1,629.00 10,077.03      2.50\n",
       "7  2023  가평군  40대  여  189169 478,243.26 1,909.00  7,743.71      2.53\n",
       "8  2023  가평군  50대  남  190205 487,926.91 1,796.00 10,924.43      2.57\n",
       "9  2023  가평군  50대  여  170268 478,030.85 1,587.00  8,334.57      2.81"
      ]
     },
     "execution_count": 1030,
     "metadata": {},
     "output_type": "execute_result"
    }
   ],
   "source": [
    "# 데이터 살펴보기\n",
    "df1.head(10)"
   ]
  },
  {
   "cell_type": "code",
   "execution_count": 1031,
   "metadata": {},
   "outputs": [
    {
     "name": "stdout",
     "output_type": "stream",
     "text": [
      "데이터 전처리 후 데이터1의 결측치 : \n"
     ]
    },
    {
     "data": {
      "text/plain": [
       "기준연도        0\n",
       "시군명         0\n",
       "연령대         0\n",
       "성별          0\n",
       "결제건수        0\n",
       "결제금액        0\n",
       "결제취소건수      0\n",
       "결제취소금액      0\n",
       "1회평균결제금액    0\n",
       "dtype: int64"
      ]
     },
     "execution_count": 1031,
     "metadata": {},
     "output_type": "execute_result"
    }
   ],
   "source": [
    "# 데이터의 결측치 확인\n",
    "print(('데이터 전처리 후 데이터1의 결측치 : '))\n",
    "df1.isnull().sum()"
   ]
  },
  {
   "cell_type": "code",
   "execution_count": 1032,
   "metadata": {},
   "outputs": [
    {
     "data": {
      "text/html": [
       "<div>\n",
       "<style scoped>\n",
       "    .dataframe tbody tr th:only-of-type {\n",
       "        vertical-align: middle;\n",
       "    }\n",
       "\n",
       "    .dataframe tbody tr th {\n",
       "        vertical-align: top;\n",
       "    }\n",
       "\n",
       "    .dataframe thead th {\n",
       "        text-align: right;\n",
       "    }\n",
       "</style>\n",
       "<table border=\"1\" class=\"dataframe\">\n",
       "  <thead>\n",
       "    <tr style=\"text-align: right;\">\n",
       "      <th></th>\n",
       "      <th>기준연도</th>\n",
       "      <th>결제건수</th>\n",
       "      <th>결제금액</th>\n",
       "      <th>결제취소건수</th>\n",
       "      <th>결제취소금액</th>\n",
       "      <th>1회평균결제금액</th>\n",
       "    </tr>\n",
       "  </thead>\n",
       "  <tbody>\n",
       "    <tr>\n",
       "      <th>count</th>\n",
       "      <td>1,300.00</td>\n",
       "      <td>1,300.00</td>\n",
       "      <td>1,300.00</td>\n",
       "      <td>1,300.00</td>\n",
       "      <td>1,300.00</td>\n",
       "      <td>1,300.00</td>\n",
       "    </tr>\n",
       "    <tr>\n",
       "      <th>mean</th>\n",
       "      <td>2,022.15</td>\n",
       "      <td>409,339.46</td>\n",
       "      <td>1,009,033.72</td>\n",
       "      <td>2,997.26</td>\n",
       "      <td>14,129.55</td>\n",
       "      <td>2.37</td>\n",
       "    </tr>\n",
       "    <tr>\n",
       "      <th>std</th>\n",
       "      <td>0.77</td>\n",
       "      <td>551,760.05</td>\n",
       "      <td>1,510,298.68</td>\n",
       "      <td>4,192.00</td>\n",
       "      <td>21,597.98</td>\n",
       "      <td>0.60</td>\n",
       "    </tr>\n",
       "    <tr>\n",
       "      <th>min</th>\n",
       "      <td>2,021.00</td>\n",
       "      <td>283.00</td>\n",
       "      <td>1,150.68</td>\n",
       "      <td>0.00</td>\n",
       "      <td>0.00</td>\n",
       "      <td>1.12</td>\n",
       "    </tr>\n",
       "    <tr>\n",
       "      <th>25%</th>\n",
       "      <td>2,022.00</td>\n",
       "      <td>51,510.50</td>\n",
       "      <td>121,982.83</td>\n",
       "      <td>348.75</td>\n",
       "      <td>1,501.26</td>\n",
       "      <td>1.94</td>\n",
       "    </tr>\n",
       "    <tr>\n",
       "      <th>50%</th>\n",
       "      <td>2,022.00</td>\n",
       "      <td>185,369.50</td>\n",
       "      <td>423,526.01</td>\n",
       "      <td>1,420.50</td>\n",
       "      <td>6,141.84</td>\n",
       "      <td>2.29</td>\n",
       "    </tr>\n",
       "    <tr>\n",
       "      <th>75%</th>\n",
       "      <td>2,023.00</td>\n",
       "      <td>544,601.50</td>\n",
       "      <td>1,229,981.01</td>\n",
       "      <td>3,880.25</td>\n",
       "      <td>16,211.47</td>\n",
       "      <td>2.65</td>\n",
       "    </tr>\n",
       "    <tr>\n",
       "      <th>max</th>\n",
       "      <td>2,023.00</td>\n",
       "      <td>3,472,658.00</td>\n",
       "      <td>10,200,000.00</td>\n",
       "      <td>30,178.00</td>\n",
       "      <td>148,886.48</td>\n",
       "      <td>7.23</td>\n",
       "    </tr>\n",
       "  </tbody>\n",
       "</table>\n",
       "</div>"
      ],
      "text/plain": [
       "          기준연도         결제건수          결제금액    결제취소건수     결제취소금액  1회평균결제금액\n",
       "count 1,300.00     1,300.00      1,300.00  1,300.00   1,300.00  1,300.00\n",
       "mean  2,022.15   409,339.46  1,009,033.72  2,997.26  14,129.55      2.37\n",
       "std       0.77   551,760.05  1,510,298.68  4,192.00  21,597.98      0.60\n",
       "min   2,021.00       283.00      1,150.68      0.00       0.00      1.12\n",
       "25%   2,022.00    51,510.50    121,982.83    348.75   1,501.26      1.94\n",
       "50%   2,022.00   185,369.50    423,526.01  1,420.50   6,141.84      2.29\n",
       "75%   2,023.00   544,601.50  1,229,981.01  3,880.25  16,211.47      2.65\n",
       "max   2,023.00 3,472,658.00 10,200,000.00 30,178.00 148,886.48      7.23"
      ]
     },
     "execution_count": 1032,
     "metadata": {},
     "output_type": "execute_result"
    }
   ],
   "source": [
    "# 데이터 요약 통계량 확인\n",
    "df1.describe()"
   ]
  },
  {
   "cell_type": "markdown",
   "metadata": {},
   "source": [
    "<hr>"
   ]
  },
  {
   "cell_type": "markdown",
   "metadata": {},
   "source": [
    "<h3> [시각화] </h3>"
   ]
  }
 ],
 "metadata": {
  "kernelspec": {
   "display_name": "base",
   "language": "python",
   "name": "python3"
  },
  "language_info": {
   "codemirror_mode": {
    "name": "ipython",
    "version": 3
   },
   "file_extension": ".py",
   "mimetype": "text/x-python",
   "name": "python",
   "nbconvert_exporter": "python",
   "pygments_lexer": "ipython3",
   "version": "3.11.7"
  }
 },
 "nbformat": 4,
 "nbformat_minor": 2
}
