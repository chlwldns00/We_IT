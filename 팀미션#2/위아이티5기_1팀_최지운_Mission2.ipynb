{
  "cells": [
    {
      "cell_type": "markdown",
      "metadata": {
        "id": "J-j_27Xhq0fS"
      },
      "source": [
        "# 이커머스 데이터 분석 미션\n",
        "\n",
        "- 첨부된 데이터는 다이어트 식품을 판매하는 어플리케이션 회사에서 나온 고객 결제 데이터 입니다. 고객들이 온라인 마케팅으로 유입된 채널에 따라, 결제를 완료한 고객도 있고, 유입이 되었으나 이탈한 고객도 있습니다. 이 데이터로 아래의 미션을 수행보세요.  \n",
        "- 먼저 개인적으로 풀어본 다음, 팀별로 모여 문제를 풀어보세요.\n",
        "- Chat GPT와 책, 유튜브 등 여러 자료를 활용하여 최대한 풀어보세요.\n",
        "- 기한 : 2024년 5월 8일 23:59 까지\n",
        "- 제출처 : woghkszhf@naver.com"
      ]
    },
    {
      "cell_type": "markdown",
      "metadata": {
        "id": "p9eTIuz4q0fU"
      },
      "source": [
        "### 1. 02_Data.csv파일을 불러와, df1으로 선언하고 데이터의 구조와 타입을 확인하시오."
      ]
    },
    {
      "cell_type": "code",
      "execution_count": 1,
      "metadata": {
        "id": "wS-DEnaBrOYT"
      },
      "outputs": [
        {
          "name": "stdout",
          "output_type": "stream",
          "text": [
            "<class 'pandas.core.frame.DataFrame'>\n",
            "RangeIndex: 10000 entries, 0 to 9999\n",
            "Data columns (total 10 columns):\n",
            " #   Column      Non-Null Count  Dtype \n",
            "---  ------      --------------  ----- \n",
            " 0   회원코드        10000 non-null  object\n",
            " 1   프로그램        10000 non-null  object\n",
            " 2   상태          10000 non-null  object\n",
            " 3   프로그램가격      10000 non-null  int64 \n",
            " 4   최종결제금액      10000 non-null  int64 \n",
            " 5   결제시각        10000 non-null  object\n",
            " 6   결제유형        10000 non-null  object\n",
            " 7   채널          10000 non-null  object\n",
            " 8   보조식품가격      10000 non-null  int64 \n",
            " 9   보조식품(추가구매)  10000 non-null  object\n",
            "dtypes: int64(3), object(7)\n",
            "memory usage: 781.4+ KB\n"
          ]
        }
      ],
      "source": [
        "import pandas as pd\n",
        "import numpy as np\n",
        "df1=pd.read_csv('../Data/02_Data.csv')\n",
        "df1.info() ##\n"
      ]
    },
    {
      "cell_type": "code",
      "execution_count": 31,
      "metadata": {},
      "outputs": [
        {
          "data": {
            "text/plain": [
              "(10000, 10)"
            ]
          },
          "execution_count": 31,
          "metadata": {},
          "output_type": "execute_result"
        }
      ],
      "source": [
        "df1.shape"
      ]
    },
    {
      "cell_type": "markdown",
      "metadata": {
        "id": "cOGAoqD2q0fV"
      },
      "source": [
        "### 2. '프로그램가격'의 평균, 최대값, 최소값을 확인하시오."
      ]
    },
    {
      "cell_type": "code",
      "execution_count": 32,
      "metadata": {},
      "outputs": [
        {
          "data": {
            "text/plain": [
              "107778.024"
            ]
          },
          "execution_count": 32,
          "metadata": {},
          "output_type": "execute_result"
        }
      ],
      "source": [
        "df1['프로그램가격'].mean()"
      ]
    },
    {
      "cell_type": "code",
      "execution_count": 33,
      "metadata": {},
      "outputs": [
        {
          "data": {
            "text/plain": [
              "177000"
            ]
          },
          "execution_count": 33,
          "metadata": {},
          "output_type": "execute_result"
        }
      ],
      "source": [
        "df1['프로그램가격'].max()"
      ]
    },
    {
      "cell_type": "code",
      "execution_count": 34,
      "metadata": {
        "id": "afm9ZpJKrGGu"
      },
      "outputs": [
        {
          "data": {
            "text/plain": [
              "44780"
            ]
          },
          "execution_count": 34,
          "metadata": {},
          "output_type": "execute_result"
        }
      ],
      "source": [
        "df1['프로그램가격'].min()"
      ]
    },
    {
      "cell_type": "markdown",
      "metadata": {
        "id": "IeBoRU26q0fW"
      },
      "source": [
        "### 3. '채널'의 항목과 빈도수를 확인하고, '채널'별 '최종결제금액'의 합을 계산하여, result1.xlsx로 저장하시오."
      ]
    },
    {
      "cell_type": "code",
      "execution_count": 35,
      "metadata": {
        "id": "Vl9rFLb3rHXg"
      },
      "outputs": [
        {
          "data": {
            "text/plain": [
              "facebook     6880\n",
              "others       1390\n",
              "naver        1009\n",
              "direct        297\n",
              "email         271\n",
              "google        120\n",
              "instagram      33\n",
              "Name: 채널, dtype: int64"
            ]
          },
          "execution_count": 35,
          "metadata": {},
          "output_type": "execute_result"
        }
      ],
      "source": [
        "df1['채널'].value_counts()"
      ]
    },
    {
      "cell_type": "code",
      "execution_count": 36,
      "metadata": {},
      "outputs": [
        {
          "data": {
            "text/plain": [
              "1000"
            ]
          },
          "execution_count": 36,
          "metadata": {},
          "output_type": "execute_result"
        }
      ],
      "source": [
        "df1.index[1000]"
      ]
    },
    {
      "cell_type": "markdown",
      "metadata": {},
      "source": [
        "인덱스 객체 df.index는 그 자체를 수정하여 불러올수없다, 따라서 인덱스 번호를 바꾸거나, 새롭게 짜려면, 새로운인덱스 객체를 할당하는수밖에 없다"
      ]
    },
    {
      "cell_type": "code",
      "execution_count": 37,
      "metadata": {},
      "outputs": [
        {
          "data": {
            "text/html": [
              "<div>\n",
              "<style scoped>\n",
              "    .dataframe tbody tr th:only-of-type {\n",
              "        vertical-align: middle;\n",
              "    }\n",
              "\n",
              "    .dataframe tbody tr th {\n",
              "        vertical-align: top;\n",
              "    }\n",
              "\n",
              "    .dataframe thead th {\n",
              "        text-align: right;\n",
              "    }\n",
              "</style>\n",
              "<table border=\"1\" class=\"dataframe\">\n",
              "  <thead>\n",
              "    <tr style=\"text-align: right;\">\n",
              "      <th></th>\n",
              "      <th>채널</th>\n",
              "      <th>채널별_최종결제금액합</th>\n",
              "    </tr>\n",
              "  </thead>\n",
              "  <tbody>\n",
              "    <tr>\n",
              "      <th>1</th>\n",
              "      <td>facebook</td>\n",
              "      <td>825136460</td>\n",
              "    </tr>\n",
              "    <tr>\n",
              "      <th>2</th>\n",
              "      <td>others</td>\n",
              "      <td>149349690</td>\n",
              "    </tr>\n",
              "    <tr>\n",
              "      <th>3</th>\n",
              "      <td>naver</td>\n",
              "      <td>111491750</td>\n",
              "    </tr>\n",
              "    <tr>\n",
              "      <th>4</th>\n",
              "      <td>direct</td>\n",
              "      <td>31337160</td>\n",
              "    </tr>\n",
              "    <tr>\n",
              "      <th>5</th>\n",
              "      <td>email</td>\n",
              "      <td>30655080</td>\n",
              "    </tr>\n",
              "    <tr>\n",
              "      <th>6</th>\n",
              "      <td>google</td>\n",
              "      <td>12663480</td>\n",
              "    </tr>\n",
              "    <tr>\n",
              "      <th>7</th>\n",
              "      <td>instagram</td>\n",
              "      <td>3562620</td>\n",
              "    </tr>\n",
              "  </tbody>\n",
              "</table>\n",
              "</div>"
            ],
            "text/plain": [
              "          채널  채널별_최종결제금액합\n",
              "1   facebook    825136460\n",
              "2     others    149349690\n",
              "3      naver    111491750\n",
              "4     direct     31337160\n",
              "5      email     30655080\n",
              "6     google     12663480\n",
              "7  instagram      3562620"
            ]
          },
          "execution_count": 37,
          "metadata": {},
          "output_type": "execute_result"
        }
      ],
      "source": [
        "df_channel_results=df1.groupby('채널',as_index=False) \\\n",
        "                      .agg(채널별_최종결제금액합=('최종결제금액','sum')) \\\n",
        "                      .sort_values('채널별_최종결제금액합',ascending=False)\n",
        "                    \n",
        "len=df_channel_results.shape[0]\n",
        "list=[]\n",
        "for i in range(0,7):  #index변환\n",
        "    list.append(i+1)\n",
        "\n",
        "df_channel_results.index=list\n",
        "df_channel_results"
      ]
    },
    {
      "cell_type": "markdown",
      "metadata": {},
      "source": [
        "결제 금액합이 크기떄문에 초기저장의 엑셀너비값으론 금액합 데이터 전체가 다 나오지않아서 -> 너비 수정"
      ]
    },
    {
      "cell_type": "code",
      "execution_count": 38,
      "metadata": {},
      "outputs": [],
      "source": [
        "\n",
        "from openpyxl import load_workbook\n",
        "\n",
        "df_channel_results.to_excel('result1.xlsx')\n",
        "\n",
        "# 엑셀 파일 로드\n",
        "wb = load_workbook('result1.xlsx')\n",
        "ws = wb.active\n",
        "\n",
        "# 각 열의 너비 설정 (엑셀의 컬럼명은 A,B,C,D,E,F,G,H .... 이므로)\n",
        "ws.column_dimensions['B'].width = 10\n",
        "ws.column_dimensions['C'].width = 25\n",
        "\n",
        "# 수정된 내용을 새로운 파일에 저장\n",
        "wb.save('result1.xlsx')\n",
        "wb.close()"
      ]
    },
    {
      "cell_type": "markdown",
      "metadata": {
        "id": "NgzwqKvzq0fW"
      },
      "source": [
        "### 4. '채널'의 빈도수가 높은 상위 3개 항목을 뽑아, 해당 데이터의 '보조식품(추가구매)'에 따른 '최종결제금액'의 합과 평균을 계산하시오.  "
      ]
    },
    {
      "cell_type": "markdown",
      "metadata": {},
      "source": [
        "값분포조사"
      ]
    },
    {
      "cell_type": "code",
      "execution_count": 39,
      "metadata": {
        "id": "4U_iC6gQrH5P"
      },
      "outputs": [
        {
          "data": {
            "text/plain": [
              "구매안함        7520\n",
              "식이요법보조제A    1582\n",
              "식이요법보조제B     388\n",
              "단백질보충제A      340\n",
              "종합비타민A       108\n",
              "단백질보충제B       62\n",
              "Name: 보조식품(추가구매), dtype: int64"
            ]
          },
          "execution_count": 39,
          "metadata": {},
          "output_type": "execute_result"
        }
      ],
      "source": [
        "\n",
        "df1['보조식품(추가구매)'].value_counts()"
      ]
    },
    {
      "cell_type": "markdown",
      "metadata": {},
      "source": [
        "채널의 빈도수가 가장 높은 상위 3개 항목뽑아 리스트로 저장 => query검색때 쓰려고"
      ]
    },
    {
      "cell_type": "code",
      "execution_count": 40,
      "metadata": {},
      "outputs": [
        {
          "data": {
            "text/plain": [
              "['facebook', 'others', 'naver']"
            ]
          },
          "execution_count": 40,
          "metadata": {},
          "output_type": "execute_result"
        }
      ],
      "source": [
        "most_channel_3=df_channel_results.head(3)['채널'].to_list()\n",
        "most_channel_3"
      ]
    },
    {
      "cell_type": "markdown",
      "metadata": {},
      "source": [
        "<!DOCTYPE html>\n",
        "<html lang=\"en\">\n",
        "<head>\n",
        "    <meta charset=\"UTF-8\">\n",
        "    <meta name=\"viewport\" content=\"width=device-width, initial-scale=1.0\">\n",
        "    <title>Colored Text</title>\n",
        "    <style>\n",
        "        .red-text {\n",
        "            color: red;\n",
        "        }\n",
        "    </style>\n",
        "</head>\n",
        "<body>\n",
        "    <p> <span class=\"red-text\">CheckPoint</span>.</p>\n",
        "</body>\n",
        "</html>"
      ]
    },
    {
      "cell_type": "markdown",
      "metadata": {},
      "source": [
        "검색문 실행  \n",
        "**채널의 빈도수가 가장높은 상위3개의 항목을 query로 거르고 보조식품을 groupby하는게 이 문제의 의도인가?**"
      ]
    },
    {
      "cell_type": "markdown",
      "metadata": {},
      "source": [
        "case1. 채널빈도수를 검색문의 결과로 선택(select)했다고 생각했을때의 결과"
      ]
    },
    {
      "cell_type": "code",
      "execution_count": 41,
      "metadata": {},
      "outputs": [
        {
          "data": {
            "text/plain": [
              "<pandas.core.groupby.generic.DataFrameGroupBy object at 0x000001C582EB6DF0>"
            ]
          },
          "execution_count": 41,
          "metadata": {},
          "output_type": "execute_result"
        }
      ],
      "source": [
        "dwf=df1.query('채널 in @most_channel_3')\n",
        "dwf.groupby('채널')\n"
      ]
    },
    {
      "cell_type": "code",
      "execution_count": 42,
      "metadata": {},
      "outputs": [
        {
          "data": {
            "text/html": [
              "<div>\n",
              "<style scoped>\n",
              "    .dataframe tbody tr th:only-of-type {\n",
              "        vertical-align: middle;\n",
              "    }\n",
              "\n",
              "    .dataframe tbody tr th {\n",
              "        vertical-align: top;\n",
              "    }\n",
              "\n",
              "    .dataframe thead th {\n",
              "        text-align: right;\n",
              "    }\n",
              "</style>\n",
              "<table border=\"1\" class=\"dataframe\">\n",
              "  <thead>\n",
              "    <tr style=\"text-align: right;\">\n",
              "      <th></th>\n",
              "      <th>채널</th>\n",
              "      <th>보조식품(추가구매)</th>\n",
              "      <th>보조식품별_최종결제금액합</th>\n",
              "      <th>보조식품별_최종결제금액평균</th>\n",
              "    </tr>\n",
              "  </thead>\n",
              "  <tbody>\n",
              "    <tr>\n",
              "      <th>0</th>\n",
              "      <td>others</td>\n",
              "      <td>구매안함</td>\n",
              "      <td>770197460</td>\n",
              "      <td>112766.831625</td>\n",
              "    </tr>\n",
              "    <tr>\n",
              "      <th>1</th>\n",
              "      <td>others</td>\n",
              "      <td>구매안함</td>\n",
              "      <td>770197460</td>\n",
              "      <td>112766.831625</td>\n",
              "    </tr>\n",
              "    <tr>\n",
              "      <th>2</th>\n",
              "      <td>facebook</td>\n",
              "      <td>식이요법보조제A</td>\n",
              "      <td>199833090</td>\n",
              "      <td>126316.744627</td>\n",
              "    </tr>\n",
              "    <tr>\n",
              "      <th>3</th>\n",
              "      <td>naver</td>\n",
              "      <td>구매안함</td>\n",
              "      <td>770197460</td>\n",
              "      <td>112766.831625</td>\n",
              "    </tr>\n",
              "    <tr>\n",
              "      <th>4</th>\n",
              "      <td>facebook</td>\n",
              "      <td>구매안함</td>\n",
              "      <td>770197460</td>\n",
              "      <td>112766.831625</td>\n",
              "    </tr>\n",
              "    <tr>\n",
              "      <th>...</th>\n",
              "      <td>...</td>\n",
              "      <td>...</td>\n",
              "      <td>...</td>\n",
              "      <td>...</td>\n",
              "    </tr>\n",
              "    <tr>\n",
              "      <th>9995</th>\n",
              "      <td>facebook</td>\n",
              "      <td>구매안함</td>\n",
              "      <td>770197460</td>\n",
              "      <td>112766.831625</td>\n",
              "    </tr>\n",
              "    <tr>\n",
              "      <th>9996</th>\n",
              "      <td>facebook</td>\n",
              "      <td>식이요법보조제A</td>\n",
              "      <td>199833090</td>\n",
              "      <td>126316.744627</td>\n",
              "    </tr>\n",
              "    <tr>\n",
              "      <th>9997</th>\n",
              "      <td>facebook</td>\n",
              "      <td>식이요법보조제A</td>\n",
              "      <td>199833090</td>\n",
              "      <td>126316.744627</td>\n",
              "    </tr>\n",
              "    <tr>\n",
              "      <th>9998</th>\n",
              "      <td>facebook</td>\n",
              "      <td>구매안함</td>\n",
              "      <td>770197460</td>\n",
              "      <td>112766.831625</td>\n",
              "    </tr>\n",
              "    <tr>\n",
              "      <th>9999</th>\n",
              "      <td>others</td>\n",
              "      <td>구매안함</td>\n",
              "      <td>770197460</td>\n",
              "      <td>112766.831625</td>\n",
              "    </tr>\n",
              "  </tbody>\n",
              "</table>\n",
              "<p>10000 rows × 4 columns</p>\n",
              "</div>"
            ],
            "text/plain": [
              "            채널 보조식품(추가구매)  보조식품별_최종결제금액합  보조식품별_최종결제금액평균\n",
              "0       others       구매안함      770197460   112766.831625\n",
              "1       others       구매안함      770197460   112766.831625\n",
              "2     facebook   식이요법보조제A      199833090   126316.744627\n",
              "3        naver       구매안함      770197460   112766.831625\n",
              "4     facebook       구매안함      770197460   112766.831625\n",
              "...        ...        ...            ...             ...\n",
              "9995  facebook       구매안함      770197460   112766.831625\n",
              "9996  facebook   식이요법보조제A      199833090   126316.744627\n",
              "9997  facebook   식이요법보조제A      199833090   126316.744627\n",
              "9998  facebook       구매안함      770197460   112766.831625\n",
              "9999    others       구매안함      770197460   112766.831625\n",
              "\n",
              "[10000 rows x 4 columns]"
            ]
          },
          "execution_count": 42,
          "metadata": {},
          "output_type": "execute_result"
        }
      ],
      "source": [
        "\n",
        "df_chnnelB_results=dwf.groupby('보조식품(추가구매)',as_index=False) \\\n",
        "                      .agg(보조식품별_최종결제금액합=('최종결제금액','sum'), 보조식품별_최종결제금액평균=('최종결제금액','mean')) \\\n",
        "                      .sort_values('보조식품별_최종결제금액합',ascending=False) \\\n",
        "\n",
        "df=df1.copy()          \n",
        "df=pd.merge(df,df_chnnelB_results,on='보조식품(추가구매)',how='left')\n",
        "df.groupby('채널')\n",
        "df.loc[:,['채널','보조식품(추가구매)','보조식품별_최종결제금액합','보조식품별_최종결제금액평균']]"
      ]
    },
    {
      "cell_type": "markdown",
      "metadata": {},
      "source": [
        "case2. 아니면 채널을 포함안시키는경우(빈도수 상위3개의 채널에서만 검색했다고 가정[not select 채널])"
      ]
    },
    {
      "cell_type": "code",
      "execution_count": 43,
      "metadata": {},
      "outputs": [
        {
          "data": {
            "text/html": [
              "<div>\n",
              "<style scoped>\n",
              "    .dataframe tbody tr th:only-of-type {\n",
              "        vertical-align: middle;\n",
              "    }\n",
              "\n",
              "    .dataframe tbody tr th {\n",
              "        vertical-align: top;\n",
              "    }\n",
              "\n",
              "    .dataframe thead th {\n",
              "        text-align: right;\n",
              "    }\n",
              "</style>\n",
              "<table border=\"1\" class=\"dataframe\">\n",
              "  <thead>\n",
              "    <tr style=\"text-align: right;\">\n",
              "      <th></th>\n",
              "      <th>보조식품(추가구매)</th>\n",
              "      <th>보조식품별_최종결제금액합</th>\n",
              "      <th>보조식품별_최종결제금액평균</th>\n",
              "    </tr>\n",
              "  </thead>\n",
              "  <tbody>\n",
              "    <tr>\n",
              "      <th>0</th>\n",
              "      <td>구매안함</td>\n",
              "      <td>770197460</td>\n",
              "      <td>112766.831625</td>\n",
              "    </tr>\n",
              "    <tr>\n",
              "      <th>3</th>\n",
              "      <td>식이요법보조제A</td>\n",
              "      <td>199833090</td>\n",
              "      <td>126316.744627</td>\n",
              "    </tr>\n",
              "    <tr>\n",
              "      <th>4</th>\n",
              "      <td>식이요법보조제B</td>\n",
              "      <td>54792540</td>\n",
              "      <td>141217.886598</td>\n",
              "    </tr>\n",
              "    <tr>\n",
              "      <th>1</th>\n",
              "      <td>단백질보충제A</td>\n",
              "      <td>41403610</td>\n",
              "      <td>128983.208723</td>\n",
              "    </tr>\n",
              "    <tr>\n",
              "      <th>5</th>\n",
              "      <td>종합비타민A</td>\n",
              "      <td>12788580</td>\n",
              "      <td>133214.375000</td>\n",
              "    </tr>\n",
              "    <tr>\n",
              "      <th>2</th>\n",
              "      <td>단백질보충제B</td>\n",
              "      <td>6962620</td>\n",
              "      <td>112300.322581</td>\n",
              "    </tr>\n",
              "  </tbody>\n",
              "</table>\n",
              "</div>"
            ],
            "text/plain": [
              "  보조식품(추가구매)  보조식품별_최종결제금액합  보조식품별_최종결제금액평균\n",
              "0       구매안함      770197460   112766.831625\n",
              "3   식이요법보조제A      199833090   126316.744627\n",
              "4   식이요법보조제B       54792540   141217.886598\n",
              "1    단백질보충제A       41403610   128983.208723\n",
              "5     종합비타민A       12788580   133214.375000\n",
              "2    단백질보충제B        6962620   112300.322581"
            ]
          },
          "execution_count": 43,
          "metadata": {},
          "output_type": "execute_result"
        }
      ],
      "source": [
        "df_chnnelB_results=dwf.groupby('보조식품(추가구매)',as_index=False) \\\n",
        "                      .agg(보조식품별_최종결제금액합=('최종결제금액','sum'), 보조식품별_최종결제금액평균=('최종결제금액','mean')) \\\n",
        "                      .sort_values('보조식품별_최종결제금액합',ascending=False) \n",
        "\n",
        "df_chnnelB_results                   "
      ]
    },
    {
      "cell_type": "markdown",
      "metadata": {
        "id": "FiKu9siPq0fW"
      },
      "source": [
        "### 5. '결제시각'데이터에서 날짜와 시간데이터를 나누어 데이터만 뽑아, '결제날짜'와 '결제시간'파생변수로 각각 선언하시오."
      ]
    },
    {
      "cell_type": "code",
      "execution_count": 44,
      "metadata": {
        "id": "_XTKZF9zrIvT"
      },
      "outputs": [
        {
          "data": {
            "text/plain": [
              "str"
            ]
          },
          "execution_count": 44,
          "metadata": {},
          "output_type": "execute_result"
        }
      ],
      "source": [
        "type(df1['결제시각'][0])"
      ]
    },
    {
      "cell_type": "markdown",
      "metadata": {},
      "source": [
        "결제시각 자체가 str타입이고, 형식은 2017-05-23 오후 8:53:54.368000 의 형식이므로,   \n",
        "1.최초 공백으로 문자열 split을 해서 날짜와 시간을 나누는 방법  \n",
        "2.이 문자열을 datetime의 형태로 변환해서 datetime.date 로 나눠서 datetime객체의 날짜 시간 추출 메소드를 사용하는 방법 \n",
        "\n",
        "2가지 방법이 있다.  \n"
      ]
    },
    {
      "cell_type": "markdown",
      "metadata": {},
      "source": [
        "- 1번방법\n"
      ]
    },
    {
      "cell_type": "code",
      "execution_count": 45,
      "metadata": {},
      "outputs": [
        {
          "data": {
            "text/html": [
              "<div>\n",
              "<style scoped>\n",
              "    .dataframe tbody tr th:only-of-type {\n",
              "        vertical-align: middle;\n",
              "    }\n",
              "\n",
              "    .dataframe tbody tr th {\n",
              "        vertical-align: top;\n",
              "    }\n",
              "\n",
              "    .dataframe thead th {\n",
              "        text-align: right;\n",
              "    }\n",
              "</style>\n",
              "<table border=\"1\" class=\"dataframe\">\n",
              "  <thead>\n",
              "    <tr style=\"text-align: right;\">\n",
              "      <th></th>\n",
              "      <th>회원코드</th>\n",
              "      <th>프로그램</th>\n",
              "      <th>상태</th>\n",
              "      <th>프로그램가격</th>\n",
              "      <th>최종결제금액</th>\n",
              "      <th>결제시각</th>\n",
              "      <th>결제유형</th>\n",
              "      <th>채널</th>\n",
              "      <th>보조식품가격</th>\n",
              "      <th>보조식품(추가구매)</th>\n",
              "      <th>결제날짜</th>\n",
              "      <th>결제시간</th>\n",
              "    </tr>\n",
              "  </thead>\n",
              "  <tbody>\n",
              "    <tr>\n",
              "      <th>0</th>\n",
              "      <td>Y9RY2VSI</td>\n",
              "      <td>체중감량 프로그램 (타입B)</td>\n",
              "      <td>completed</td>\n",
              "      <td>112500</td>\n",
              "      <td>112500</td>\n",
              "      <td>2017-04-14 오후 7:03:29.976000</td>\n",
              "      <td>Recurring</td>\n",
              "      <td>others</td>\n",
              "      <td>0</td>\n",
              "      <td>구매안함</td>\n",
              "      <td>2017-04-14</td>\n",
              "      <td>오후 7:03:29.976000</td>\n",
              "    </tr>\n",
              "    <tr>\n",
              "      <th>1</th>\n",
              "      <td>3GTN3S3B</td>\n",
              "      <td>체중감량 프로그램 (타입B)</td>\n",
              "      <td>completed</td>\n",
              "      <td>44780</td>\n",
              "      <td>44780</td>\n",
              "      <td>2017-05-23 오후 8:53:54.368000</td>\n",
              "      <td>Recurring</td>\n",
              "      <td>others</td>\n",
              "      <td>0</td>\n",
              "      <td>구매안함</td>\n",
              "      <td>2017-05-23</td>\n",
              "      <td>오후 8:53:54.368000</td>\n",
              "    </tr>\n",
              "    <tr>\n",
              "      <th>2</th>\n",
              "      <td>6B0IG276</td>\n",
              "      <td>체중감량 프로그램 (타입 A)</td>\n",
              "      <td>completed</td>\n",
              "      <td>132000</td>\n",
              "      <td>149000</td>\n",
              "      <td>2017-08-23 오후 11:39:21.840000</td>\n",
              "      <td>Recurring</td>\n",
              "      <td>facebook</td>\n",
              "      <td>17000</td>\n",
              "      <td>식이요법보조제A</td>\n",
              "      <td>2017-08-23</td>\n",
              "      <td>오후 11:39:21.840000</td>\n",
              "    </tr>\n",
              "    <tr>\n",
              "      <th>3</th>\n",
              "      <td>EMGRU2MO</td>\n",
              "      <td>체중감량 프로그램 (타입 A)</td>\n",
              "      <td>completed</td>\n",
              "      <td>112500</td>\n",
              "      <td>112500</td>\n",
              "      <td>2017-08-28 오후 8:18:22.824000</td>\n",
              "      <td>Recurring</td>\n",
              "      <td>naver</td>\n",
              "      <td>0</td>\n",
              "      <td>구매안함</td>\n",
              "      <td>2017-08-28</td>\n",
              "      <td>오후 8:18:22.824000</td>\n",
              "    </tr>\n",
              "    <tr>\n",
              "      <th>4</th>\n",
              "      <td>1ELG96TX</td>\n",
              "      <td>체중감량 프로그램 (타입B)</td>\n",
              "      <td>completed</td>\n",
              "      <td>44780</td>\n",
              "      <td>44780</td>\n",
              "      <td>2017-05-07 오후 5:50:30.944000</td>\n",
              "      <td>Recurring</td>\n",
              "      <td>facebook</td>\n",
              "      <td>0</td>\n",
              "      <td>구매안함</td>\n",
              "      <td>2017-05-07</td>\n",
              "      <td>오후 5:50:30.944000</td>\n",
              "    </tr>\n",
              "  </tbody>\n",
              "</table>\n",
              "</div>"
            ],
            "text/plain": [
              "       회원코드              프로그램         상태  프로그램가격  최종결제금액  \\\n",
              "0  Y9RY2VSI   체중감량 프로그램 (타입B)  completed  112500  112500   \n",
              "1  3GTN3S3B   체중감량 프로그램 (타입B)  completed   44780   44780   \n",
              "2  6B0IG276  체중감량 프로그램 (타입 A)  completed  132000  149000   \n",
              "3  EMGRU2MO  체중감량 프로그램 (타입 A)  completed  112500  112500   \n",
              "4  1ELG96TX   체중감량 프로그램 (타입B)  completed   44780   44780   \n",
              "\n",
              "                            결제시각       결제유형        채널  보조식품가격 보조식품(추가구매)  \\\n",
              "0   2017-04-14 오후 7:03:29.976000  Recurring    others       0       구매안함   \n",
              "1   2017-05-23 오후 8:53:54.368000  Recurring    others       0       구매안함   \n",
              "2  2017-08-23 오후 11:39:21.840000  Recurring  facebook   17000   식이요법보조제A   \n",
              "3   2017-08-28 오후 8:18:22.824000  Recurring     naver       0       구매안함   \n",
              "4   2017-05-07 오후 5:50:30.944000  Recurring  facebook       0       구매안함   \n",
              "\n",
              "         결제날짜                결제시간  \n",
              "0  2017-04-14   오후 7:03:29.976000  \n",
              "1  2017-05-23   오후 8:53:54.368000  \n",
              "2  2017-08-23  오후 11:39:21.840000  \n",
              "3  2017-08-28   오후 8:18:22.824000  \n",
              "4  2017-05-07   오후 5:50:30.944000  "
            ]
          },
          "execution_count": 45,
          "metadata": {},
          "output_type": "execute_result"
        }
      ],
      "source": [
        "df1['결제날짜']=df['결제시각'].str.split(' ').str[0] ##시리즈 타입을 문자열로 .str\n",
        "df1['결제시간']=df['결제시각'].str.split(' ').str[1]+' '+df['결제시각'].str.split(' ').str[2]\n",
        "df1.head()"
      ]
    },
    {
      "cell_type": "markdown",
      "metadata": {},
      "source": [
        "- 2번방법"
      ]
    },
    {
      "cell_type": "code",
      "execution_count": 46,
      "metadata": {},
      "outputs": [
        {
          "name": "stdout",
          "output_type": "stream",
          "text": [
            "<class 'pandas.core.series.Series'>\n",
            "Int64Index: 10000 entries, 0 to 9999\n",
            "Series name: 결제시각\n",
            "Non-Null Count  Dtype \n",
            "--------------  ----- \n",
            "10000 non-null  object\n",
            "dtypes: object(1)\n",
            "memory usage: 156.2+ KB\n"
          ]
        }
      ],
      "source": [
        "df['결제시각'].info()"
      ]
    },
    {
      "cell_type": "markdown",
      "metadata": {},
      "source": [
        "결제시각 컬럼데이터를 strptime을 이용해 datetime포맷에 맞게 datetime객체타입으로 변환"
      ]
    },
    {
      "cell_type": "code",
      "execution_count": 47,
      "metadata": {},
      "outputs": [
        {
          "ename": "ValueError",
          "evalue": "time data '2017-04-14 오후 7:03:29.976000' does not match format '%Y-%m-%d %p %I:%M:%S.%f'",
          "output_type": "error",
          "traceback": [
            "\u001b[1;31m---------------------------------------------------------------------------\u001b[0m",
            "\u001b[1;31mValueError\u001b[0m                                Traceback (most recent call last)",
            "\u001b[1;32m~\\AppData\\Local\\Temp\\ipykernel_19160\\2499270701.py\u001b[0m in \u001b[0;36m<module>\u001b[1;34m\u001b[0m\n\u001b[0;32m      1\u001b[0m \u001b[1;32mfrom\u001b[0m \u001b[0mdatetime\u001b[0m \u001b[1;32mimport\u001b[0m \u001b[0mdatetime\u001b[0m\u001b[1;33m\u001b[0m\u001b[1;33m\u001b[0m\u001b[0m\n\u001b[1;32m----> 2\u001b[1;33m \u001b[0mdf\u001b[0m\u001b[1;33m[\u001b[0m\u001b[1;34m'결제시각'\u001b[0m\u001b[1;33m]\u001b[0m\u001b[1;33m.\u001b[0m\u001b[0mapply\u001b[0m\u001b[1;33m(\u001b[0m\u001b[1;32mlambda\u001b[0m \u001b[0m_\u001b[0m \u001b[1;33m:\u001b[0m \u001b[0mdatetime\u001b[0m\u001b[1;33m.\u001b[0m\u001b[0mstrptime\u001b[0m\u001b[1;33m(\u001b[0m\u001b[0m_\u001b[0m\u001b[1;33m,\u001b[0m\u001b[1;34m'%Y-%m-%d %p %I:%M:%S.%f'\u001b[0m\u001b[1;33m)\u001b[0m\u001b[1;33m)\u001b[0m\u001b[1;33m\u001b[0m\u001b[1;33m\u001b[0m\u001b[0m\n\u001b[0m\u001b[0;32m      3\u001b[0m \u001b[0mdf\u001b[0m\u001b[1;33m[\u001b[0m\u001b[1;34m'결제시각'\u001b[0m\u001b[1;33m]\u001b[0m\u001b[1;33m.\u001b[0m\u001b[0minfo\u001b[0m\u001b[1;33m(\u001b[0m\u001b[1;33m)\u001b[0m\u001b[1;33m\u001b[0m\u001b[1;33m\u001b[0m\u001b[0m\n",
            "\u001b[1;32mc:\\Users\\home\\anaconda3\\lib\\site-packages\\pandas\\core\\series.py\u001b[0m in \u001b[0;36mapply\u001b[1;34m(self, func, convert_dtype, args, **kwargs)\u001b[0m\n\u001b[0;32m   4431\u001b[0m         \u001b[0mdtype\u001b[0m\u001b[1;33m:\u001b[0m \u001b[0mfloat64\u001b[0m\u001b[1;33m\u001b[0m\u001b[1;33m\u001b[0m\u001b[0m\n\u001b[0;32m   4432\u001b[0m         \"\"\"\n\u001b[1;32m-> 4433\u001b[1;33m         \u001b[1;32mreturn\u001b[0m \u001b[0mSeriesApply\u001b[0m\u001b[1;33m(\u001b[0m\u001b[0mself\u001b[0m\u001b[1;33m,\u001b[0m \u001b[0mfunc\u001b[0m\u001b[1;33m,\u001b[0m \u001b[0mconvert_dtype\u001b[0m\u001b[1;33m,\u001b[0m \u001b[0margs\u001b[0m\u001b[1;33m,\u001b[0m \u001b[0mkwargs\u001b[0m\u001b[1;33m)\u001b[0m\u001b[1;33m.\u001b[0m\u001b[0mapply\u001b[0m\u001b[1;33m(\u001b[0m\u001b[1;33m)\u001b[0m\u001b[1;33m\u001b[0m\u001b[1;33m\u001b[0m\u001b[0m\n\u001b[0m\u001b[0;32m   4434\u001b[0m \u001b[1;33m\u001b[0m\u001b[0m\n\u001b[0;32m   4435\u001b[0m     def _reduce(\n",
            "\u001b[1;32mc:\\Users\\home\\anaconda3\\lib\\site-packages\\pandas\\core\\apply.py\u001b[0m in \u001b[0;36mapply\u001b[1;34m(self)\u001b[0m\n\u001b[0;32m   1086\u001b[0m             \u001b[1;32mreturn\u001b[0m \u001b[0mself\u001b[0m\u001b[1;33m.\u001b[0m\u001b[0mapply_str\u001b[0m\u001b[1;33m(\u001b[0m\u001b[1;33m)\u001b[0m\u001b[1;33m\u001b[0m\u001b[1;33m\u001b[0m\u001b[0m\n\u001b[0;32m   1087\u001b[0m \u001b[1;33m\u001b[0m\u001b[0m\n\u001b[1;32m-> 1088\u001b[1;33m         \u001b[1;32mreturn\u001b[0m \u001b[0mself\u001b[0m\u001b[1;33m.\u001b[0m\u001b[0mapply_standard\u001b[0m\u001b[1;33m(\u001b[0m\u001b[1;33m)\u001b[0m\u001b[1;33m\u001b[0m\u001b[1;33m\u001b[0m\u001b[0m\n\u001b[0m\u001b[0;32m   1089\u001b[0m \u001b[1;33m\u001b[0m\u001b[0m\n\u001b[0;32m   1090\u001b[0m     \u001b[1;32mdef\u001b[0m \u001b[0magg\u001b[0m\u001b[1;33m(\u001b[0m\u001b[0mself\u001b[0m\u001b[1;33m)\u001b[0m\u001b[1;33m:\u001b[0m\u001b[1;33m\u001b[0m\u001b[1;33m\u001b[0m\u001b[0m\n",
            "\u001b[1;32mc:\\Users\\home\\anaconda3\\lib\\site-packages\\pandas\\core\\apply.py\u001b[0m in \u001b[0;36mapply_standard\u001b[1;34m(self)\u001b[0m\n\u001b[0;32m   1141\u001b[0m                 \u001b[1;31m# List[Union[Callable[..., Any], str]]]]]\"; expected\u001b[0m\u001b[1;33m\u001b[0m\u001b[1;33m\u001b[0m\u001b[0m\n\u001b[0;32m   1142\u001b[0m                 \u001b[1;31m# \"Callable[[Any], Any]\"\u001b[0m\u001b[1;33m\u001b[0m\u001b[1;33m\u001b[0m\u001b[0m\n\u001b[1;32m-> 1143\u001b[1;33m                 mapped = lib.map_infer(\n\u001b[0m\u001b[0;32m   1144\u001b[0m                     \u001b[0mvalues\u001b[0m\u001b[1;33m,\u001b[0m\u001b[1;33m\u001b[0m\u001b[1;33m\u001b[0m\u001b[0m\n\u001b[0;32m   1145\u001b[0m                     \u001b[0mf\u001b[0m\u001b[1;33m,\u001b[0m  \u001b[1;31m# type: ignore[arg-type]\u001b[0m\u001b[1;33m\u001b[0m\u001b[1;33m\u001b[0m\u001b[0m\n",
            "\u001b[1;32mc:\\Users\\home\\anaconda3\\lib\\site-packages\\pandas\\_libs\\lib.pyx\u001b[0m in \u001b[0;36mpandas._libs.lib.map_infer\u001b[1;34m()\u001b[0m\n",
            "\u001b[1;32m~\\AppData\\Local\\Temp\\ipykernel_19160\\2499270701.py\u001b[0m in \u001b[0;36m<lambda>\u001b[1;34m(_)\u001b[0m\n\u001b[0;32m      1\u001b[0m \u001b[1;32mfrom\u001b[0m \u001b[0mdatetime\u001b[0m \u001b[1;32mimport\u001b[0m \u001b[0mdatetime\u001b[0m\u001b[1;33m\u001b[0m\u001b[1;33m\u001b[0m\u001b[0m\n\u001b[1;32m----> 2\u001b[1;33m \u001b[0mdf\u001b[0m\u001b[1;33m[\u001b[0m\u001b[1;34m'결제시각'\u001b[0m\u001b[1;33m]\u001b[0m\u001b[1;33m.\u001b[0m\u001b[0mapply\u001b[0m\u001b[1;33m(\u001b[0m\u001b[1;32mlambda\u001b[0m \u001b[0m_\u001b[0m \u001b[1;33m:\u001b[0m \u001b[0mdatetime\u001b[0m\u001b[1;33m.\u001b[0m\u001b[0mstrptime\u001b[0m\u001b[1;33m(\u001b[0m\u001b[0m_\u001b[0m\u001b[1;33m,\u001b[0m\u001b[1;34m'%Y-%m-%d %p %I:%M:%S.%f'\u001b[0m\u001b[1;33m)\u001b[0m\u001b[1;33m)\u001b[0m\u001b[1;33m\u001b[0m\u001b[1;33m\u001b[0m\u001b[0m\n\u001b[0m\u001b[0;32m      3\u001b[0m \u001b[0mdf\u001b[0m\u001b[1;33m[\u001b[0m\u001b[1;34m'결제시각'\u001b[0m\u001b[1;33m]\u001b[0m\u001b[1;33m.\u001b[0m\u001b[0minfo\u001b[0m\u001b[1;33m(\u001b[0m\u001b[1;33m)\u001b[0m\u001b[1;33m\u001b[0m\u001b[1;33m\u001b[0m\u001b[0m\n",
            "\u001b[1;32mc:\\Users\\home\\anaconda3\\lib\\_strptime.py\u001b[0m in \u001b[0;36m_strptime_datetime\u001b[1;34m(cls, data_string, format)\u001b[0m\n\u001b[0;32m    566\u001b[0m     \"\"\"Return a class cls instance based on the input string and the\n\u001b[0;32m    567\u001b[0m     format string.\"\"\"\n\u001b[1;32m--> 568\u001b[1;33m     \u001b[0mtt\u001b[0m\u001b[1;33m,\u001b[0m \u001b[0mfraction\u001b[0m\u001b[1;33m,\u001b[0m \u001b[0mgmtoff_fraction\u001b[0m \u001b[1;33m=\u001b[0m \u001b[0m_strptime\u001b[0m\u001b[1;33m(\u001b[0m\u001b[0mdata_string\u001b[0m\u001b[1;33m,\u001b[0m \u001b[0mformat\u001b[0m\u001b[1;33m)\u001b[0m\u001b[1;33m\u001b[0m\u001b[1;33m\u001b[0m\u001b[0m\n\u001b[0m\u001b[0;32m    569\u001b[0m     \u001b[0mtzname\u001b[0m\u001b[1;33m,\u001b[0m \u001b[0mgmtoff\u001b[0m \u001b[1;33m=\u001b[0m \u001b[0mtt\u001b[0m\u001b[1;33m[\u001b[0m\u001b[1;33m-\u001b[0m\u001b[1;36m2\u001b[0m\u001b[1;33m:\u001b[0m\u001b[1;33m]\u001b[0m\u001b[1;33m\u001b[0m\u001b[1;33m\u001b[0m\u001b[0m\n\u001b[0;32m    570\u001b[0m     \u001b[0margs\u001b[0m \u001b[1;33m=\u001b[0m \u001b[0mtt\u001b[0m\u001b[1;33m[\u001b[0m\u001b[1;33m:\u001b[0m\u001b[1;36m6\u001b[0m\u001b[1;33m]\u001b[0m \u001b[1;33m+\u001b[0m \u001b[1;33m(\u001b[0m\u001b[0mfraction\u001b[0m\u001b[1;33m,\u001b[0m\u001b[1;33m)\u001b[0m\u001b[1;33m\u001b[0m\u001b[1;33m\u001b[0m\u001b[0m\n",
            "\u001b[1;32mc:\\Users\\home\\anaconda3\\lib\\_strptime.py\u001b[0m in \u001b[0;36m_strptime\u001b[1;34m(data_string, format)\u001b[0m\n\u001b[0;32m    347\u001b[0m     \u001b[0mfound\u001b[0m \u001b[1;33m=\u001b[0m \u001b[0mformat_regex\u001b[0m\u001b[1;33m.\u001b[0m\u001b[0mmatch\u001b[0m\u001b[1;33m(\u001b[0m\u001b[0mdata_string\u001b[0m\u001b[1;33m)\u001b[0m\u001b[1;33m\u001b[0m\u001b[1;33m\u001b[0m\u001b[0m\n\u001b[0;32m    348\u001b[0m     \u001b[1;32mif\u001b[0m \u001b[1;32mnot\u001b[0m \u001b[0mfound\u001b[0m\u001b[1;33m:\u001b[0m\u001b[1;33m\u001b[0m\u001b[1;33m\u001b[0m\u001b[0m\n\u001b[1;32m--> 349\u001b[1;33m         raise ValueError(\"time data %r does not match format %r\" %\n\u001b[0m\u001b[0;32m    350\u001b[0m                          (data_string, format))\n\u001b[0;32m    351\u001b[0m     \u001b[1;32mif\u001b[0m \u001b[0mlen\u001b[0m\u001b[1;33m(\u001b[0m\u001b[0mdata_string\u001b[0m\u001b[1;33m)\u001b[0m \u001b[1;33m!=\u001b[0m \u001b[0mfound\u001b[0m\u001b[1;33m.\u001b[0m\u001b[0mend\u001b[0m\u001b[1;33m(\u001b[0m\u001b[1;33m)\u001b[0m\u001b[1;33m:\u001b[0m\u001b[1;33m\u001b[0m\u001b[1;33m\u001b[0m\u001b[0m\n",
            "\u001b[1;31mValueError\u001b[0m: time data '2017-04-14 오후 7:03:29.976000' does not match format '%Y-%m-%d %p %I:%M:%S.%f'"
          ]
        }
      ],
      "source": [
        "from datetime import datetime\n",
        "df['결제시각'].apply(lambda _ : datetime.strptime(_,'%Y-%m-%d %p %I:%M:%S.%f'))\n",
        "df['결제시각'].info()"
      ]
    },
    {
      "cell_type": "markdown",
      "metadata": {},
      "source": [
        "메소드적용해서 날짜와 시간으로 분리"
      ]
    },
    {
      "cell_type": "code",
      "execution_count": null,
      "metadata": {},
      "outputs": [
        {
          "ename": "TypeError",
          "evalue": "strptime() argument 1 must be str, not StringMethods",
          "output_type": "error",
          "traceback": [
            "\u001b[1;31m---------------------------------------------------------------------------\u001b[0m",
            "\u001b[1;31mTypeError\u001b[0m                                 Traceback (most recent call last)",
            "\u001b[1;32m~\\AppData\\Local\\Temp\\ipykernel_19160\\1905959065.py\u001b[0m in \u001b[0;36m<module>\u001b[1;34m\u001b[0m\n\u001b[0;32m      1\u001b[0m \u001b[1;32mfrom\u001b[0m \u001b[0mdatetime\u001b[0m \u001b[1;32mimport\u001b[0m \u001b[0mdatetime\u001b[0m\u001b[1;33m\u001b[0m\u001b[1;33m\u001b[0m\u001b[0m\n\u001b[1;32m----> 2\u001b[1;33m \u001b[0mdf\u001b[0m\u001b[1;33m[\u001b[0m\u001b[1;34m'날짜'\u001b[0m\u001b[1;33m]\u001b[0m\u001b[1;33m=\u001b[0m\u001b[0mdatetime\u001b[0m\u001b[1;33m.\u001b[0m\u001b[0mstrptime\u001b[0m\u001b[1;33m(\u001b[0m\u001b[0mdf\u001b[0m\u001b[1;33m[\u001b[0m\u001b[1;34m'결제시각'\u001b[0m\u001b[1;33m]\u001b[0m\u001b[1;33m.\u001b[0m\u001b[0mstr\u001b[0m\u001b[1;33m,\u001b[0m\u001b[1;34m'%Y-%m-%d %p %I:%M:%S.%f'\u001b[0m\u001b[1;33m)\u001b[0m\u001b[1;33m.\u001b[0m\u001b[0mdate\u001b[0m\u001b[1;33m(\u001b[0m\u001b[1;33m)\u001b[0m\u001b[1;33m\u001b[0m\u001b[1;33m\u001b[0m\u001b[0m\n\u001b[0m\u001b[0;32m      3\u001b[0m \u001b[0mdf\u001b[0m\u001b[1;33m[\u001b[0m\u001b[1;34m'날짜'\u001b[0m\u001b[1;33m]\u001b[0m\u001b[1;33m=\u001b[0m\u001b[0mdatetime\u001b[0m\u001b[1;33m.\u001b[0m\u001b[0mstrptime\u001b[0m\u001b[1;33m(\u001b[0m\u001b[0mdf\u001b[0m\u001b[1;33m[\u001b[0m\u001b[1;34m'결제시각'\u001b[0m\u001b[1;33m]\u001b[0m\u001b[1;33m.\u001b[0m\u001b[0mstr\u001b[0m\u001b[1;33m,\u001b[0m\u001b[1;34m'%Y-%m-%d %p %I:%M:%S.%f'\u001b[0m\u001b[1;33m)\u001b[0m\u001b[1;33m.\u001b[0m\u001b[0mtime\u001b[0m\u001b[1;33m(\u001b[0m\u001b[1;33m)\u001b[0m\u001b[1;33m\u001b[0m\u001b[1;33m\u001b[0m\u001b[0m\n\u001b[0;32m      4\u001b[0m \u001b[0mdf\u001b[0m\u001b[1;33m.\u001b[0m\u001b[0mhead\u001b[0m\u001b[1;33m(\u001b[0m\u001b[1;33m)\u001b[0m\u001b[1;33m\u001b[0m\u001b[1;33m\u001b[0m\u001b[0m\n",
            "\u001b[1;31mTypeError\u001b[0m: strptime() argument 1 must be str, not StringMethods"
          ]
        }
      ],
      "source": [
        "from datetime import datetime\n",
        "df['결제날짜']=datetime.strptime(df['결제시각'].str,'%Y-%m-%d %p %I:%M:%S.%f').date()\n",
        "df['결제시간']=datetime.strptime(df['결제시각'].str,'%Y-%m-%d %p %I:%M:%S.%f').time()\n",
        "df.head()"
      ]
    },
    {
      "cell_type": "markdown",
      "metadata": {},
      "source": [
        "**하지만 주어진 '객체시각'데이터 문자열 포맷의 '오후','오전' 형식이 datetime.strptime 메소드에는 해당되지 않는 형식이다**  \n",
        "**TypeError: strptime() argument 1 must be str, not StringMethods -> strptime은 1개의 str타입의 데이터 프레임에만 적용되는 함수이다 but 시리즈.str은 stringMethod 타입**"
      ]
    },
    {
      "cell_type": "markdown",
      "metadata": {},
      "source": [
        "- &결론 pd_datetime, datetime.strptime으로 변환하기엔 맞지않는 문자열 포맷이다 "
      ]
    },
    {
      "cell_type": "markdown",
      "metadata": {},
      "source": [
        "- + 추가적으로 datetime.parser 를 이용한 datetime으로 파싱하는 방법이 있는데 역시 datetime형식에 맞지 않는 데이터에는 권장되지 않는것같다."
      ]
    },
    {
      "cell_type": "markdown",
      "metadata": {
        "id": "zFz5emi-q0fX"
      },
      "source": [
        "### 6. 앞서 추출된 '결제날짜'데이터를 이용하여, '연도' / '월' / '일' 데이터를 추출하시오."
      ]
    },
    {
      "cell_type": "markdown",
      "metadata": {},
      "source": [
        "이번엔 datetime객체의 문자열포맷에 맞는 데이터를 이용하므로 datetime으로 형변환후 datetime의 객체 의 메소드를 활용해보도록 하겠다"
      ]
    },
    {
      "cell_type": "code",
      "execution_count": 49,
      "metadata": {
        "id": "wi53P2ACrJiA"
      },
      "outputs": [],
      "source": [
        "import pandas as pd\n",
        "df1['결제날짜'] = pd.to_datetime(df1['결제날짜'], format='%Y-%m-%d')"
      ]
    },
    {
      "cell_type": "code",
      "execution_count": 50,
      "metadata": {},
      "outputs": [
        {
          "name": "stdout",
          "output_type": "stream",
          "text": [
            "<class 'pandas.core.series.Series'>\n",
            "RangeIndex: 10000 entries, 0 to 9999\n",
            "Series name: 결제날짜\n",
            "Non-Null Count  Dtype         \n",
            "--------------  -----         \n",
            "10000 non-null  datetime64[ns]\n",
            "dtypes: datetime64[ns](1)\n",
            "memory usage: 78.2 KB\n"
          ]
        }
      ],
      "source": [
        "df1['결제날짜'].info()"
      ]
    },
    {
      "cell_type": "code",
      "execution_count": 51,
      "metadata": {},
      "outputs": [
        {
          "data": {
            "text/plain": [
              "0   2017-04-14\n",
              "1   2017-05-23\n",
              "2   2017-08-23\n",
              "3   2017-08-28\n",
              "4   2017-05-07\n",
              "Name: 결제날짜, dtype: datetime64[ns]"
            ]
          },
          "execution_count": 51,
          "metadata": {},
          "output_type": "execute_result"
        }
      ],
      "source": [
        "df1['결제날짜'].head()"
      ]
    },
    {
      "cell_type": "code",
      "execution_count": 52,
      "metadata": {},
      "outputs": [
        {
          "data": {
            "text/plain": [
              "0       2017-04-14\n",
              "1       2017-05-23\n",
              "2       2017-08-23\n",
              "3       2017-08-28\n",
              "4       2017-05-07\n",
              "           ...    \n",
              "9995    2017-04-18\n",
              "9996    2017-08-16\n",
              "9997    2017-08-09\n",
              "9998    2017-04-28\n",
              "9999    2017-06-02\n",
              "Name: 결제날짜, Length: 10000, dtype: object"
            ]
          },
          "execution_count": 52,
          "metadata": {},
          "output_type": "execute_result"
        }
      ],
      "source": [
        "df1['결제날짜'].dt.date #시리즈 타입인 df1['결제날짜'] 를 datetime객체로 이용하기 위해 .dt 로 변환후 메소드 사용"
      ]
    },
    {
      "cell_type": "code",
      "execution_count": 53,
      "metadata": {},
      "outputs": [
        {
          "data": {
            "text/plain": [
              "0       2017\n",
              "1       2017\n",
              "2       2017\n",
              "3       2017\n",
              "4       2017\n",
              "        ... \n",
              "9995    2017\n",
              "9996    2017\n",
              "9997    2017\n",
              "9998    2017\n",
              "9999    2017\n",
              "Name: 결제날짜, Length: 10000, dtype: int64"
            ]
          },
          "execution_count": 53,
          "metadata": {},
          "output_type": "execute_result"
        }
      ],
      "source": [
        "df1['결제날짜'].dt.year "
      ]
    },
    {
      "cell_type": "code",
      "execution_count": 55,
      "metadata": {},
      "outputs": [
        {
          "data": {
            "text/plain": [
              "0       4\n",
              "1       5\n",
              "2       8\n",
              "3       8\n",
              "4       5\n",
              "       ..\n",
              "9995    4\n",
              "9996    8\n",
              "9997    8\n",
              "9998    4\n",
              "9999    6\n",
              "Name: 결제날짜, Length: 10000, dtype: int64"
            ]
          },
          "execution_count": 55,
          "metadata": {},
          "output_type": "execute_result"
        }
      ],
      "source": [
        "df1['결제날짜'].dt.month"
      ]
    },
    {
      "cell_type": "code",
      "execution_count": 54,
      "metadata": {},
      "outputs": [
        {
          "data": {
            "text/plain": [
              "0       14\n",
              "1       23\n",
              "2       23\n",
              "3       28\n",
              "4        7\n",
              "        ..\n",
              "9995    18\n",
              "9996    16\n",
              "9997     9\n",
              "9998    28\n",
              "9999     2\n",
              "Name: 결제날짜, Length: 10000, dtype: int64"
            ]
          },
          "execution_count": 54,
          "metadata": {},
          "output_type": "execute_result"
        }
      ],
      "source": [
        "df1['결제날짜'].dt.day"
      ]
    },
    {
      "cell_type": "markdown",
      "metadata": {
        "id": "rzXcA2rnq0fX"
      },
      "source": [
        "### 7. 결제 '월'별 '최종결제금액'의 합을 계산하시오."
      ]
    },
    {
      "cell_type": "markdown",
      "metadata": {},
      "source": [
        "파생변수 선언"
      ]
    },
    {
      "cell_type": "code",
      "execution_count": 56,
      "metadata": {
        "id": "CJHslrElrKQo"
      },
      "outputs": [],
      "source": [
        "df1['결제월']=df1['결제날짜'].dt.month"
      ]
    },
    {
      "cell_type": "code",
      "execution_count": 57,
      "metadata": {},
      "outputs": [
        {
          "name": "stdout",
          "output_type": "stream",
          "text": [
            "<class 'pandas.core.series.Series'>\n",
            "RangeIndex: 10000 entries, 0 to 9999\n",
            "Series name: 결제월\n",
            "Non-Null Count  Dtype\n",
            "--------------  -----\n",
            "10000 non-null  int64\n",
            "dtypes: int64(1)\n",
            "memory usage: 78.2 KB\n"
          ]
        }
      ],
      "source": [
        "df1['결제월'].info()"
      ]
    },
    {
      "cell_type": "code",
      "execution_count": 59,
      "metadata": {},
      "outputs": [
        {
          "data": {
            "text/html": [
              "<div>\n",
              "<style scoped>\n",
              "    .dataframe tbody tr th:only-of-type {\n",
              "        vertical-align: middle;\n",
              "    }\n",
              "\n",
              "    .dataframe tbody tr th {\n",
              "        vertical-align: top;\n",
              "    }\n",
              "\n",
              "    .dataframe thead th {\n",
              "        text-align: right;\n",
              "    }\n",
              "</style>\n",
              "<table border=\"1\" class=\"dataframe\">\n",
              "  <thead>\n",
              "    <tr style=\"text-align: right;\">\n",
              "      <th></th>\n",
              "      <th>결제월</th>\n",
              "      <th>최종결제금액합</th>\n",
              "    </tr>\n",
              "  </thead>\n",
              "  <tbody>\n",
              "    <tr>\n",
              "      <th>0</th>\n",
              "      <td>3</td>\n",
              "      <td>67579200</td>\n",
              "    </tr>\n",
              "    <tr>\n",
              "      <th>1</th>\n",
              "      <td>4</td>\n",
              "      <td>133340640</td>\n",
              "    </tr>\n",
              "    <tr>\n",
              "      <th>2</th>\n",
              "      <td>5</td>\n",
              "      <td>185577300</td>\n",
              "    </tr>\n",
              "    <tr>\n",
              "      <th>3</th>\n",
              "      <td>6</td>\n",
              "      <td>203945100</td>\n",
              "    </tr>\n",
              "    <tr>\n",
              "      <th>4</th>\n",
              "      <td>7</td>\n",
              "      <td>178364700</td>\n",
              "    </tr>\n",
              "    <tr>\n",
              "      <th>5</th>\n",
              "      <td>8</td>\n",
              "      <td>395389300</td>\n",
              "    </tr>\n",
              "  </tbody>\n",
              "</table>\n",
              "</div>"
            ],
            "text/plain": [
              "   결제월    최종결제금액합\n",
              "0    3   67579200\n",
              "1    4  133340640\n",
              "2    5  185577300\n",
              "3    6  203945100\n",
              "4    7  178364700\n",
              "5    8  395389300"
            ]
          },
          "execution_count": 59,
          "metadata": {},
          "output_type": "execute_result"
        }
      ],
      "source": [
        "final_AmountOfPayment=df1.groupby('결제월',as_index=False) \\\n",
        "                         .agg(최종결제금액합=('최종결제금액','sum')) \\\n",
        "                         .sort_values('결제월',ascending=True)\n",
        "\n",
        "final_AmountOfPayment"
      ]
    },
    {
      "cell_type": "markdown",
      "metadata": {
        "id": "GECm-xIlq0fX"
      },
      "source": [
        "### 8. '최종결제금액'이 높은 30명의 고객 명단을 추출하여, result2.xlsx로 선언하시오."
      ]
    },
    {
      "cell_type": "code",
      "execution_count": 66,
      "metadata": {
        "id": "MRROuBm4rLM5"
      },
      "outputs": [
        {
          "data": {
            "text/html": [
              "<div>\n",
              "<style scoped>\n",
              "    .dataframe tbody tr th:only-of-type {\n",
              "        vertical-align: middle;\n",
              "    }\n",
              "\n",
              "    .dataframe tbody tr th {\n",
              "        vertical-align: top;\n",
              "    }\n",
              "\n",
              "    .dataframe thead th {\n",
              "        text-align: right;\n",
              "    }\n",
              "</style>\n",
              "<table border=\"1\" class=\"dataframe\">\n",
              "  <thead>\n",
              "    <tr style=\"text-align: right;\">\n",
              "      <th></th>\n",
              "      <th>회원코드</th>\n",
              "      <th>프로그램</th>\n",
              "      <th>상태</th>\n",
              "      <th>프로그램가격</th>\n",
              "      <th>최종결제금액</th>\n",
              "      <th>결제시각</th>\n",
              "      <th>결제유형</th>\n",
              "      <th>채널</th>\n",
              "      <th>보조식품가격</th>\n",
              "      <th>보조식품(추가구매)</th>\n",
              "      <th>결제날짜</th>\n",
              "      <th>결제시간</th>\n",
              "      <th>결제월</th>\n",
              "    </tr>\n",
              "  </thead>\n",
              "  <tbody>\n",
              "    <tr>\n",
              "      <th>4165</th>\n",
              "      <td>35OZZBQ9</td>\n",
              "      <td>체중감량 프로그램 (타입 A)</td>\n",
              "      <td>completed</td>\n",
              "      <td>177000</td>\n",
              "      <td>210000</td>\n",
              "      <td>2017-06-03 오후 7:29:35.368000</td>\n",
              "      <td>Recurring</td>\n",
              "      <td>facebook</td>\n",
              "      <td>33000</td>\n",
              "      <td>식이요법보조제B</td>\n",
              "      <td>2017-06-03</td>\n",
              "      <td>오후 7:29:35.368000</td>\n",
              "      <td>6</td>\n",
              "    </tr>\n",
              "    <tr>\n",
              "      <th>4928</th>\n",
              "      <td>JDH0HI93</td>\n",
              "      <td>체중감량 프로그램 (타입 A)</td>\n",
              "      <td>completed</td>\n",
              "      <td>177000</td>\n",
              "      <td>194000</td>\n",
              "      <td>2017-06-05 오후 1:27:24.872000</td>\n",
              "      <td>Recurring</td>\n",
              "      <td>facebook</td>\n",
              "      <td>17000</td>\n",
              "      <td>식이요법보조제A</td>\n",
              "      <td>2017-06-05</td>\n",
              "      <td>오후 1:27:24.872000</td>\n",
              "      <td>6</td>\n",
              "    </tr>\n",
              "    <tr>\n",
              "      <th>2736</th>\n",
              "      <td>27QV33L6</td>\n",
              "      <td>체중감량 프로그램 (타입 A)</td>\n",
              "      <td>cancelled</td>\n",
              "      <td>177000</td>\n",
              "      <td>194000</td>\n",
              "      <td>2017-06-03 오후 9:49:06.408000</td>\n",
              "      <td>Recurring</td>\n",
              "      <td>facebook</td>\n",
              "      <td>0</td>\n",
              "      <td>구매안함</td>\n",
              "      <td>2017-06-03</td>\n",
              "      <td>오후 9:49:06.408000</td>\n",
              "      <td>6</td>\n",
              "    </tr>\n",
              "    <tr>\n",
              "      <th>3471</th>\n",
              "      <td>CR33FGED</td>\n",
              "      <td>체중감량 프로그램 (타입 A)</td>\n",
              "      <td>cancelled</td>\n",
              "      <td>177000</td>\n",
              "      <td>194000</td>\n",
              "      <td>2017-06-03 오후 6:06:02.296000</td>\n",
              "      <td>Recurring</td>\n",
              "      <td>facebook</td>\n",
              "      <td>0</td>\n",
              "      <td>구매안함</td>\n",
              "      <td>2017-06-03</td>\n",
              "      <td>오후 6:06:02.296000</td>\n",
              "      <td>6</td>\n",
              "    </tr>\n",
              "    <tr>\n",
              "      <th>8057</th>\n",
              "      <td>D8V97HTG</td>\n",
              "      <td>체중감량 프로그램 (타입 A)</td>\n",
              "      <td>completed</td>\n",
              "      <td>177000</td>\n",
              "      <td>194000</td>\n",
              "      <td>2017-06-03 오후 6:18:14.296000</td>\n",
              "      <td>Recurring</td>\n",
              "      <td>facebook</td>\n",
              "      <td>17000</td>\n",
              "      <td>식이요법보조제A</td>\n",
              "      <td>2017-06-03</td>\n",
              "      <td>오후 6:18:14.296000</td>\n",
              "      <td>6</td>\n",
              "    </tr>\n",
              "  </tbody>\n",
              "</table>\n",
              "</div>"
            ],
            "text/plain": [
              "          회원코드              프로그램         상태  프로그램가격  최종결제금액  \\\n",
              "4165  35OZZBQ9  체중감량 프로그램 (타입 A)  completed  177000  210000   \n",
              "4928  JDH0HI93  체중감량 프로그램 (타입 A)  completed  177000  194000   \n",
              "2736  27QV33L6  체중감량 프로그램 (타입 A)  cancelled  177000  194000   \n",
              "3471  CR33FGED  체중감량 프로그램 (타입 A)  cancelled  177000  194000   \n",
              "8057  D8V97HTG  체중감량 프로그램 (타입 A)  completed  177000  194000   \n",
              "\n",
              "                              결제시각       결제유형        채널  보조식품가격 보조식품(추가구매)  \\\n",
              "4165  2017-06-03 오후 7:29:35.368000  Recurring  facebook   33000   식이요법보조제B   \n",
              "4928  2017-06-05 오후 1:27:24.872000  Recurring  facebook   17000   식이요법보조제A   \n",
              "2736  2017-06-03 오후 9:49:06.408000  Recurring  facebook       0       구매안함   \n",
              "3471  2017-06-03 오후 6:06:02.296000  Recurring  facebook       0       구매안함   \n",
              "8057  2017-06-03 오후 6:18:14.296000  Recurring  facebook   17000   식이요법보조제A   \n",
              "\n",
              "           결제날짜               결제시간  결제월  \n",
              "4165 2017-06-03  오후 7:29:35.368000    6  \n",
              "4928 2017-06-05  오후 1:27:24.872000    6  \n",
              "2736 2017-06-03  오후 9:49:06.408000    6  \n",
              "3471 2017-06-03  오후 6:06:02.296000    6  \n",
              "8057 2017-06-03  오후 6:18:14.296000    6  "
            ]
          },
          "metadata": {},
          "output_type": "display_data"
        }
      ],
      "source": [
        "df1.sort_values('최종결제금액',ascending=False,inplace=True)\n",
        "high30=df1.head(30)\n",
        "type(high30)\n",
        "display(high30.head(5))\n"
      ]
    },
    {
      "cell_type": "markdown",
      "metadata": {},
      "source": [
        "순서대로 보기 쉽게 인덱스 번호 오름차순 설정"
      ]
    },
    {
      "cell_type": "code",
      "execution_count": 77,
      "metadata": {},
      "outputs": [
        {
          "data": {
            "text/html": [
              "<div>\n",
              "<style scoped>\n",
              "    .dataframe tbody tr th:only-of-type {\n",
              "        vertical-align: middle;\n",
              "    }\n",
              "\n",
              "    .dataframe tbody tr th {\n",
              "        vertical-align: top;\n",
              "    }\n",
              "\n",
              "    .dataframe thead th {\n",
              "        text-align: right;\n",
              "    }\n",
              "</style>\n",
              "<table border=\"1\" class=\"dataframe\">\n",
              "  <thead>\n",
              "    <tr style=\"text-align: right;\">\n",
              "      <th></th>\n",
              "      <th>회원코드</th>\n",
              "      <th>프로그램</th>\n",
              "      <th>상태</th>\n",
              "      <th>프로그램가격</th>\n",
              "      <th>최종결제금액</th>\n",
              "      <th>결제시각</th>\n",
              "      <th>결제유형</th>\n",
              "      <th>채널</th>\n",
              "      <th>보조식품가격</th>\n",
              "      <th>보조식품(추가구매)</th>\n",
              "      <th>결제날짜</th>\n",
              "      <th>결제시간</th>\n",
              "      <th>결제월</th>\n",
              "    </tr>\n",
              "  </thead>\n",
              "  <tbody>\n",
              "    <tr>\n",
              "      <th>1</th>\n",
              "      <td>35OZZBQ9</td>\n",
              "      <td>체중감량 프로그램 (타입 A)</td>\n",
              "      <td>completed</td>\n",
              "      <td>177000</td>\n",
              "      <td>210000</td>\n",
              "      <td>2017-06-03 오후 7:29:35.368000</td>\n",
              "      <td>Recurring</td>\n",
              "      <td>facebook</td>\n",
              "      <td>33000</td>\n",
              "      <td>식이요법보조제B</td>\n",
              "      <td>2017-06-03</td>\n",
              "      <td>오후 7:29:35.368000</td>\n",
              "      <td>6</td>\n",
              "    </tr>\n",
              "    <tr>\n",
              "      <th>2</th>\n",
              "      <td>JDH0HI93</td>\n",
              "      <td>체중감량 프로그램 (타입 A)</td>\n",
              "      <td>completed</td>\n",
              "      <td>177000</td>\n",
              "      <td>194000</td>\n",
              "      <td>2017-06-05 오후 1:27:24.872000</td>\n",
              "      <td>Recurring</td>\n",
              "      <td>facebook</td>\n",
              "      <td>17000</td>\n",
              "      <td>식이요법보조제A</td>\n",
              "      <td>2017-06-05</td>\n",
              "      <td>오후 1:27:24.872000</td>\n",
              "      <td>6</td>\n",
              "    </tr>\n",
              "    <tr>\n",
              "      <th>3</th>\n",
              "      <td>27QV33L6</td>\n",
              "      <td>체중감량 프로그램 (타입 A)</td>\n",
              "      <td>cancelled</td>\n",
              "      <td>177000</td>\n",
              "      <td>194000</td>\n",
              "      <td>2017-06-03 오후 9:49:06.408000</td>\n",
              "      <td>Recurring</td>\n",
              "      <td>facebook</td>\n",
              "      <td>0</td>\n",
              "      <td>구매안함</td>\n",
              "      <td>2017-06-03</td>\n",
              "      <td>오후 9:49:06.408000</td>\n",
              "      <td>6</td>\n",
              "    </tr>\n",
              "    <tr>\n",
              "      <th>4</th>\n",
              "      <td>CR33FGED</td>\n",
              "      <td>체중감량 프로그램 (타입 A)</td>\n",
              "      <td>cancelled</td>\n",
              "      <td>177000</td>\n",
              "      <td>194000</td>\n",
              "      <td>2017-06-03 오후 6:06:02.296000</td>\n",
              "      <td>Recurring</td>\n",
              "      <td>facebook</td>\n",
              "      <td>0</td>\n",
              "      <td>구매안함</td>\n",
              "      <td>2017-06-03</td>\n",
              "      <td>오후 6:06:02.296000</td>\n",
              "      <td>6</td>\n",
              "    </tr>\n",
              "    <tr>\n",
              "      <th>5</th>\n",
              "      <td>D8V97HTG</td>\n",
              "      <td>체중감량 프로그램 (타입 A)</td>\n",
              "      <td>completed</td>\n",
              "      <td>177000</td>\n",
              "      <td>194000</td>\n",
              "      <td>2017-06-03 오후 6:18:14.296000</td>\n",
              "      <td>Recurring</td>\n",
              "      <td>facebook</td>\n",
              "      <td>17000</td>\n",
              "      <td>식이요법보조제A</td>\n",
              "      <td>2017-06-03</td>\n",
              "      <td>오후 6:18:14.296000</td>\n",
              "      <td>6</td>\n",
              "    </tr>\n",
              "  </tbody>\n",
              "</table>\n",
              "</div>"
            ],
            "text/plain": [
              "       회원코드              프로그램         상태  프로그램가격  최종결제금액  \\\n",
              "1  35OZZBQ9  체중감량 프로그램 (타입 A)  completed  177000  210000   \n",
              "2  JDH0HI93  체중감량 프로그램 (타입 A)  completed  177000  194000   \n",
              "3  27QV33L6  체중감량 프로그램 (타입 A)  cancelled  177000  194000   \n",
              "4  CR33FGED  체중감량 프로그램 (타입 A)  cancelled  177000  194000   \n",
              "5  D8V97HTG  체중감량 프로그램 (타입 A)  completed  177000  194000   \n",
              "\n",
              "                           결제시각       결제유형        채널  보조식품가격 보조식품(추가구매)  \\\n",
              "1  2017-06-03 오후 7:29:35.368000  Recurring  facebook   33000   식이요법보조제B   \n",
              "2  2017-06-05 오후 1:27:24.872000  Recurring  facebook   17000   식이요법보조제A   \n",
              "3  2017-06-03 오후 9:49:06.408000  Recurring  facebook       0       구매안함   \n",
              "4  2017-06-03 오후 6:06:02.296000  Recurring  facebook       0       구매안함   \n",
              "5  2017-06-03 오후 6:18:14.296000  Recurring  facebook   17000   식이요법보조제A   \n",
              "\n",
              "        결제날짜               결제시간  결제월  \n",
              "1 2017-06-03  오후 7:29:35.368000    6  \n",
              "2 2017-06-05  오후 1:27:24.872000    6  \n",
              "3 2017-06-03  오후 9:49:06.408000    6  \n",
              "4 2017-06-03  오후 6:06:02.296000    6  \n",
              "5 2017-06-03  오후 6:18:14.296000    6  "
            ]
          },
          "execution_count": 77,
          "metadata": {},
          "output_type": "execute_result"
        }
      ],
      "source": [
        "my_list = [i for i in range(1, high30.shape[0]+1)]\n",
        "high30.index=my_list\n",
        "high30.head()"
      ]
    },
    {
      "cell_type": "markdown",
      "metadata": {},
      "source": [
        "1.고객데이터 전체(하나의 튜플)을 30개를 뽑을건지  \n",
        "2.회원코드 컬럼데이터만 30개를 뽑을건지"
      ]
    },
    {
      "cell_type": "code",
      "execution_count": null,
      "metadata": {},
      "outputs": [],
      "source": [
        "#1번으로 풀엇을경우\n",
        "\n",
        "#high30.to_excel('result2.xlsx')"
      ]
    },
    {
      "cell_type": "code",
      "execution_count": 72,
      "metadata": {},
      "outputs": [
        {
          "data": {
            "text/html": [
              "<div>\n",
              "<style scoped>\n",
              "    .dataframe tbody tr th:only-of-type {\n",
              "        vertical-align: middle;\n",
              "    }\n",
              "\n",
              "    .dataframe tbody tr th {\n",
              "        vertical-align: top;\n",
              "    }\n",
              "\n",
              "    .dataframe thead th {\n",
              "        text-align: right;\n",
              "    }\n",
              "</style>\n",
              "<table border=\"1\" class=\"dataframe\">\n",
              "  <thead>\n",
              "    <tr style=\"text-align: right;\">\n",
              "      <th></th>\n",
              "      <th>회원코드</th>\n",
              "    </tr>\n",
              "  </thead>\n",
              "  <tbody>\n",
              "    <tr>\n",
              "      <th>1</th>\n",
              "      <td>35OZZBQ9</td>\n",
              "    </tr>\n",
              "    <tr>\n",
              "      <th>2</th>\n",
              "      <td>JDH0HI93</td>\n",
              "    </tr>\n",
              "    <tr>\n",
              "      <th>3</th>\n",
              "      <td>27QV33L6</td>\n",
              "    </tr>\n",
              "    <tr>\n",
              "      <th>4</th>\n",
              "      <td>CR33FGED</td>\n",
              "    </tr>\n",
              "    <tr>\n",
              "      <th>5</th>\n",
              "      <td>D8V97HTG</td>\n",
              "    </tr>\n",
              "  </tbody>\n",
              "</table>\n",
              "</div>"
            ],
            "text/plain": [
              "       회원코드\n",
              "1  35OZZBQ9\n",
              "2  JDH0HI93\n",
              "3  27QV33L6\n",
              "4  CR33FGED\n",
              "5  D8V97HTG"
            ]
          },
          "execution_count": 72,
          "metadata": {},
          "output_type": "execute_result"
        }
      ],
      "source": [
        "#2번으로 풀었을경우\n",
        "\n",
        "high30_member=high30.loc[:,['회원코드']]\n",
        "high30_member.head()"
      ]
    },
    {
      "cell_type": "code",
      "execution_count": 75,
      "metadata": {},
      "outputs": [],
      "source": [
        "from openpyxl import load_workbook\n",
        "\n",
        "high30_member.to_excel('result2.xlsx')\n",
        "\n",
        "# 엑셀 파일 로드\n",
        "wb = load_workbook('result2.xlsx')\n",
        "ws = wb.active\n",
        "\n",
        "# 각 열의 너비 설정 (엑셀의 컬럼명은 A,B,C,D,E,F,G,H .... 이므로)\n",
        "ws.column_dimensions['B'].width = 19\n",
        "\n",
        "\n",
        "# 수정된 내용을 새로운 파일에 저장\n",
        "wb.save('result2.xlsx')\n",
        "wb.close()"
      ]
    },
    {
      "cell_type": "markdown",
      "metadata": {
        "id": "kHg4eyExq0fX"
      },
      "source": [
        "### 9. '상태'가 completed에 해당하는 데이터만 뽑아, '채널'별 '최종결제금액'의 합을 계산하시오."
      ]
    },
    {
      "cell_type": "code",
      "execution_count": 76,
      "metadata": {
        "id": "0U_P-z5zrL1l"
      },
      "outputs": [
        {
          "data": {
            "text/html": [
              "<div>\n",
              "<style scoped>\n",
              "    .dataframe tbody tr th:only-of-type {\n",
              "        vertical-align: middle;\n",
              "    }\n",
              "\n",
              "    .dataframe tbody tr th {\n",
              "        vertical-align: top;\n",
              "    }\n",
              "\n",
              "    .dataframe thead th {\n",
              "        text-align: right;\n",
              "    }\n",
              "</style>\n",
              "<table border=\"1\" class=\"dataframe\">\n",
              "  <thead>\n",
              "    <tr style=\"text-align: right;\">\n",
              "      <th></th>\n",
              "      <th>채널</th>\n",
              "      <th>최종결제금액합</th>\n",
              "    </tr>\n",
              "  </thead>\n",
              "  <tbody>\n",
              "    <tr>\n",
              "      <th>2</th>\n",
              "      <td>facebook</td>\n",
              "      <td>437954060</td>\n",
              "    </tr>\n",
              "    <tr>\n",
              "      <th>6</th>\n",
              "      <td>others</td>\n",
              "      <td>83813430</td>\n",
              "    </tr>\n",
              "    <tr>\n",
              "      <th>5</th>\n",
              "      <td>naver</td>\n",
              "      <td>63103330</td>\n",
              "    </tr>\n",
              "    <tr>\n",
              "      <th>0</th>\n",
              "      <td>direct</td>\n",
              "      <td>17538760</td>\n",
              "    </tr>\n",
              "    <tr>\n",
              "      <th>1</th>\n",
              "      <td>email</td>\n",
              "      <td>17475380</td>\n",
              "    </tr>\n",
              "    <tr>\n",
              "      <th>3</th>\n",
              "      <td>google</td>\n",
              "      <td>7017240</td>\n",
              "    </tr>\n",
              "    <tr>\n",
              "      <th>4</th>\n",
              "      <td>instagram</td>\n",
              "      <td>1890780</td>\n",
              "    </tr>\n",
              "  </tbody>\n",
              "</table>\n",
              "</div>"
            ],
            "text/plain": [
              "          채널    최종결제금액합\n",
              "2   facebook  437954060\n",
              "6     others   83813430\n",
              "5      naver   63103330\n",
              "0     direct   17538760\n",
              "1      email   17475380\n",
              "3     google    7017240\n",
              "4  instagram    1890780"
            ]
          },
          "execution_count": 76,
          "metadata": {},
          "output_type": "execute_result"
        }
      ],
      "source": [
        "completed_channel_Payment=df1.query('상태==\"completed\"') \\\n",
        "                             .groupby('채널',as_index=False) \\\n",
        "                             .agg(최종결제금액합=('최종결제금액','sum')) \\\n",
        "                             .sort_values('최종결제금액합',ascending=False)\n",
        "\n",
        "completed_channel_Payment"
      ]
    }
  ],
  "metadata": {
    "colab": {
      "provenance": []
    },
    "kernelspec": {
      "display_name": "Python 3 (ipykernel)",
      "language": "python",
      "name": "python3"
    },
    "language_info": {
      "codemirror_mode": {
        "name": "ipython",
        "version": 3
      },
      "file_extension": ".py",
      "mimetype": "text/x-python",
      "name": "python",
      "nbconvert_exporter": "python",
      "pygments_lexer": "ipython3",
      "version": "3.9.13"
    }
  },
  "nbformat": 4,
  "nbformat_minor": 0
}
